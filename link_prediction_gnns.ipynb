{
  "cells": [
    {
      "cell_type": "code",
      "execution_count": null,
      "metadata": {
        "colab": {
          "base_uri": "https://localhost:8080/"
        },
        "id": "7e97ee7a",
        "outputId": "0481c550-56d9-4785-b94c-9e7f0843c4d6"
      },
      "outputs": [
        {
          "name": "stdout",
          "output_type": "stream",
          "text": [
            "Collecting sentence_transformers\n",
            "  Downloading sentence-transformers-2.2.2.tar.gz (85 kB)\n",
            "\u001b[2K     \u001b[90m━━━━━━━━━━━━━━━━━━━━━━━━━━━━━━━━━━━━━━━━\u001b[0m \u001b[32m86.0/86.0 kB\u001b[0m \u001b[31m1.5 MB/s\u001b[0m eta \u001b[36m0:00:00\u001b[0m\n",
            "\u001b[?25h  Preparing metadata (setup.py) ... \u001b[?25l\u001b[?25hdone\n",
            "Collecting neo4j\n",
            "  Downloading neo4j-5.11.0.tar.gz (188 kB)\n",
            "\u001b[2K     \u001b[90m━━━━━━━━━━━━━━━━━━━━━━━━━━━━━━━━━━━━━━━\u001b[0m \u001b[32m188.4/188.4 kB\u001b[0m \u001b[31m5.9 MB/s\u001b[0m eta \u001b[36m0:00:00\u001b[0m\n",
            "\u001b[?25h  Installing build dependencies ... \u001b[?25l\u001b[?25hdone\n",
            "  Getting requirements to build wheel ... \u001b[?25l\u001b[?25hdone\n",
            "  Installing backend dependencies ... \u001b[?25l\u001b[?25hdone\n",
            "  Preparing metadata (pyproject.toml) ... \u001b[?25l\u001b[?25hdone\n",
            "Collecting transformers<5.0.0,>=4.6.0 (from sentence_transformers)\n",
            "  Downloading transformers-4.31.0-py3-none-any.whl (7.4 MB)\n",
            "\u001b[2K     \u001b[90m━━━━━━━━━━━━━━━━━━━━━━━━━━━━━━━━━━━━━━━━\u001b[0m \u001b[32m7.4/7.4 MB\u001b[0m \u001b[31m15.0 MB/s\u001b[0m eta \u001b[36m0:00:00\u001b[0m\n",
            "\u001b[?25hRequirement already satisfied: tqdm in /usr/local/lib/python3.10/dist-packages (from sentence_transformers) (4.66.1)\n",
            "Requirement already satisfied: torch>=1.6.0 in /usr/local/lib/python3.10/dist-packages (from sentence_transformers) (2.0.1+cu118)\n",
            "Requirement already satisfied: torchvision in /usr/local/lib/python3.10/dist-packages (from sentence_transformers) (0.15.2+cu118)\n",
            "Requirement already satisfied: numpy in /usr/local/lib/python3.10/dist-packages (from sentence_transformers) (1.23.5)\n",
            "Requirement already satisfied: scikit-learn in /usr/local/lib/python3.10/dist-packages (from sentence_transformers) (1.2.2)\n",
            "Requirement already satisfied: scipy in /usr/local/lib/python3.10/dist-packages (from sentence_transformers) (1.10.1)\n",
            "Requirement already satisfied: nltk in /usr/local/lib/python3.10/dist-packages (from sentence_transformers) (3.8.1)\n",
            "Collecting sentencepiece (from sentence_transformers)\n",
            "  Downloading sentencepiece-0.1.99-cp310-cp310-manylinux_2_17_x86_64.manylinux2014_x86_64.whl (1.3 MB)\n",
            "\u001b[2K     \u001b[90m━━━━━━━━━━━━━━━━━━━━━━━━━━━━━━━━━━━━━━━━\u001b[0m \u001b[32m1.3/1.3 MB\u001b[0m \u001b[31m26.5 MB/s\u001b[0m eta \u001b[36m0:00:00\u001b[0m\n",
            "\u001b[?25hCollecting huggingface-hub>=0.4.0 (from sentence_transformers)\n",
            "  Downloading huggingface_hub-0.16.4-py3-none-any.whl (268 kB)\n",
            "\u001b[2K     \u001b[90m━━━━━━━━━━━━━━━━━━━━━━━━━━━━━━━━━━━━━━\u001b[0m \u001b[32m268.8/268.8 kB\u001b[0m \u001b[31m24.3 MB/s\u001b[0m eta \u001b[36m0:00:00\u001b[0m\n",
            "\u001b[?25hRequirement already satisfied: pytz in /usr/local/lib/python3.10/dist-packages (from neo4j) (2023.3)\n",
            "Requirement already satisfied: filelock in /usr/local/lib/python3.10/dist-packages (from huggingface-hub>=0.4.0->sentence_transformers) (3.12.2)\n",
            "Requirement already satisfied: fsspec in /usr/local/lib/python3.10/dist-packages (from huggingface-hub>=0.4.0->sentence_transformers) (2023.6.0)\n",
            "Requirement already satisfied: requests in /usr/local/lib/python3.10/dist-packages (from huggingface-hub>=0.4.0->sentence_transformers) (2.31.0)\n",
            "Requirement already satisfied: pyyaml>=5.1 in /usr/local/lib/python3.10/dist-packages (from huggingface-hub>=0.4.0->sentence_transformers) (6.0.1)\n",
            "Requirement already satisfied: typing-extensions>=3.7.4.3 in /usr/local/lib/python3.10/dist-packages (from huggingface-hub>=0.4.0->sentence_transformers) (4.7.1)\n",
            "Requirement already satisfied: packaging>=20.9 in /usr/local/lib/python3.10/dist-packages (from huggingface-hub>=0.4.0->sentence_transformers) (23.1)\n",
            "Requirement already satisfied: sympy in /usr/local/lib/python3.10/dist-packages (from torch>=1.6.0->sentence_transformers) (1.12)\n",
            "Requirement already satisfied: networkx in /usr/local/lib/python3.10/dist-packages (from torch>=1.6.0->sentence_transformers) (3.1)\n",
            "Requirement already satisfied: jinja2 in /usr/local/lib/python3.10/dist-packages (from torch>=1.6.0->sentence_transformers) (3.1.2)\n",
            "Requirement already satisfied: triton==2.0.0 in /usr/local/lib/python3.10/dist-packages (from torch>=1.6.0->sentence_transformers) (2.0.0)\n",
            "Requirement already satisfied: cmake in /usr/local/lib/python3.10/dist-packages (from triton==2.0.0->torch>=1.6.0->sentence_transformers) (3.27.2)\n",
            "Requirement already satisfied: lit in /usr/local/lib/python3.10/dist-packages (from triton==2.0.0->torch>=1.6.0->sentence_transformers) (16.0.6)\n",
            "Requirement already satisfied: regex!=2019.12.17 in /usr/local/lib/python3.10/dist-packages (from transformers<5.0.0,>=4.6.0->sentence_transformers) (2023.6.3)\n",
            "Collecting tokenizers!=0.11.3,<0.14,>=0.11.1 (from transformers<5.0.0,>=4.6.0->sentence_transformers)\n",
            "  Downloading tokenizers-0.13.3-cp310-cp310-manylinux_2_17_x86_64.manylinux2014_x86_64.whl (7.8 MB)\n",
            "\u001b[2K     \u001b[90m━━━━━━━━━━━━━━━━━━━━━━━━━━━━━━━━━━━━━━━━\u001b[0m \u001b[32m7.8/7.8 MB\u001b[0m \u001b[31m39.8 MB/s\u001b[0m eta \u001b[36m0:00:00\u001b[0m\n",
            "\u001b[?25hCollecting safetensors>=0.3.1 (from transformers<5.0.0,>=4.6.0->sentence_transformers)\n",
            "  Downloading safetensors-0.3.2-cp310-cp310-manylinux_2_17_x86_64.manylinux2014_x86_64.whl (1.3 MB)\n",
            "\u001b[2K     \u001b[90m━━━━━━━━━━━━━━━━━━━━━━━━━━━━━━━━━━━━━━━━\u001b[0m \u001b[32m1.3/1.3 MB\u001b[0m \u001b[31m39.1 MB/s\u001b[0m eta \u001b[36m0:00:00\u001b[0m\n",
            "\u001b[?25hRequirement already satisfied: click in /usr/local/lib/python3.10/dist-packages (from nltk->sentence_transformers) (8.1.6)\n",
            "Requirement already satisfied: joblib in /usr/local/lib/python3.10/dist-packages (from nltk->sentence_transformers) (1.3.2)\n",
            "Requirement already satisfied: threadpoolctl>=2.0.0 in /usr/local/lib/python3.10/dist-packages (from scikit-learn->sentence_transformers) (3.2.0)\n",
            "Requirement already satisfied: pillow!=8.3.*,>=5.3.0 in /usr/local/lib/python3.10/dist-packages (from torchvision->sentence_transformers) (9.4.0)\n",
            "Requirement already satisfied: MarkupSafe>=2.0 in /usr/local/lib/python3.10/dist-packages (from jinja2->torch>=1.6.0->sentence_transformers) (2.1.3)\n",
            "Requirement already satisfied: charset-normalizer<4,>=2 in /usr/local/lib/python3.10/dist-packages (from requests->huggingface-hub>=0.4.0->sentence_transformers) (3.2.0)\n",
            "Requirement already satisfied: idna<4,>=2.5 in /usr/local/lib/python3.10/dist-packages (from requests->huggingface-hub>=0.4.0->sentence_transformers) (3.4)\n",
            "Requirement already satisfied: urllib3<3,>=1.21.1 in /usr/local/lib/python3.10/dist-packages (from requests->huggingface-hub>=0.4.0->sentence_transformers) (2.0.4)\n",
            "Requirement already satisfied: certifi>=2017.4.17 in /usr/local/lib/python3.10/dist-packages (from requests->huggingface-hub>=0.4.0->sentence_transformers) (2023.7.22)\n",
            "Requirement already satisfied: mpmath>=0.19 in /usr/local/lib/python3.10/dist-packages (from sympy->torch>=1.6.0->sentence_transformers) (1.3.0)\n",
            "Building wheels for collected packages: sentence_transformers, neo4j\n",
            "  Building wheel for sentence_transformers (setup.py) ... \u001b[?25l\u001b[?25hdone\n",
            "  Created wheel for sentence_transformers: filename=sentence_transformers-2.2.2-py3-none-any.whl size=125924 sha256=894492004e1aa11c7d71bc76db065b8a96fd4e4f413f5f7fb7a70f1db48dcc07\n",
            "  Stored in directory: /root/.cache/pip/wheels/62/f2/10/1e606fd5f02395388f74e7462910fe851042f97238cbbd902f\n",
            "  Building wheel for neo4j (pyproject.toml) ... \u001b[?25l\u001b[?25hdone\n",
            "  Created wheel for neo4j: filename=neo4j-5.11.0-py3-none-any.whl size=259793 sha256=5cd33d20e2a8d6794a4dc3d932997382ff5b159cb8bd3579ba1a3883c0ccebf5\n",
            "  Stored in directory: /root/.cache/pip/wheels/5f/9b/72/d893916a92e5bd362c3c28dc8dacc060419009e5a8cebb9461\n",
            "Successfully built sentence_transformers neo4j\n",
            "Installing collected packages: tokenizers, sentencepiece, safetensors, neo4j, huggingface-hub, transformers, sentence_transformers\n",
            "Successfully installed huggingface-hub-0.16.4 neo4j-5.11.0 safetensors-0.3.2 sentence_transformers-2.2.2 sentencepiece-0.1.99 tokenizers-0.13.3 transformers-4.31.0\n",
            "Looking in links: https://data.pyg.org/whl/torch-2.0.0+cpu.html\n",
            "Collecting torch-scatter\n",
            "  Downloading https://data.pyg.org/whl/torch-2.0.0%2Bcpu/torch_scatter-2.1.1%2Bpt20cpu-cp310-cp310-linux_x86_64.whl (504 kB)\n",
            "\u001b[2K     \u001b[90m━━━━━━━━━━━━━━━━━━━━━━━━━━━━━━━━━━━━━━━\u001b[0m \u001b[32m504.1/504.1 kB\u001b[0m \u001b[31m5.7 MB/s\u001b[0m eta \u001b[36m0:00:00\u001b[0m\n",
            "\u001b[?25hCollecting torch-sparse\n",
            "  Downloading https://data.pyg.org/whl/torch-2.0.0%2Bcpu/torch_sparse-0.6.17%2Bpt20cpu-cp310-cp310-linux_x86_64.whl (1.1 MB)\n",
            "\u001b[2K     \u001b[90m━━━━━━━━━━━━━━━━━━━━━━━━━━━━━━━━━━━━━━━━\u001b[0m \u001b[32m1.1/1.1 MB\u001b[0m \u001b[31m21.7 MB/s\u001b[0m eta \u001b[36m0:00:00\u001b[0m\n",
            "\u001b[?25hCollecting torch-cluster\n",
            "  Downloading https://data.pyg.org/whl/torch-2.0.0%2Bcpu/torch_cluster-1.6.1%2Bpt20cpu-cp310-cp310-linux_x86_64.whl (732 kB)\n",
            "\u001b[2K     \u001b[90m━━━━━━━━━━━━━━━━━━━━━━━━━━━━━━━━━━━━━━\u001b[0m \u001b[32m732.3/732.3 kB\u001b[0m \u001b[31m41.1 MB/s\u001b[0m eta \u001b[36m0:00:00\u001b[0m\n",
            "\u001b[?25hCollecting torch-geometric\n",
            "  Downloading torch_geometric-2.3.1.tar.gz (661 kB)\n",
            "\u001b[2K     \u001b[90m━━━━━━━━━━━━━━━━━━━━━━━━━━━━━━━━━━━━━━━\u001b[0m \u001b[32m661.6/661.6 kB\u001b[0m \u001b[31m6.5 MB/s\u001b[0m eta \u001b[36m0:00:00\u001b[0m\n",
            "\u001b[?25h  Installing build dependencies ... \u001b[?25l\u001b[?25hdone\n",
            "  Getting requirements to build wheel ... \u001b[?25l\u001b[?25hdone\n",
            "  Preparing metadata (pyproject.toml) ... \u001b[?25l\u001b[?25hdone\n",
            "Requirement already satisfied: scipy in /usr/local/lib/python3.10/dist-packages (from torch-sparse) (1.10.1)\n",
            "Requirement already satisfied: tqdm in /usr/local/lib/python3.10/dist-packages (from torch-geometric) (4.66.1)\n",
            "Requirement already satisfied: numpy in /usr/local/lib/python3.10/dist-packages (from torch-geometric) (1.23.5)\n",
            "Requirement already satisfied: jinja2 in /usr/local/lib/python3.10/dist-packages (from torch-geometric) (3.1.2)\n",
            "Requirement already satisfied: requests in /usr/local/lib/python3.10/dist-packages (from torch-geometric) (2.31.0)\n",
            "Requirement already satisfied: pyparsing in /usr/local/lib/python3.10/dist-packages (from torch-geometric) (3.1.1)\n",
            "Requirement already satisfied: scikit-learn in /usr/local/lib/python3.10/dist-packages (from torch-geometric) (1.2.2)\n",
            "Requirement already satisfied: psutil>=5.8.0 in /usr/local/lib/python3.10/dist-packages (from torch-geometric) (5.9.5)\n",
            "Requirement already satisfied: MarkupSafe>=2.0 in /usr/local/lib/python3.10/dist-packages (from jinja2->torch-geometric) (2.1.3)\n",
            "Requirement already satisfied: charset-normalizer<4,>=2 in /usr/local/lib/python3.10/dist-packages (from requests->torch-geometric) (3.2.0)\n",
            "Requirement already satisfied: idna<4,>=2.5 in /usr/local/lib/python3.10/dist-packages (from requests->torch-geometric) (3.4)\n",
            "Requirement already satisfied: urllib3<3,>=1.21.1 in /usr/local/lib/python3.10/dist-packages (from requests->torch-geometric) (2.0.4)\n",
            "Requirement already satisfied: certifi>=2017.4.17 in /usr/local/lib/python3.10/dist-packages (from requests->torch-geometric) (2023.7.22)\n",
            "Requirement already satisfied: joblib>=1.1.1 in /usr/local/lib/python3.10/dist-packages (from scikit-learn->torch-geometric) (1.3.2)\n",
            "Requirement already satisfied: threadpoolctl>=2.0.0 in /usr/local/lib/python3.10/dist-packages (from scikit-learn->torch-geometric) (3.2.0)\n",
            "Building wheels for collected packages: torch-geometric\n",
            "  Building wheel for torch-geometric (pyproject.toml) ... \u001b[?25l\u001b[?25hdone\n",
            "  Created wheel for torch-geometric: filename=torch_geometric-2.3.1-py3-none-any.whl size=910454 sha256=3bb4c4597c48630697d87f25044f1bb3cd41a321421103115b1310199f105b71\n",
            "  Stored in directory: /root/.cache/pip/wheels/ac/dc/30/e2874821ff308ee67dcd7a66dbde912411e19e35a1addda028\n",
            "Successfully built torch-geometric\n",
            "Installing collected packages: torch-scatter, torch-sparse, torch-cluster, torch-geometric\n",
            "Successfully installed torch-cluster-1.6.1+pt20cpu torch-geometric-2.3.1 torch-scatter-2.1.1+pt20cpu torch-sparse-0.6.17+pt20cpu\n"
          ]
        }
      ],
      "source": [
        "!pip install sentence_transformers neo4j\n",
        "!pip install torch-scatter torch-sparse torch-cluster torch-geometric -f https://data.pyg.org/whl/torch-2.0.0+cpu.html\n",
        "#!pip install tensorflow_ranking"
      ],
      "id": "7e97ee7a"
    },
    {
      "cell_type": "code",
      "execution_count": null,
      "metadata": {
        "colab": {
          "base_uri": "https://localhost:8080/"
        },
        "id": "1864f3f4",
        "outputId": "f20a11d8-1f7e-450e-8b59-c8a75d595758"
      },
      "outputs": [
        {
          "name": "stdout",
          "output_type": "stream",
          "text": [
            "0.6.17+pt20cpu\n"
          ]
        }
      ],
      "source": [
        "#!pip install torch-geometric -f https://data.pyg.org/whl/torch-2.0.0+cpu.html\n",
        "#!python.exe -m pip install --upgrade pip\n",
        "#!pip install torch-scatter torch-sparse torch-cluster -f https://data.pyg.org/whl/torch-2.0.0+cpu.html --user\n",
        "#!pip uninstall torch-sparse\n",
        "import torch_sparse\n",
        "print(torch_sparse.__version__)"
      ],
      "id": "1864f3f4"
    },
    {
      "cell_type": "code",
      "execution_count": null,
      "metadata": {
        "colab": {
          "base_uri": "https://localhost:8080/"
        },
        "id": "7a2ffe68",
        "outputId": "97730055-bf60-4445-a854-0d49a2ceac2c"
      },
      "outputs": [
        {
          "name": "stdout",
          "output_type": "stream",
          "text": [
            "cpu\n"
          ]
        }
      ],
      "source": [
        "import torch\n",
        "import pandas as pd\n",
        "import numpy as np\n",
        "from torch.nn import Linear\n",
        "import torch.nn.functional as F\n",
        "from sentence_transformers import SentenceTransformer\n",
        "from typing import Dict, Tuple\n",
        "import torch_geometric.transforms as T\n",
        "from torch_geometric.nn import SAGEConv, to_hetero\n",
        "\n",
        "from torch_geometric.data import HeteroData\n",
        "from torch_geometric.transforms import ToUndirected, RandomLinkSplit, RandomNodeSplit\n",
        "\n",
        "device = torch.device('cuda' if torch.cuda.is_available() else 'cpu')\n",
        "print(device)"
      ],
      "id": "7a2ffe68"
    },
    {
      "cell_type": "markdown",
      "metadata": {
        "id": "63325937"
      },
      "source": [
        "First, we can create a data object of type torch_geometric.data.HeteroData, for which we define node feature tensors, edge index tensors and edge feature tensors individually for each type:\n",
        "Node or edge tensors will be automatically created upon first access and indexed by string keys. Node types are identified by a single string while edge types are identified by using a triplet (source_node_type, edge_type, destination_node_type) of strings: the edge type identifier and the two node types between which the edge type can exist. As such, the data object allows different feature dimensionalities for each type."
      ],
      "id": "63325937"
    },
    {
      "cell_type": "code",
      "execution_count": null,
      "metadata": {
        "id": "e064f868"
      },
      "outputs": [],
      "source": [
        "from neo4j import GraphDatabase\n",
        "\n",
        "url= 'bolt://localhost:7687'\n",
        "user = 'neo4j'\n",
        "password = '*********'\n",
        "\n",
        "driver = GraphDatabase.driver(url, auth=(user, password))\n",
        "\n",
        "def fetch_data(query, params={}):\n",
        "  with driver.session() as session:\n",
        "    result = session.run(query, params)\n",
        "    return pd.DataFrame([r.values() for r in result], columns=result.keys())"
      ],
      "id": "e064f868"
    },
    {
      "cell_type": "markdown",
      "metadata": {
        "id": "1a4bb324"
      },
      "source": [
        "# Export Neo4j Graph and construct a heterogeneous pyG graph"
      ],
      "id": "1a4bb324"
    },
    {
      "cell_type": "code",
      "execution_count": null,
      "metadata": {
        "id": "409425ba"
      },
      "outputs": [],
      "source": [
        "def load_node(cypher, index_col, encoders=None, **kwargs):\n",
        "    # Execute the cypher query and retrieve data from Neo4j\n",
        "    df = fetch_data(cypher)\n",
        "    df.set_index(index_col, inplace=True)\n",
        "    # Define node mapping\n",
        "    mapping = {index: i for i, index in enumerate(df.index.unique())}\n",
        "    # Define node features\n",
        "    x = None\n",
        "    if encoders is not None:\n",
        "        xs = [encoder(df[col]) for col, encoder in encoders.items()]\n",
        "        x = torch.cat(xs, dim=-1)\n",
        "\n",
        "    return x, mapping"
      ],
      "id": "409425ba"
    },
    {
      "cell_type": "code",
      "execution_count": null,
      "metadata": {
        "id": "46767f18"
      },
      "outputs": [],
      "source": [
        "def load_edge(cypher, src_index_col, src_mapping, dst_index_col, dst_mapping,\n",
        "                  encoders=None, **kwargs):\n",
        "    # Execute the cypher query and retrieve data from Neo4j\n",
        "    df = fetch_data(cypher)\n",
        "    # Define edge index\n",
        "    src = [src_mapping[index] for index in df[src_index_col]]\n",
        "    dst = [dst_mapping[index] for index in df[dst_index_col]]\n",
        "    edge_index = torch.tensor([src, dst])\n",
        "    # Define edge features\n",
        "    edge_attr = None\n",
        "    if encoders is not None:\n",
        "        edge_attrs = [encoder(df[col]) for col, encoder in encoders.items()]\n",
        "        edge_attr = torch.cat(edge_attrs, dim=-1)\n",
        "\n",
        "    return edge_index, edge_attr"
      ],
      "id": "46767f18"
    },
    {
      "cell_type": "markdown",
      "metadata": {
        "id": "aa00eaee"
      },
      "source": [
        "## Defining the feature encoders"
      ],
      "id": "aa00eaee"
    },
    {
      "cell_type": "code",
      "execution_count": null,
      "metadata": {
        "id": "91d26d14"
      },
      "outputs": [],
      "source": [
        "class SequenceEncoder(object):\n",
        "    # The 'SequenceEncoder' encodes raw column strings into embeddings.\n",
        "    def __init__(self, model_name='all-MiniLM-L6-v2', device=None):\n",
        "        self.device = device\n",
        "        self.model = SentenceTransformer(model_name, device=device)\n",
        "\n",
        "    @torch.no_grad()\n",
        "    def __call__(self, df):\n",
        "        df = df.fillna('')\n",
        "        x = self.model.encode(df.values, show_progress_bar=True,\n",
        "                              convert_to_tensor=True, device=self.device)\n",
        "        return x.cpu()"
      ],
      "id": "91d26d14"
    },
    {
      "cell_type": "code",
      "execution_count": null,
      "metadata": {
        "id": "c80fb0ec"
      },
      "outputs": [],
      "source": [
        "class IdentityEncoder(object):\n",
        "    # The 'IdentityEncoder' takes the raw column values and converts them to\n",
        "    # PyTorch tensors.\n",
        "    def __init__(self, dtype=None, is_list=False):\n",
        "        self.dtype = dtype\n",
        "        self.is_list = is_list\n",
        "\n",
        "    def __call__(self, df):\n",
        "        if self.is_list:\n",
        "            return torch.stack([torch.tensor(el) for el in df.values])\n",
        "        tensor=torch.from_numpy(df.values).to(self.dtype)\n",
        "        tensor = tensor.unsqueeze(1)  # Add second dimension with size 1\n",
        "        return tensor"
      ],
      "id": "c80fb0ec"
    },
    {
      "cell_type": "markdown",
      "metadata": {
        "id": "84a96b9d"
      },
      "source": [
        "## Fetch the data from Neo4j and construct user mappings and features that will be used as input to the pyG heterogeneous graph."
      ],
      "id": "84a96b9d"
    },
    {
      "cell_type": "markdown",
      "metadata": {
        "id": "AeF4RWVhoJq5"
      },
      "source": [
        "### Entire Network"
      ],
      "id": "AeF4RWVhoJq5"
    },
    {
      "cell_type": "code",
      "execution_count": null,
      "metadata": {
        "id": "6dfd814c"
      },
      "outputs": [],
      "source": [
        "# Nodes Query\n",
        "encoder = {\n",
        "    #'CompanyId' : IdentityEncoder(),\n",
        "    'type': SequenceEncoder(model_name='all-MiniLM-L6-v2'),\n",
        "    'company': IdentityEncoder(),\n",
        "   'country': SequenceEncoder(model_name='all-MiniLM-L6-v2'),\n",
        "    'sector': SequenceEncoder(model_name='all-MiniLM-L6-v2'),\n",
        "    'industry': SequenceEncoder(model_name='all-MiniLM-L6-v2'),\n",
        "    'nace': SequenceEncoder(model_name='all-MiniLM-L6-v2')\n",
        "}\n",
        "user_query = \"\"\"\n",
        "MATCH (n:Company)--(t)\n",
        "WHERE t:CompanyType OR t:Country OR t:Sector OR t:Industry OR t:Nace\n",
        "RETURN distinct n.id as CompanyId, id(n) as company,\n",
        "  COLLECT(DISTINCT CASE WHEN t:CompanyType THEN t.name ELSE NULL END)[0] AS type,\n",
        "  COLLECT(DISTINCT CASE WHEN t:Country THEN t.id ELSE NULL END)[0] AS country,\n",
        "  COLLECT(DISTINCT CASE WHEN t:Sector THEN t.name ELSE NULL END)[0] AS sector,\n",
        "  COLLECT(DISTINCT CASE WHEN t:Industry THEN t.name ELSE NULL END)[0] AS industry,\n",
        "  COLLECT(DISTINCT CASE WHEN t:Nace THEN t.name ELSE NULL END)[0] AS nace\n",
        "\"\"\"\n",
        "\n",
        "company_x, company_mapping = load_node(user_query, index_col='CompanyId', encoders=encoder)"
      ],
      "id": "6dfd814c"
    },
    {
      "cell_type": "code",
      "execution_count": null,
      "metadata": {
        "id": "3034330f"
      },
      "outputs": [],
      "source": [
        "edge_query = \"\"\"\n",
        "MATCH (u:Company)-[r:SUPPLIES]->(m:Company)\n",
        "RETURN u.id AS Company1Id, m.id AS Company2Id, r.weight AS weight\n",
        "\"\"\"\n",
        "# didn't include revenue, and start date\n",
        "supplies_index, supplies_label = load_edge(\n",
        "    edge_query,\n",
        "    src_index_col='Company1Id',\n",
        "    src_mapping=company_mapping,\n",
        "    dst_index_col='Company2Id',\n",
        "    dst_mapping=company_mapping,\n",
        "    encoders={'weight': IdentityEncoder(dtype=torch.long,is_list=True)},\n",
        ")"
      ],
      "id": "3034330f"
    },
    {
      "cell_type": "code",
      "execution_count": null,
      "metadata": {
        "id": "bd8bb2a3"
      },
      "outputs": [],
      "source": [
        "edge_query = \"\"\"\n",
        "MATCH (u:Company)-[r:PARTNERS]->(m:Company)\n",
        "RETURN u.id AS Company1Id, m.id AS Company2Id, r.start_date AS start_date\n",
        "\"\"\"\n",
        "# didn't include start date\n",
        "partners_index, partners_label = load_edge(\n",
        "    edge_query,\n",
        "    src_index_col='Company1Id',\n",
        "    src_mapping=company_mapping,\n",
        "    dst_index_col='Company2Id',\n",
        "    dst_mapping=company_mapping\n",
        "    #encoders={'start_date': IdentityEncoder(dtype=torch.long)},\n",
        ")"
      ],
      "id": "bd8bb2a3"
    },
    {
      "cell_type": "code",
      "execution_count": null,
      "metadata": {
        "id": "39b28105"
      },
      "outputs": [],
      "source": [
        "edge_query = \"\"\"\n",
        "MATCH (u:Company)-[r:COMPETES]->(m:Company)\n",
        "RETURN u.id AS Company1Id, m.id AS Company2Id, r.start_date AS start_date\n",
        "\"\"\"\n",
        "# didn't include start date\n",
        "competes_index, competes_label = load_edge(\n",
        "    edge_query,\n",
        "    src_index_col='Company1Id',\n",
        "    src_mapping=company_mapping,\n",
        "    dst_index_col='Company2Id',\n",
        "    dst_mapping=company_mapping\n",
        "    #encoders={'start_date': IdentityEncoder(dtype=torch.long)},\n",
        ")"
      ],
      "id": "39b28105"
    },
    {
      "cell_type": "code",
      "execution_count": null,
      "metadata": {
        "id": "13df4f67"
      },
      "outputs": [],
      "source": [
        "edge_query = \"\"\"\n",
        "MATCH (u:Company)-[r:ULTIMATE_PARENT_OF]->(m:Company)\n",
        "RETURN u.id AS Company1Id, m.id AS Company2Id, r.start_date AS start_date\n",
        "\"\"\"\n",
        "parent_index, parent_label = load_edge(\n",
        "    edge_query,\n",
        "    src_index_col='Company1Id',\n",
        "    src_mapping=company_mapping,\n",
        "    dst_index_col='Company2Id',\n",
        "    dst_mapping=company_mapping\n",
        "    #encoders={'start_date': IdentityEncoder(dtype=torch.long)},\n",
        ")"
      ],
      "id": "13df4f67"
    },
    {
      "cell_type": "markdown",
      "metadata": {
        "id": "BJJdxjqGoNCR"
      },
      "source": [
        "### Sectorising"
      ],
      "id": "BJJdxjqGoNCR"
    },
    {
      "cell_type": "code",
      "execution_count": null,
      "metadata": {
        "colab": {
          "referenced_widgets": [
            "b0e8bf09c7e04859a6dbc92548e2ef2d",
            "46d96fb2711446adb383d9ebe8a68f6d",
            "5b942091ed0c4ace8c4c6e9d1ff725ba",
            "58e6e1970e6c4cd19ca8c5aca2026204",
            "e620e090aea4458ca6202a9484cd80d9"
          ]
        },
        "id": "f0e22b83",
        "outputId": "ed3f63f8-f94b-4cc3-a308-af43fe9bb9d8"
      },
      "outputs": [
        {
          "data": {
            "application/vnd.jupyter.widget-view+json": {
              "model_id": "b0e8bf09c7e04859a6dbc92548e2ef2d",
              "version_major": 2,
              "version_minor": 0
            },
            "text/plain": [
              "Batches:   0%|          | 0/1082 [00:00<?, ?it/s]"
            ]
          },
          "metadata": {},
          "output_type": "display_data"
        },
        {
          "data": {
            "application/vnd.jupyter.widget-view+json": {
              "model_id": "46d96fb2711446adb383d9ebe8a68f6d",
              "version_major": 2,
              "version_minor": 0
            },
            "text/plain": [
              "Batches:   0%|          | 0/1082 [00:00<?, ?it/s]"
            ]
          },
          "metadata": {},
          "output_type": "display_data"
        },
        {
          "data": {
            "application/vnd.jupyter.widget-view+json": {
              "model_id": "5b942091ed0c4ace8c4c6e9d1ff725ba",
              "version_major": 2,
              "version_minor": 0
            },
            "text/plain": [
              "Batches:   0%|          | 0/1082 [00:00<?, ?it/s]"
            ]
          },
          "metadata": {},
          "output_type": "display_data"
        },
        {
          "data": {
            "application/vnd.jupyter.widget-view+json": {
              "model_id": "58e6e1970e6c4cd19ca8c5aca2026204",
              "version_major": 2,
              "version_minor": 0
            },
            "text/plain": [
              "Batches:   0%|          | 0/1082 [00:00<?, ?it/s]"
            ]
          },
          "metadata": {},
          "output_type": "display_data"
        },
        {
          "data": {
            "application/vnd.jupyter.widget-view+json": {
              "model_id": "e620e090aea4458ca6202a9484cd80d9",
              "version_major": 2,
              "version_minor": 0
            },
            "text/plain": [
              "Batches:   0%|          | 0/1082 [00:00<?, ?it/s]"
            ]
          },
          "metadata": {},
          "output_type": "display_data"
        }
      ],
      "source": [
        "## Nodes Query: insert sectors name into i.name='Sector_name'\n",
        "encoder = {\n",
        "    #'CompanyId' : IdentityEncoder(),\n",
        "    'type': SequenceEncoder(model_name='all-MiniLM-L6-v2'),\n",
        "    'company': IdentityEncoder(),\n",
        "   'country': SequenceEncoder(model_name='all-MiniLM-L6-v2'),\n",
        "    'sector': SequenceEncoder(model_name='all-MiniLM-L6-v2'),\n",
        "    'industry': SequenceEncoder(model_name='all-MiniLM-L6-v2'),\n",
        "    'nace': SequenceEncoder(model_name='all-MiniLM-L6-v2')\n",
        "}\n",
        "user_query = \"\"\"\n",
        "MATCH (n:Company)--(i:Sector) where i.name='Technology Services' or i.name='Electronic Technology' with n\n",
        "MATCH (n)--(t)\n",
        "WHERE t:CompanyType OR t:Country OR t:Sector OR t:Industry OR t:Nace\n",
        "RETURN distinct n.id as CompanyId, id(n) as company,\n",
        "  COLLECT(DISTINCT CASE WHEN t:CompanyType THEN t.name ELSE NULL END)[0] AS type,\n",
        "  COLLECT(DISTINCT CASE WHEN t:Country THEN t.id ELSE NULL END)[0] AS country,\n",
        "  COLLECT(DISTINCT CASE WHEN t:Sector THEN t.name ELSE NULL END)[0] AS sector,\n",
        "  COLLECT(DISTINCT CASE WHEN t:Industry THEN t.name ELSE NULL END)[0] AS industry,\n",
        "  COLLECT(DISTINCT CASE WHEN t:Nace THEN t.name ELSE NULL END)[0] AS nace\n",
        "\"\"\"\n",
        "\n",
        "company_x, company_mapping = load_node(user_query, index_col='CompanyId', encoders=encoder)"
      ],
      "id": "f0e22b83"
    },
    {
      "cell_type": "code",
      "execution_count": null,
      "metadata": {
        "id": "52c49e31"
      },
      "outputs": [],
      "source": [
        "## Edge Query: insert sectors name into i.name='Sector_name'\n",
        "edge_query = \"\"\"\n",
        "MATCH (u:Company)--(i:Sector) where i.name='Technology Services' or i.name='Electronic Technology'   with u\n",
        "MATCH (m:Company)--(j:Sector) where j.name='Technology Services' or j.name='Electronic Technology'  with u,m\n",
        "MATCH (u)-[r:SUPPLIES]->(m)\n",
        "RETURN u.id AS Company1Id, m.id AS Company2Id, r.weight AS weight\n",
        "\"\"\"\n",
        "# didn't include revenue, and start date\n",
        "supplies_index, supplies_label = load_edge(\n",
        "    edge_query,\n",
        "    src_index_col='Company1Id',\n",
        "    src_mapping=company_mapping,\n",
        "    dst_index_col='Company2Id',\n",
        "    dst_mapping=company_mapping,\n",
        "    encoders={'weight': IdentityEncoder(dtype=torch.long,is_list=True)},\n",
        ")"
      ],
      "id": "52c49e31"
    },
    {
      "cell_type": "code",
      "execution_count": null,
      "metadata": {
        "id": "06482e67"
      },
      "outputs": [],
      "source": [
        "edge_query = \"\"\"\n",
        "MATCH (u:Company)--(i:Sector) where i.name='Technology Services' or i.name='Electronic Technology'   with u\n",
        "MATCH (m:Company)--(j:Sector) where j.name='Technology Services' or j.name='Electronic Technology'  with u,m\n",
        "MATCH (u)-[r:PARTNERS]->(m)\n",
        "RETURN u.id AS Company1Id, m.id AS Company2Id, r.start_date AS start_date\n",
        "\"\"\"\n",
        "# didn't include start date\n",
        "partners_index, partners_label = load_edge(\n",
        "    edge_query,\n",
        "    src_index_col='Company1Id',\n",
        "    src_mapping=company_mapping,\n",
        "    dst_index_col='Company2Id',\n",
        "    dst_mapping=company_mapping\n",
        "    #encoders={'start_date': IdentityEncoder(dtype=torch.long)},\n",
        ")"
      ],
      "id": "06482e67"
    },
    {
      "cell_type": "code",
      "execution_count": null,
      "metadata": {
        "id": "40f87d1a"
      },
      "outputs": [],
      "source": [
        "edge_query = \"\"\"\n",
        "MATCH (u:Company)--(i:Sector) where i.name='Technology Services' or i.name='Electronic Technology'   with u\n",
        "MATCH (m:Company)--(j:Sector) where j.name='Technology Services' or j.name='Electronic Technology'  with u,m\n",
        "MATCH (u)-[r:COMPETES]->(m)\n",
        "RETURN u.id AS Company1Id, m.id AS Company2Id, r.start_date AS start_date\n",
        "\"\"\"\n",
        "# didn't include start date\n",
        "competes_index, competes_label = load_edge(\n",
        "    edge_query,\n",
        "    src_index_col='Company1Id',\n",
        "    src_mapping=company_mapping,\n",
        "    dst_index_col='Company2Id',\n",
        "    dst_mapping=company_mapping\n",
        "    #encoders={'start_date': IdentityEncoder(dtype=torch.long)},\n",
        ")"
      ],
      "id": "40f87d1a"
    },
    {
      "cell_type": "code",
      "execution_count": null,
      "metadata": {
        "id": "a10824b3"
      },
      "outputs": [],
      "source": [
        "edge_query = \"\"\"\n",
        "MATCH (u:Company)--(i:Sector) where i.name='Technology Services' or i.name='Electronic Technology'   with u\n",
        "MATCH (m:Company)--(j:Sector) where j.name='Technology Services' or j.name='Electronic Technology' with u,m\n",
        "MATCH (u)-[r:ULTIMATE_PARENT_OF]->(m)\n",
        "RETURN u.id AS Company1Id, m.id AS Company2Id, r.start_date AS start_date\n",
        "\"\"\"\n",
        "parent_index, parent_label = load_edge(\n",
        "    edge_query,\n",
        "    src_index_col='Company1Id',\n",
        "    src_mapping=company_mapping,\n",
        "    dst_index_col='Company2Id',\n",
        "    dst_mapping=company_mapping\n",
        "    #encoders={'start_date': IdentityEncoder(dtype=torch.long)},\n",
        ")"
      ],
      "id": "a10824b3"
    },
    {
      "cell_type": "markdown",
      "metadata": {
        "id": "389ac5ab"
      },
      "source": [
        "## Build a heterogeneous pyG graph"
      ],
      "id": "389ac5ab"
    },
    {
      "cell_type": "code",
      "execution_count": null,
      "metadata": {
        "id": "88debb71",
        "outputId": "8eeca38d-b342-4e24-ca4d-c75711d2f9d1"
      },
      "outputs": [
        {
          "data": {
            "text/plain": [
              "HeteroData(\n",
              "  \u001b[1mCompany\u001b[0m={\n",
              "    num_nodes=34615,\n",
              "    x=[34615, 1921]\n",
              "  },\n",
              "  \u001b[1m(Company, SUPPLIES, Company)\u001b[0m={ edge_index=[2, 22986] },\n",
              "  \u001b[1m(Company, PARTNERS, Company)\u001b[0m={ edge_index=[2, 11053] },\n",
              "  \u001b[1m(Company, COMPETES, Company)\u001b[0m={ edge_index=[2, 10954] },\n",
              "  \u001b[1m(Company, ULTIMATE_PARENT_OF, Company)\u001b[0m={ edge_index=[2, 5622] }\n",
              ")"
            ]
          },
          "execution_count": 33,
          "metadata": {},
          "output_type": "execute_result"
        }
      ],
      "source": [
        "data = HeteroData()\n",
        "# Add nodes for message passing:  # They do not have any features.\n",
        "data['Company'].num_nodes = len(company_mapping)\n",
        "#data['Company'].x = torch.eye(data['Company'].num_nodes, device=device)\n",
        "data['Company'].x = company_x #--> Add user node features\n",
        "#data['Country'].num_nodes = len(Country_mapping)\n",
        "#data['Country'].x = Country_x\n",
        "#data['CompanyType'].num_nodes = len(CompanyType_mapping)\n",
        "#data['Sector'].num_nodes = len(Sector_mapping)\n",
        "#data['Sector'].x = Sector_x\n",
        "#data['Industry'].num_nodes = len(Industry_mapping)\n",
        "#data['Industry'].x = Industry_x\n",
        "#data['Nace'].num_nodes = len(Nace_mapping)\n",
        "#data['Nace'].x = Nace_x\n",
        "# Add relations between nodes\n",
        "data['Company', 'SUPPLIES', 'Company'].edge_index = supplies_index\n",
        "#data['Company', 'SUPPLIES', 'Company'].edge_label = supplies_label\n",
        "\n",
        "data['Company', 'PARTNERS', 'Company'].edge_index = partners_index\n",
        "#data['Company', 'PARTNERS', 'Company'].edge_label = partners_label\n",
        "\n",
        "data['Company', 'COMPETES', 'Company'].edge_index = competes_index\n",
        "#data['Company', 'COMPETES', 'Company'].edge_label = competes_label\n",
        "\n",
        "data['Company', 'ULTIMATE_PARENT_OF', 'Company'].edge_index = parent_index\n",
        "#data['Company', 'ULTIMATE_PARENT_OF', 'Company'].edge_label = parent_label\n",
        "\n",
        "#data['Company', 'BELONGS_TO', 'Sector'].edge_index = belongs_index\n",
        "#data['Company', 'BELONGS_TO', 'Sector'].edge_label = belongs_label\n",
        "\n",
        "#data['Company', 'BELONGS_TO', 'Industry'].edge_index = belongs2_index\n",
        "#data['Company', 'BELONGS_TO', 'Industry'].edge_label = belongs2_label\n",
        "\n",
        "#data['Company', 'IS_A', 'CompanyType'].edge_index = is_index\n",
        "#data['Company', 'IS_A', 'CompanyType'].edge_label = is_label\n",
        "\n",
        "#data['Company', 'LOCATED_IN', 'Country'].edge_index = located_index\n",
        "#data['Company', 'LOCATED_IN', 'Country'].edge_label = located_label\n",
        "\n",
        "#data['Company', 'SHIPS_TO', 'Country'].edge_index = ships_index\n",
        "#data['Company', 'SHIPS_TO', 'Country'].edge_label = ships_label\n",
        "\n",
        "#data['Company', 'PERFORMS', 'Nace'].edge_index = nace_index\n",
        "#data['Company', 'SHIPS_TO', 'Country'].edge_label = ships_label\n",
        "\n",
        "data.to(device, non_blocking=True)"
      ],
      "id": "88debb71"
    },
    {
      "cell_type": "markdown",
      "metadata": {
        "id": "5ZAeKza_lc-H"
      },
      "source": [
        "# Save and Load Graph HeteroData Object"
      ],
      "id": "5ZAeKza_lc-H"
    },
    {
      "cell_type": "code",
      "execution_count": null,
      "metadata": {
        "id": "b85md09Vlji4"
      },
      "outputs": [],
      "source": [
        "#Save\n",
        "#torch.save(data, 'graph')"
      ],
      "id": "b85md09Vlji4"
    },
    {
      "cell_type": "code",
      "execution_count": null,
      "metadata": {
        "id": "FxZEInvcmlVQ"
      },
      "outputs": [],
      "source": [
        "#If Google Collab being used\n",
        "from google.colab import drive\n",
        "drive.mount('/content/drive')"
      ],
      "id": "FxZEInvcmlVQ"
    },
    {
      "cell_type": "code",
      "execution_count": null,
      "metadata": {
        "id": "kW7ZXr2DlmoP"
      },
      "outputs": [],
      "source": [
        "#Import\n",
        "#for Network 1: /graph_1\n",
        "#for Network 2: /graph_ElectronicTechnology\n",
        "#for Network 3: /graph_2\n",
        "data=torch.load('/content/drive/MyDrive/THESIS/graph_ElectronicTechnology').to(device)"
      ],
      "id": "kW7ZXr2DlmoP"
    },
    {
      "cell_type": "code",
      "execution_count": null,
      "metadata": {
        "colab": {
          "base_uri": "https://localhost:8080/"
        },
        "id": "3fb07988",
        "outputId": "c0b73d99-2c76-4ccb-a69e-ee24c70216c9"
      },
      "outputs": [
        {
          "output_type": "execute_result",
          "data": {
            "text/plain": [
              "HeteroData(\n",
              "  \u001b[1mCompany\u001b[0m={\n",
              "    num_nodes=11669,\n",
              "    x=[11669, 1921]\n",
              "  },\n",
              "  \u001b[1m(Company, SUPPLIES, Company)\u001b[0m={\n",
              "    edge_index=[2, 8090],\n",
              "    edge_attr=[8090]\n",
              "  },\n",
              "  \u001b[1m(Company, PARTNERS, Company)\u001b[0m={ edge_index=[2, 2663] },\n",
              "  \u001b[1m(Company, COMPETES, Company)\u001b[0m={ edge_index=[2, 4795] },\n",
              "  \u001b[1m(Company, ULTIMATE_PARENT_OF, Company)\u001b[0m={ edge_index=[2, 1510] }\n",
              ")"
            ]
          },
          "metadata": {},
          "execution_count": 59
        }
      ],
      "source": [
        "data"
      ],
      "id": "3fb07988"
    },
    {
      "cell_type": "markdown",
      "metadata": {
        "id": "55e43979"
      },
      "source": [
        "# Train/test data split"
      ],
      "id": "55e43979"
    },
    {
      "cell_type": "code",
      "execution_count": null,
      "metadata": {
        "colab": {
          "base_uri": "https://localhost:8080/"
        },
        "id": "02c3ecdb",
        "outputId": "f9e2b3ff-0743-4ccb-a91f-7eaf692981c3"
      },
      "outputs": [
        {
          "output_type": "execute_result",
          "data": {
            "text/plain": [
              "[('Company', 'SUPPLIES', 'Company'),\n",
              " ('Company', 'PARTNERS', 'Company'),\n",
              " ('Company', 'COMPETES', 'Company'),\n",
              " ('Company', 'ULTIMATE_PARENT_OF', 'Company')]"
            ]
          },
          "metadata": {},
          "execution_count": 60
        }
      ],
      "source": [
        "edge_types=data.edge_types[0:4]\n",
        "edge_types"
      ],
      "id": "02c3ecdb"
    },
    {
      "cell_type": "code",
      "execution_count": null,
      "metadata": {
        "colab": {
          "base_uri": "https://localhost:8080/"
        },
        "id": "650c6f15",
        "outputId": "a60494ea-4829-47b2-b93c-4f53837aac41"
      },
      "outputs": [
        {
          "output_type": "execute_result",
          "data": {
            "text/plain": [
              "HeteroData(\n",
              "  \u001b[1mCompany\u001b[0m={\n",
              "    num_nodes=11669,\n",
              "    x=[11669, 1921]\n",
              "  },\n",
              "  \u001b[1m(Company, SUPPLIES, Company)\u001b[0m={\n",
              "    edge_index=[2, 8090],\n",
              "    edge_attr=[8090]\n",
              "  },\n",
              "  \u001b[1m(Company, PARTNERS, Company)\u001b[0m={ edge_index=[2, 2663] },\n",
              "  \u001b[1m(Company, COMPETES, Company)\u001b[0m={ edge_index=[2, 4795] },\n",
              "  \u001b[1m(Company, ULTIMATE_PARENT_OF, Company)\u001b[0m={ edge_index=[2, 1510] },\n",
              "  \u001b[1m(Company, rev_SUPPLIES, Company)\u001b[0m={\n",
              "    edge_index=[2, 8090],\n",
              "    edge_attr=[8090]\n",
              "  },\n",
              "  \u001b[1m(Company, rev_PARTNERS, Company)\u001b[0m={ edge_index=[2, 2663] },\n",
              "  \u001b[1m(Company, rev_COMPETES, Company)\u001b[0m={ edge_index=[2, 4795] },\n",
              "  \u001b[1m(Company, rev_ULTIMATE_PARENT_OF, Company)\u001b[0m={ edge_index=[2, 1510] }\n",
              ")"
            ]
          },
          "metadata": {},
          "execution_count": 61
        }
      ],
      "source": [
        "# 1. Add a reverse ('movie', 'rev_rates', 'user') relation for message passing.\n",
        "data_und = ToUndirected(merge=False)(data)\n",
        "data_und"
      ],
      "id": "650c6f15"
    },
    {
      "cell_type": "code",
      "execution_count": null,
      "metadata": {
        "colab": {
          "base_uri": "https://localhost:8080/"
        },
        "id": "43580c70",
        "outputId": "f8ae7c25-86fd-4b2a-c3b5-765042f5c902"
      },
      "outputs": [
        {
          "output_type": "execute_result",
          "data": {
            "text/plain": [
              "[('Company', 'rev_SUPPLIES', 'Company'),\n",
              " ('Company', 'rev_PARTNERS', 'Company'),\n",
              " ('Company', 'rev_COMPETES', 'Company'),\n",
              " ('Company', 'rev_ULTIMATE_PARENT_OF', 'Company')]"
            ]
          },
          "metadata": {},
          "execution_count": 62
        }
      ],
      "source": [
        "reverse_edge_types = [(x[2], \"{}_{}\".format('rev', x[1]), x[0]) for x in edge_types]\n",
        "reverse_edge_types"
      ],
      "id": "43580c70"
    },
    {
      "cell_type": "code",
      "execution_count": null,
      "metadata": {
        "colab": {
          "base_uri": "https://localhost:8080/"
        },
        "id": "f6225469",
        "outputId": "50699451-a884-4b6d-9662-978282df7ff9"
      },
      "outputs": [
        {
          "output_type": "stream",
          "name": "stdout",
          "text": [
            "HeteroData(\n",
            "  \u001b[1mCompany\u001b[0m={\n",
            "    num_nodes=11669,\n",
            "    x=[11669, 1921]\n",
            "  },\n",
            "  \u001b[1m(Company, SUPPLIES, Company)\u001b[0m={\n",
            "    edge_index=[2, 5663],\n",
            "    edge_attr=[5663],\n",
            "    edge_label=[11326],\n",
            "    edge_label_index=[2, 11326]\n",
            "  },\n",
            "  \u001b[1m(Company, PARTNERS, Company)\u001b[0m={\n",
            "    edge_index=[2, 1865],\n",
            "    edge_label=[3730],\n",
            "    edge_label_index=[2, 3730]\n",
            "  },\n",
            "  \u001b[1m(Company, COMPETES, Company)\u001b[0m={\n",
            "    edge_index=[2, 3357],\n",
            "    edge_label=[6714],\n",
            "    edge_label_index=[2, 6714]\n",
            "  },\n",
            "  \u001b[1m(Company, ULTIMATE_PARENT_OF, Company)\u001b[0m={\n",
            "    edge_index=[2, 1057],\n",
            "    edge_label=[2114],\n",
            "    edge_label_index=[2, 2114]\n",
            "  },\n",
            "  \u001b[1m(Company, rev_SUPPLIES, Company)\u001b[0m={\n",
            "    edge_index=[2, 5663],\n",
            "    edge_attr=[5663]\n",
            "  },\n",
            "  \u001b[1m(Company, rev_PARTNERS, Company)\u001b[0m={ edge_index=[2, 1865] },\n",
            "  \u001b[1m(Company, rev_COMPETES, Company)\u001b[0m={ edge_index=[2, 3357] },\n",
            "  \u001b[1m(Company, rev_ULTIMATE_PARENT_OF, Company)\u001b[0m={ edge_index=[2, 1057] }\n",
            ")\n",
            "HeteroData(\n",
            "  \u001b[1mCompany\u001b[0m={\n",
            "    num_nodes=11669,\n",
            "    x=[11669, 1921]\n",
            "  },\n",
            "  \u001b[1m(Company, SUPPLIES, Company)\u001b[0m={\n",
            "    edge_index=[2, 5663],\n",
            "    edge_attr=[5663],\n",
            "    edge_label=[1618],\n",
            "    edge_label_index=[2, 1618]\n",
            "  },\n",
            "  \u001b[1m(Company, PARTNERS, Company)\u001b[0m={\n",
            "    edge_index=[2, 1865],\n",
            "    edge_label=[532],\n",
            "    edge_label_index=[2, 532]\n",
            "  },\n",
            "  \u001b[1m(Company, COMPETES, Company)\u001b[0m={\n",
            "    edge_index=[2, 3357],\n",
            "    edge_label=[958],\n",
            "    edge_label_index=[2, 958]\n",
            "  },\n",
            "  \u001b[1m(Company, ULTIMATE_PARENT_OF, Company)\u001b[0m={\n",
            "    edge_index=[2, 1057],\n",
            "    edge_label=[302],\n",
            "    edge_label_index=[2, 302]\n",
            "  },\n",
            "  \u001b[1m(Company, rev_SUPPLIES, Company)\u001b[0m={\n",
            "    edge_index=[2, 5663],\n",
            "    edge_attr=[5663]\n",
            "  },\n",
            "  \u001b[1m(Company, rev_PARTNERS, Company)\u001b[0m={ edge_index=[2, 1865] },\n",
            "  \u001b[1m(Company, rev_COMPETES, Company)\u001b[0m={ edge_index=[2, 3357] },\n",
            "  \u001b[1m(Company, rev_ULTIMATE_PARENT_OF, Company)\u001b[0m={ edge_index=[2, 1057] }\n",
            ")\n",
            "HeteroData(\n",
            "  \u001b[1mCompany\u001b[0m={\n",
            "    num_nodes=11669,\n",
            "    x=[11669, 1921]\n",
            "  },\n",
            "  \u001b[1m(Company, SUPPLIES, Company)\u001b[0m={\n",
            "    edge_index=[2, 6472],\n",
            "    edge_attr=[6472],\n",
            "    edge_label=[3236],\n",
            "    edge_label_index=[2, 3236]\n",
            "  },\n",
            "  \u001b[1m(Company, PARTNERS, Company)\u001b[0m={\n",
            "    edge_index=[2, 2131],\n",
            "    edge_label=[1064],\n",
            "    edge_label_index=[2, 1064]\n",
            "  },\n",
            "  \u001b[1m(Company, COMPETES, Company)\u001b[0m={\n",
            "    edge_index=[2, 3836],\n",
            "    edge_label=[1918],\n",
            "    edge_label_index=[2, 1918]\n",
            "  },\n",
            "  \u001b[1m(Company, ULTIMATE_PARENT_OF, Company)\u001b[0m={\n",
            "    edge_index=[2, 1208],\n",
            "    edge_label=[604],\n",
            "    edge_label_index=[2, 604]\n",
            "  },\n",
            "  \u001b[1m(Company, rev_SUPPLIES, Company)\u001b[0m={\n",
            "    edge_index=[2, 6472],\n",
            "    edge_attr=[6472]\n",
            "  },\n",
            "  \u001b[1m(Company, rev_PARTNERS, Company)\u001b[0m={ edge_index=[2, 2131] },\n",
            "  \u001b[1m(Company, rev_COMPETES, Company)\u001b[0m={ edge_index=[2, 3836] },\n",
            "  \u001b[1m(Company, rev_ULTIMATE_PARENT_OF, Company)\u001b[0m={ edge_index=[2, 1208] }\n",
            ")\n"
          ]
        }
      ],
      "source": [
        "from torch_geometric.transforms import RandomLinkSplit, RandomNodeSplit\n",
        "\n",
        "## designed for transductive learning https://zqfang.github.io/2021-08-12-graph-linkpredict/#inductive-link-prediction-split\n",
        "tfs = RandomLinkSplit(is_undirected=True,\n",
        "                      num_val=0.1,\n",
        "                      num_test=0.2,\n",
        "                      add_negative_train_samples=True,\n",
        "                      neg_sampling_ratio=1.0,\n",
        "                      #key = \"edge_label\", # supervision label\n",
        "                      disjoint_train_ratio=0,# disjoint mode if > 0\n",
        "                      edge_types=edge_types, # for heteroData\n",
        "                      rev_edge_types=reverse_edge_types, # for heteroData\n",
        "                      )\n",
        "train_data, val_data, test_data = tfs(data_und)\n",
        "# For this, we first split the set of edges into\n",
        "# training (80%), validation (10%), and testing edges (10%).\n",
        "# Across the training edges, we use 70% of edges for message passing,\n",
        "# and 30% of edges for supervision.\n",
        "# We further want to generate fixed negative edges for evaluation with a ratio of 2:1.\n",
        "# Negative edges during training will be generated on-the-fly.\n",
        "# We can leverage the `RandomLinkSplit()` transform for this from PyG:\n",
        "\n",
        "\n",
        "#After applying the `RandomLinkSplit` transform, the data is transformed from\n",
        "# a data object to a list of tuples (train_data, val_data, test_data), with\n",
        "# each element representing the corresponding split.\n",
        "print(train_data)\n",
        "print(val_data)\n",
        "print(test_data)\n"
      ],
      "id": "f6225469"
    },
    {
      "cell_type": "markdown",
      "metadata": {
        "id": "eea50b4f"
      },
      "source": [
        "# Defining Mini-batch Loaders"
      ],
      "id": "eea50b4f"
    },
    {
      "cell_type": "markdown",
      "metadata": {
        "id": "0a5e3958"
      },
      "source": [
        "It will generate subgraphs that can be used as input into our GNN.we make use of the loader.LinkNeighborLoader which samples multiple hops from both ends of a link and creates a subgraph from it. Here, edge_label_index serves as the \"seed links\" to start sampling from."
      ],
      "id": "0a5e3958"
    },
    {
      "cell_type": "code",
      "execution_count": null,
      "metadata": {
        "colab": {
          "base_uri": "https://localhost:8080/"
        },
        "id": "e3dacc8a",
        "outputId": "6e44c133-015f-4f86-eadc-a70bf2001a3d"
      },
      "outputs": [
        {
          "output_type": "stream",
          "name": "stderr",
          "text": [
            "/usr/local/lib/python3.10/dist-packages/torch_geometric/sampler/neighbor_sampler.py:50: UserWarning: Using '{self.__class__.__name__}' without a 'pyg-lib' installation is deprecated and will be removed soon. Please install 'pyg-lib' for accelerated neighborhood sampling\n",
            "  warnings.warn(\"Using '{self.__class__.__name__}' without a \"\n"
          ]
        }
      ],
      "source": [
        "# In the first hop, we sample at most 20 neighbors.\n",
        "# In the second hop, we sample at most 10 neighbors.\n",
        "# In addition, during training, we want to sample negative edges on-the-fly with\n",
        "# a ratio of 2:1.\n",
        "# We can make use of the `loader.LinkNeighborLoader` from PyG:\n",
        "from torch_geometric.loader import LinkNeighborLoader\n",
        "import torch_sparse\n",
        "# Define seed edges:\n",
        "edge_label_index = train_data['Company', 'SUPPLIES', 'Company'].edge_label_index\n",
        "edge_label = train_data['Company', 'SUPPLIES', 'Company'].edge_label\n",
        "\n",
        "batch_size=500\n",
        "train_loader = LinkNeighborLoader(\n",
        "    data=train_data,\n",
        "    num_neighbors=[20, 10],\n",
        "    #neg_sampling='binary',\n",
        "    edge_label_index=(('Company', 'SUPPLIES', 'Company'), edge_label_index),\n",
        "    edge_label=edge_label,\n",
        "    batch_size=batch_size,\n",
        "    shuffle=True\n",
        ")\n"
      ],
      "id": "e3dacc8a"
    },
    {
      "cell_type": "code",
      "execution_count": null,
      "metadata": {
        "id": "1b38bd76"
      },
      "outputs": [],
      "source": [
        "##Validation batching ##RUN ONLY FOR WHOLE NETWORK\n",
        "val_loader = LinkNeighborLoader(\n",
        "    data=val_data,\n",
        "    num_neighbors=[20, 10],\n",
        "   # neg_sampling='binary',\n",
        "    edge_label_index=(('Company', 'SUPPLIES', 'Company'), val_data['Company', 'SUPPLIES', 'Company'].edge_label_index),\n",
        "    edge_label=val_data['Company', 'SUPPLIES', 'Company'].edge_label,\n",
        "    batch_size=batch_size,\n",
        "    shuffle=True,\n",
        ")"
      ],
      "id": "1b38bd76"
    },
    {
      "cell_type": "code",
      "execution_count": null,
      "metadata": {
        "colab": {
          "base_uri": "https://localhost:8080/"
        },
        "id": "334680a3",
        "outputId": "aff492cf-8661-4724-b643-d02d11712320"
      },
      "outputs": [
        {
          "name": "stderr",
          "output_type": "stream",
          "text": [
            "/usr/local/lib/python3.10/dist-packages/torch_geometric/sampler/neighbor_sampler.py:50: UserWarning: Using '{self.__class__.__name__}' without a 'pyg-lib' installation is deprecated and will be removed soon. Please install 'pyg-lib' for accelerated neighborhood sampling\n",
            "  warnings.warn(\"Using '{self.__class__.__name__}' without a \"\n"
          ]
        }
      ],
      "source": [
        "##Test batching ##RUN ONLY FOR WHOLE NETWORK\n",
        "test_loader = LinkNeighborLoader(\n",
        "    data=test_data,\n",
        "    num_neighbors=[20, 10],\n",
        "    neg_sampling='binary',\n",
        "    edge_label_index=(('Company', 'SUPPLIES', 'Company'), test_data['Company', 'SUPPLIES', 'Company'].edge_label_index),\n",
        "    edge_label=test_data['Company', 'SUPPLIES', 'Company'].edge_label,\n",
        "    batch_size=batch_size,\n",
        "    shuffle=True,\n",
        ")"
      ],
      "id": "334680a3"
    },
    {
      "cell_type": "markdown",
      "metadata": {
        "id": "ev0LUqsqWTqA"
      },
      "source": [
        "# Models"
      ],
      "id": "ev0LUqsqWTqA"
    },
    {
      "cell_type": "markdown",
      "metadata": {
        "id": "860cc554"
      },
      "source": [
        "## RGCN-SINGLE EDGETYPE"
      ],
      "id": "860cc554"
    },
    {
      "cell_type": "code",
      "execution_count": null,
      "metadata": {
        "id": "vzFIQLIJjieG"
      },
      "outputs": [],
      "source": [
        "from torch_geometric.nn import GAE, RGCNConv\n",
        "from torch.nn import Parameter\n",
        "class RGCNEncoder(torch.nn.Module):\n",
        "    def __init__(self, num_nodes, hidden_channels,out_channels, num_relations):\n",
        "        super().__init__()\n",
        "        self.node_emb = Parameter(torch.Tensor(num_nodes, hidden_channels)) ##Initiliaze Learnable embedding vector (paper r-GAT)\n",
        "        self.conv1 = RGCNConv(hidden_channels, hidden_channels, num_relations)\n",
        "        self.conv2 = RGCNConv(hidden_channels, out_channels, num_relations)\n",
        "        self.reset_parameters()\n",
        "\n",
        "    def reset_parameters(self):\n",
        "        torch.nn.init.xavier_uniform_(self.node_emb)\n",
        "        self.conv1.reset_parameters()\n",
        "        self.conv2.reset_parameters()\n",
        "\n",
        "    def forward(self, edge_index, edge_type):\n",
        "        x = self.node_emb\n",
        "        x = self.conv1(x, edge_index, edge_type).relu_()\n",
        "        #x = F.dropout(x, p=0.2, training=self.training)\n",
        "        x = self.conv2(x, edge_index, edge_type).relu_()\n",
        "        return x\n",
        "\n",
        "\n",
        "class DistMultDecoder(torch.nn.Module):\n",
        "    def __init__(self, num_relations, hidden_channels):\n",
        "        super().__init__()\n",
        "        self.rel_emb = Parameter(torch.Tensor(1, hidden_channels))\n",
        "        self.reset_parameters()\n",
        "\n",
        "    def reset_parameters(self):\n",
        "        torch.nn.init.xavier_uniform_(self.rel_emb)\n",
        "\n",
        "    def forward(self, z, edge_label_index):\n",
        "        z_src, z_dst = z[edge_label_index[0]], z[edge_label_index[1]]\n",
        "        rel = self.rel_emb\n",
        "        return torch.sum(z_src * rel * z_dst, dim=1)"
      ],
      "id": "vzFIQLIJjieG"
    },
    {
      "cell_type": "code",
      "execution_count": null,
      "metadata": {
        "id": "L5-vNJEPz27B"
      },
      "outputs": [],
      "source": [
        "modelRGCN_STES = GAE(\n",
        "    RGCNEncoder(data.num_nodes, hidden_channels=32,out_channels=32, num_relations=len(edge_types)),\n",
        "    DistMultDecoder(len(edge_types), hidden_channels=32),\n",
        ")\n",
        "optimizer = torch.optim.Adam(modelRGCN_STES.parameters(), lr=0, weight_decay=0.001)\n",
        "modelRGCN_STES.loss=torch.nn.BCEWithLogitsLoss()"
      ],
      "id": "L5-vNJEPz27B"
    },
    {
      "cell_type": "code",
      "execution_count": null,
      "metadata": {
        "id": "YVg6orA0j4DT"
      },
      "outputs": [],
      "source": [
        "def train_batch(model,epochs):\n",
        "    model.train()\n",
        "    for epoch in range(epochs):\n",
        "      total_examples = total_loss = 0\n",
        "      for batch in train_loader:\n",
        "        optimizer.zero_grad()\n",
        "        batch = batch.to(device)\n",
        "        batch_size = train_loader.batch_size\n",
        "        edgetype, edge_indexes, labelled_edge_indexes, labelled_edgetype=torch.empty(1,0),torch.empty(2,0),torch.empty(2,0),torch.empty(1,0)\n",
        "        labelled_edge=torch.empty(0)\n",
        "        i=1\n",
        "        for key in edge_types:\n",
        "            edge_indexes=torch.cat([edge_indexes,batch[key].edge_index],dim=-1).to(torch.int64)\n",
        "            edgetype=torch.cat([edgetype,torch.full((1,batch[key].edge_index.size(1)),i)],dim=-1).to(torch.int64)\n",
        "            labelled_edge_indexes=torch.cat([labelled_edge_indexes,batch[key].edge_label_index],dim=-1).to(torch.int64)\n",
        "            #labelled_edgetype=torch.cat([labelled_edgetype,torch.full((1,batch[key].edge_label_index.size(1)),i)],dim=-1).to(torch.int64)\n",
        "            labelled_edge=torch.cat([labelled_edge,batch[key].edge_label],dim=-1)\n",
        "            i+=1\n",
        "        #edge_indexes=edge_indexes.view(-1)\n",
        "        edgetype=edgetype.view(-1)\n",
        "        #labelled_edgetype=labelled_edgetype.view(-1)\n",
        "        #labelled_edge_indexes=labelled_edge_indexes.view(-1)\n",
        "        z = model.encode(edge_indexes, edge_type=edgetype)\n",
        "        out = model.decode(z, labelled_edge_indexes)\n",
        "        target =labelled_edge\n",
        "        loss = model.loss(out, target)\n",
        "        total_examples += batch_size\n",
        "        total_loss += float(loss) * batch_size\n",
        "\n",
        "        loss.backward()\n",
        "        torch.nn.utils.clip_grad_norm_(model.parameters(), 1.)\n",
        "        optimizer.step()\n",
        "      print(f'Epoch: {epoch + 1},Loss: {total_loss/total_examples}')\n",
        "    return model"
      ],
      "id": "YVg6orA0j4DT"
    },
    {
      "cell_type": "code",
      "execution_count": null,
      "metadata": {
        "colab": {
          "base_uri": "https://localhost:8080/"
        },
        "id": "0f3dc0ab",
        "outputId": "58feb8fe-ae1a-4a7a-c91b-43fe2c507749"
      },
      "outputs": [
        {
          "name": "stdout",
          "output_type": "stream",
          "text": [
            "Epoch: 1,Loss: 0.6931447360826575\n",
            "Epoch: 2,Loss: 0.6931448241938716\n",
            "Epoch: 3,Loss: 0.6931450522464254\n",
            "Epoch: 4,Loss: 0.6931448734324911\n",
            "Epoch: 5,Loss: 0.69314488120701\n",
            "Epoch: 6,Loss: 0.6931447594062142\n",
            "Epoch: 7,Loss: 0.6931448086448337\n",
            "Epoch: 8,Loss: 0.6931447619977205\n",
            "Epoch: 9,Loss: 0.6931449148965918\n",
            "Epoch: 10,Loss: 0.6931452051452969\n"
          ]
        }
      ],
      "source": [
        "modelRGCN_STES_trained=train_batch(modelRGCN_STES,epochs=10)"
      ],
      "id": "0f3dc0ab"
    },
    {
      "cell_type": "code",
      "execution_count": null,
      "metadata": {
        "id": "AVyW4MPklJcD"
      },
      "outputs": [],
      "source": [
        "from sklearn.metrics import f1_score, roc_auc_score, accuracy_score,precision_score,confusion_matrix,ConfusionMatrixDisplay,top_k_accuracy_score\n",
        "\n",
        "def evaluate(data,model,t=0.5):\n",
        "    model.eval()\n",
        "    #y_true, y_pred = [], []\n",
        "    #y_true, y_pred=torch.empty(0),torch.empty(0)\n",
        "    with torch.no_grad():\n",
        "            edgetype, edge_indexes, labelled_edge_indexes, labelled_edgetype=torch.empty(1,0),torch.empty(2,0),torch.empty(2,0),torch.empty(1,0)\n",
        "            labelled_edge=torch.empty(0)\n",
        "            i=1\n",
        "            for key in edge_types:\n",
        "                edge_indexes=torch.cat([edge_indexes,data[key].edge_index],dim=-1).to(torch.int64)\n",
        "                edgetype=torch.cat([edgetype,torch.full((1,data[key].edge_index.size(1)),i)],dim=-1).to(torch.int64)\n",
        "                labelled_edge_indexes=torch.cat([labelled_edge_indexes,data[key].edge_label_index],dim=-1).to(torch.int64)\n",
        "                #labelled_edgetype=torch.cat([labelled_edgetype,torch.full((1,data[key].edge_label_index.size(1)),i)],dim=-1).to(torch.int64)\n",
        "                labelled_edge=torch.cat([labelled_edge,data[key].edge_label],dim=-1)\n",
        "                i+=1\n",
        "            #edge_indexes=edge_indexes.view(-1)\n",
        "            edgetype=edgetype.view(-1)\n",
        "            #labelled_edgetype=labelled_edgetype.view(-1)\n",
        "            z = model.encode(edge_indexes, edge_type=edgetype)\n",
        "            scores = model.decode(z, labelled_edge_indexes)\n",
        "            #y_true =torch.cat([y_true,labelled_edge],dim=0)\n",
        "\n",
        "            #y_pred=torch.cat([y_pred,pred],dim=0)\n",
        "    f1=f1_score(labelled_edge.numpy(), [1 if p >= t else 0 for p in scores.sigmoid().numpy()])\n",
        "    auc = roc_auc_score(labelled_edge.numpy(), scores.sigmoid().numpy())\n",
        "    acc = accuracy_score(labelled_edge.numpy(), [1 if p >= t else 0 for p in scores.sigmoid().numpy()])\n",
        "    print(f\"AUC : {auc:.4f}\")\n",
        "    print(f\"Accuracy : {acc:.4f}\")\n",
        "    print(f\"f1 score for class {i+1}: {f1:.4f}\")\n",
        "    return auc, acc"
      ],
      "id": "AVyW4MPklJcD"
    },
    {
      "cell_type": "code",
      "execution_count": null,
      "metadata": {
        "colab": {
          "base_uri": "https://localhost:8080/"
        },
        "id": "eca73cc1",
        "outputId": "80a43e5e-5c20-42aa-e8ae-1eb491542e35"
      },
      "outputs": [
        {
          "name": "stdout",
          "output_type": "stream",
          "text": [
            "AUC : 0.6577\n",
            "Accuracy : 0.5243\n",
            "f1 score for class 6: 0.6192\n"
          ]
        },
        {
          "data": {
            "text/plain": [
              "(0.657727917716566, 0.5243401759530791)"
            ]
          },
          "execution_count": 39,
          "metadata": {},
          "output_type": "execute_result"
        }
      ],
      "source": [
        "# Evaluate on validation set\n",
        "evaluate(val_data,modelRGCN_STES_trained)"
      ],
      "id": "eca73cc1"
    },
    {
      "cell_type": "code",
      "execution_count": null,
      "metadata": {
        "colab": {
          "base_uri": "https://localhost:8080/"
        },
        "id": "26ed748a",
        "outputId": "fc2e4e90-76e5-44e1-e689-3a7290314e07"
      },
      "outputs": [
        {
          "name": "stdout",
          "output_type": "stream",
          "text": [
            "AUC : 0.6684\n",
            "Accuracy : 0.5418\n",
            "f1 score for class 6: 0.6305\n"
          ]
        },
        {
          "data": {
            "text/plain": [
              "(0.6684225445106159, 0.5417766051011433)"
            ]
          },
          "execution_count": 40,
          "metadata": {},
          "output_type": "execute_result"
        }
      ],
      "source": [
        "# Evaluate on test set\n",
        "evaluate(test_data,modelRGCN_STES_trained)"
      ],
      "id": "26ed748a"
    },
    {
      "cell_type": "code",
      "execution_count": null,
      "metadata": {
        "colab": {
          "base_uri": "https://localhost:8080/"
        },
        "id": "zI09FwszBNQa",
        "outputId": "02c18350-93f9-4487-cb2c-9675bc663f80"
      },
      "outputs": [
        {
          "name": "stdout",
          "output_type": "stream",
          "text": [
            "experiment for wd: 0 and channels: [32, 32]\n",
            "Epoch: 1,Loss: 0.4136376251345095\n",
            "Epoch: 2,Loss: 0.05312615422450978\n",
            "Epoch: 3,Loss: 0.027974729466697445\n",
            "Epoch: 4,Loss: 0.01837550496439571\n",
            "Epoch: 5,Loss: 0.013130116600381292\n",
            "Epoch: 6,Loss: 0.0108118101792491\n",
            "Epoch: 7,Loss: 0.009700866193389114\n",
            "Epoch: 8,Loss: 0.009417898345576681\n",
            "Epoch: 9,Loss: 0.00873067051820133\n",
            "Epoch: 10,Loss: 0.008605633477639893\n",
            "AUC : 0.8772\n",
            "Accuracy : 0.8141\n",
            "f1 score for class 6: 0.8176\n",
            "AUC : 0.8696\n",
            "Accuracy : 0.8050\n",
            "f1 score for class 6: 0.8088\n",
            "experiment for wd: 0 and channels: [64, 32]\n",
            "Epoch: 1,Loss: 0.3015659385077331\n",
            "Epoch: 2,Loss: 0.0369745171426431\n",
            "Epoch: 3,Loss: 0.02206669440088065\n",
            "Epoch: 4,Loss: 0.015698060312348862\n",
            "Epoch: 5,Loss: 0.013092592358589172\n",
            "Epoch: 6,Loss: 0.011281303312305523\n",
            "Epoch: 7,Loss: 0.010057413748101048\n",
            "Epoch: 8,Loss: 0.009143549179577309\n",
            "Epoch: 9,Loss: 0.008512506828359936\n",
            "Epoch: 10,Loss: 0.008315601102683855\n",
            "AUC : 0.8656\n",
            "Accuracy : 0.8085\n",
            "f1 score for class 6: 0.8101\n",
            "AUC : 0.8601\n",
            "Accuracy : 0.8043\n",
            "f1 score for class 6: 0.8055\n",
            "experiment for wd: 0 and channels: [64, 64]\n",
            "Epoch: 1,Loss: 0.31943945295136905\n",
            "Epoch: 2,Loss: 0.05156918671791968\n",
            "Epoch: 3,Loss: 0.026435246934061466\n",
            "Epoch: 4,Loss: 0.018488039788992508\n",
            "Epoch: 5,Loss: 0.014711001240040945\n",
            "Epoch: 6,Loss: 0.01205437598021134\n",
            "Epoch: 7,Loss: 0.010922877239468306\n",
            "Epoch: 8,Loss: 0.009383757031806137\n",
            "Epoch: 9,Loss: 0.008652006680874721\n",
            "Epoch: 10,Loss: 0.007989124698645395\n",
            "AUC : 0.8483\n",
            "Accuracy : 0.8015\n",
            "f1 score for class 6: 0.8002\n",
            "AUC : 0.8430\n",
            "Accuracy : 0.7968\n",
            "f1 score for class 6: 0.7929\n",
            "experiment for wd: 0.001 and channels: [32, 32]\n",
            "Epoch: 1,Loss: 0.6505809361520021\n",
            "Epoch: 2,Loss: 0.1269481489839761\n",
            "Epoch: 3,Loss: 0.06530256747551587\n",
            "Epoch: 4,Loss: 0.055263606750446816\n",
            "Epoch: 5,Loss: 0.05264036098252172\n",
            "Epoch: 6,Loss: 0.05144744771330253\n",
            "Epoch: 7,Loss: 0.05160486973498179\n",
            "Epoch: 8,Loss: 0.04880688064124273\n",
            "Epoch: 9,Loss: 0.04782587743323782\n",
            "Epoch: 10,Loss: 0.04649132571142653\n",
            "AUC : 0.9246\n",
            "Accuracy : 0.8569\n",
            "f1 score for class 6: 0.8599\n",
            "AUC : 0.9179\n",
            "Accuracy : 0.8468\n",
            "f1 score for class 6: 0.8515\n",
            "experiment for wd: 0.001 and channels: [64, 32]\n",
            "Epoch: 1,Loss: 0.609590206457221\n",
            "Epoch: 2,Loss: 0.10447144832300104\n",
            "Epoch: 3,Loss: 0.062301642706860665\n",
            "Epoch: 4,Loss: 0.05559360900002977\n",
            "Epoch: 5,Loss: 0.05209147913948349\n",
            "Epoch: 6,Loss: 0.04972935435564622\n",
            "Epoch: 7,Loss: 0.04917800815209099\n",
            "Epoch: 8,Loss: 0.04701170390066893\n",
            "Epoch: 9,Loss: 0.0450272705891858\n",
            "Epoch: 10,Loss: 0.04419402713360994\n",
            "AUC : 0.9172\n",
            "Accuracy : 0.8493\n",
            "f1 score for class 6: 0.8512\n",
            "AUC : 0.9107\n",
            "Accuracy : 0.8398\n",
            "f1 score for class 6: 0.8438\n",
            "experiment for wd: 0.001 and channels: [64, 64]\n",
            "Epoch: 1,Loss: 0.6892678841300632\n",
            "Epoch: 2,Loss: 0.19411390307156937\n",
            "Epoch: 3,Loss: 0.06849175788786101\n",
            "Epoch: 4,Loss: 0.05950596280719923\n",
            "Epoch: 5,Loss: 0.05594582823307618\n",
            "Epoch: 6,Loss: 0.05208227394715599\n",
            "Epoch: 7,Loss: 0.04910085188305896\n",
            "Epoch: 8,Loss: 0.04524453599815783\n",
            "Epoch: 9,Loss: 0.0437141443076341\n",
            "Epoch: 10,Loss: 0.04416015760406204\n",
            "AUC : 0.9233\n",
            "Accuracy : 0.8519\n",
            "f1 score for class 6: 0.8558\n",
            "AUC : 0.9158\n",
            "Accuracy : 0.8446\n",
            "f1 score for class 6: 0.8506\n",
            "experiment for wd: 0.005 and channels: [32, 32]\n",
            "Epoch: 1,Loss: 0.6929111610288206\n",
            "Epoch: 2,Loss: 0.6931411494379458\n",
            "Epoch: 4,Loss: 0.693147185056106\n",
            "Epoch: 5,Loss: 0.6931472938993702\n",
            "Epoch: 6,Loss: 0.6931472938993702\n",
            "Epoch: 7,Loss: 0.6931472938993702\n",
            "Epoch: 8,Loss: 0.6931472938993702\n",
            "Epoch: 9,Loss: 0.6931472938993702\n",
            "Epoch: 10,Loss: 0.6931472938993702\n",
            "AUC : 0.5000\n",
            "Accuracy : 0.5000\n",
            "f1 score for class 6: 0.6667\n",
            "AUC : 0.5000\n",
            "Accuracy : 0.5000\n",
            "f1 score for class 6: 0.6667\n",
            "experiment for wd: 0.005 and channels: [64, 32]\n",
            "Epoch: 1,Loss: 0.6930881609087405\n",
            "Epoch: 2,Loss: 0.6931472006051437\n",
            "Epoch: 3,Loss: 0.6931472161541814\n",
            "Epoch: 4,Loss: 0.6931472938993702\n",
            "Epoch: 5,Loss: 0.6931472938993702\n",
            "Epoch: 6,Loss: 0.6931472938993702\n",
            "Epoch: 7,Loss: 0.6931472938993702\n",
            "Epoch: 8,Loss: 0.6931472938993702\n",
            "Epoch: 9,Loss: 0.6931472938993702\n",
            "Epoch: 10,Loss: 0.6931472938993702\n",
            "AUC : 0.5000\n",
            "Accuracy : 0.5000\n",
            "f1 score for class 6: 0.6667\n",
            "AUC : 0.5000\n",
            "Accuracy : 0.5000\n",
            "f1 score for class 6: 0.6667\n",
            "experiment for wd: 0.005 and channels: [64, 64]\n",
            "Epoch: 1,Loss: 0.6931269816730333\n",
            "Epoch: 2,Loss: 0.6931472083796626\n",
            "Epoch: 3,Loss: 0.6931472368862318\n",
            "Epoch: 4,Loss: 0.6931472938993702\n",
            "Epoch: 5,Loss: 0.6931472938993702\n",
            "Epoch: 6,Loss: 0.6931472938993702\n",
            "Epoch: 7,Loss: 0.6931472938993702\n",
            "Epoch: 8,Loss: 0.6931472938993702\n",
            "Epoch: 9,Loss: 0.6931472938993702\n",
            "Epoch: 10,Loss: 0.6931472938993702\n",
            "AUC : 0.5000\n",
            "Accuracy : 0.5000\n",
            "f1 score for class 6: 0.6667\n",
            "AUC : 0.5000\n",
            "Accuracy : 0.5000\n",
            "f1 score for class 6: 0.6667\n",
            "experiment for wd: 0.01 and channels: [32, 32]\n",
            "Epoch: 1,Loss: 0.6931315116260363\n",
            "Epoch: 2,Loss: 0.6931472057881563\n",
            "Epoch: 3,Loss: 0.6931472835333451\n",
            "Epoch: 4,Loss: 0.6931472938993702\n",
            "Epoch: 5,Loss: 0.6931472938993702\n",
            "Epoch: 6,Loss: 0.6931472938993702\n",
            "Epoch: 7,Loss: 0.6931472938993702\n",
            "Epoch: 8,Loss: 0.6931472938993702\n",
            "Epoch: 9,Loss: 0.6931472938993702\n",
            "Epoch: 10,Loss: 0.6931472938993702\n",
            "AUC : 0.5000\n",
            "Accuracy : 0.5000\n",
            "f1 score for class 6: 0.6667\n",
            "AUC : 0.5000\n",
            "Accuracy : 0.5000\n",
            "f1 score for class 6: 0.6667\n",
            "experiment for wd: 0.01 and channels: [64, 32]\n",
            "Epoch: 1,Loss: 0.6930968865104343\n",
            "Epoch: 2,Loss: 0.693147185056106\n",
            "Epoch: 3,Loss: 0.6931472368862318\n",
            "Epoch: 4,Loss: 0.6931472938993702\n",
            "Epoch: 5,Loss: 0.6931472938993702\n",
            "Epoch: 6,Loss: 0.6931472938993702\n",
            "Epoch: 7,Loss: 0.6931472938993702\n",
            "Epoch: 8,Loss: 0.6931472938993702\n",
            "Epoch: 9,Loss: 0.6931472938993702\n",
            "Epoch: 10,Loss: 0.6931472938993702\n",
            "AUC : 0.5000\n",
            "Accuracy : 0.5000\n",
            "f1 score for class 6: 0.6667\n",
            "AUC : 0.5000\n",
            "Accuracy : 0.5000\n",
            "f1 score for class 6: 0.6667\n",
            "experiment for wd: 0.01 and channels: [64, 64]\n",
            "Epoch: 1,Loss: 0.6931453710016997\n",
            "Epoch: 2,Loss: 0.6931472576182821\n",
            "Epoch: 3,Loss: 0.6931472938993702\n",
            "Epoch: 4,Loss: 0.6931472938993702\n",
            "Epoch: 5,Loss: 0.6931472938993702\n",
            "Epoch: 6,Loss: 0.6931472938993702\n",
            "Epoch: 7,Loss: 0.6931472938993702\n",
            "Epoch: 8,Loss: 0.6931472938993702\n",
            "Epoch: 9,Loss: 0.6931472938993702\n",
            "Epoch: 10,Loss: 0.6931472938993702\n",
            "AUC : 0.5000\n",
            "Accuracy : 0.5000\n",
            "f1 score for class 6: 0.6667\n",
            "AUC : 0.5000\n",
            "Accuracy : 0.5000\n",
            "f1 score for class 6: 0.6667\n",
            "[[0.87723222 0.86561743 0.84825277]\n",
            " [0.9245882  0.91718183 0.92333434]\n",
            " [0.5        0.5        0.5       ]\n",
            " [0.5        0.5        0.5       ]]\n",
            "[[0.86963281 0.86010442 0.84295768]\n",
            " [0.91791418 0.91067778 0.91579956]\n",
            " [0.5        0.5        0.5       ]\n",
            " [0.5        0.5        0.5       ]]\n"
          ]
        }
      ],
      "source": [
        "## TUNING\n",
        "wd=[0, 1e-3, 5e-3,1e-2]\n",
        "hid=[[32,32],[64,32],[64,64]]\n",
        "val_auc=np.empty((4,3))\n",
        "test_auc=np.empty((4,3))\n",
        "val_f1=np.empty((4,3))\n",
        "test_f1=np.empty((4,3))\n",
        "c1=0\n",
        "for i in  wd:\n",
        "    c2=0\n",
        "    for h in hid:\n",
        "\n",
        "            modelRGCN_STES = GAE(\n",
        "              RGCNEncoder(data.num_nodes, hidden_channels=h[0], out_channels=h[1],num_relations=len(edge_types)),\n",
        "               DistMultDecoder(len(edge_types), hidden_channels=h[1])\n",
        "            )\n",
        "            optimizer = torch.optim.Adam(modelRGCN_STES.parameters(), lr=0.01, weight_decay=i)\n",
        "            modelRGCN_STES.loss=torch.nn.BCEWithLogitsLoss()\n",
        "\n",
        "            print(f\"experiment for wd: {i} and channels: {h}\")\n",
        "            trained=train_batch(modelRGCN_STES,epochs=10)\n",
        "            val_auc[c1,c2],val_f1[c1,c2]=evaluate(val_data,trained)\n",
        "            test_auc[c1,c2],test_f1[c1,c2]=evaluate(test_data,trained)\n",
        "            c2+=1\n",
        "    c1+=1\n",
        "print(val_auc)\n",
        "print(test_auc)\n"
      ],
      "id": "zI09FwszBNQa"
    },
    {
      "cell_type": "markdown",
      "metadata": {
        "id": "763d208b"
      },
      "source": [
        "## RGCN-MTES WITH LEARNABLE SELF EMBEDDING"
      ],
      "id": "763d208b"
    },
    {
      "cell_type": "code",
      "execution_count": null,
      "metadata": {
        "id": "d66a8846"
      },
      "outputs": [],
      "source": [
        "### MULTI-EDGETYPE SCORES\n",
        "from torch_geometric.nn import GAE, RGCNConv\n",
        "from torch.nn import Parameter\n",
        "class RGCNEncoder(torch.nn.Module):\n",
        "    def __init__(self, num_nodes, hidden_channels,out_channels,num_relations):\n",
        "        super().__init__()\n",
        "        self.node_emb = Parameter(torch.Tensor(num_nodes, hidden_channels)) ##Initiliaze Learnable embedding vector (paper r-GAT)\n",
        "        self.conv1 = RGCNConv(hidden_channels, hidden_channels, num_relations)\n",
        "        self.conv2 = RGCNConv(hidden_channels, out_channels, num_relations)\n",
        "        self.reset_parameters()\n",
        "\n",
        "    def reset_parameters(self):\n",
        "        torch.nn.init.xavier_uniform_(self.node_emb)\n",
        "        self.conv1.reset_parameters()\n",
        "        self.conv2.reset_parameters()\n",
        "\n",
        "    def forward(self, edge_index, edge_type):\n",
        "        x = self.node_emb\n",
        "        x = self.conv1(x, edge_index, edge_type).relu_()\n",
        "        #x = F.dropout(x, p=0.2, training=self.training)\n",
        "        z = self.conv2(x, edge_index, edge_type).relu()\n",
        "        return z\n",
        "\n",
        "\n",
        "class DistMultDecoder(torch.nn.Module):\n",
        "    def __init__(self, num_relations, hidden_channels):\n",
        "        super().__init__()\n",
        "        self.rel_emb = Parameter(torch.Tensor(num_relations, hidden_channels))\n",
        "        self.reset_parameters()\n",
        "\n",
        "    def reset_parameters(self):\n",
        "        torch.nn.init.xavier_uniform_(self.rel_emb)\n",
        "\n",
        "    def forward(self, z, edge_label_index):\n",
        "        scores={}\n",
        "        for i in range(len(edge_types)):\n",
        "                z_src, z_dst = z[edge_label_index[i+1][0]], z[edge_label_index[i+1][1]]\n",
        "#         out=torch.empty(0)\n",
        "#         for i in range(len(edge_type)):\n",
        "#             #score=torch.sum(z_src[i]*rel_emb*z_dst[i], dim=1)\n",
        "#             out=torch.cat([out,torch.max(torch.sum(z_src[i-1]*rel_emb*z_dst[i-1], dim=1).sigmoid(),dim=0,keepdim=True).indices+1],dim=-1)\n",
        "#         pred=out#.to(torch.int64)\n",
        "                scores[i]=torch.sum(z_src*self.rel_emb[i]*z_dst, dim=1)\n",
        "        return  scores\n"
      ],
      "id": "d66a8846"
    },
    {
      "cell_type": "code",
      "execution_count": null,
      "metadata": {
        "id": "Ib1GSvwo4mMp"
      },
      "outputs": [],
      "source": [
        "modelRGCN = GAE(\n",
        "    RGCNEncoder(data.num_nodes, hidden_channels=64, out_channels=32,num_relations=len(edge_types)),\n",
        "    DistMultDecoder(len(edge_types), hidden_channels=32)\n",
        ")\n",
        "optimizer = torch.optim.Adam(modelRGCN.parameters(), lr=0.01, weight_decay=1e-3) # weight_decay=5*1e-3 optimal for 1 sector, 5e-2 for 2 sector\n",
        "modelRGCN.loss=torch.nn.BCEWithLogitsLoss() #pos_weight = torch.ones([1])"
      ],
      "id": "Ib1GSvwo4mMp"
    },
    {
      "cell_type": "code",
      "source": [
        "from torch_geometric.profile import count_parameters\n",
        "count_parameters(modelRGCN)"
      ],
      "metadata": {
        "colab": {
          "base_uri": "https://localhost:8080/"
        },
        "id": "DMk1qK72VeXQ",
        "outputId": "eec281dc-db86-41fd-aad1-660a5a3f7737"
      },
      "id": "DMk1qK72VeXQ",
      "execution_count": null,
      "outputs": [
        {
          "output_type": "execute_result",
          "data": {
            "text/plain": [
              "1499488"
            ]
          },
          "metadata": {},
          "execution_count": 40
        }
      ]
    },
    {
      "cell_type": "code",
      "execution_count": null,
      "metadata": {
        "id": "331e5d55"
      },
      "outputs": [],
      "source": [
        "#Train with mini-batchs\n",
        "def train_batch(model,epochs):\n",
        "    model.train()\n",
        "    for epoch in range(epochs):\n",
        "        total_examples = total_loss = 0\n",
        "        #z_train=torch.empty([data.num_nodes, model.encoder.conv1.out_channels])\n",
        "        for batch in train_loader:\n",
        "            optimizer.zero_grad()\n",
        "            batch = batch.to(device)\n",
        "            batch_size = train_loader.batch_size\n",
        "            edgetype, edge_indexes=torch.empty(1,0),torch.empty(2,0)\n",
        "            labelled_edge_indexes={}\n",
        "            labelled_edgetype={}\n",
        "            #out={}\n",
        "            i=1\n",
        "            for key in edge_types:\n",
        "                edge_indexes=torch.cat([edge_indexes,batch[key].edge_index],dim=-1).to(torch.int64)\n",
        "                edgetype=torch.cat([edgetype,torch.full((1,batch[key].edge_index.size(1)),i-1)],dim=-1).to(torch.int64)\n",
        "                labelled_edge_indexes[i]=batch[key].edge_label_index\n",
        "                labelled_edgetype[i]=batch[key].edge_label\n",
        "                i+=1\n",
        "            #edge_indexes=edge_indexes.view(-1)\n",
        "            edgetype=edgetype.view(-1)\n",
        "            #labelled_edgetype=labelled_edgetype.view(-1)\n",
        "            #edge_labels=[torch.where(labelled_edgetype == i+1, 1, torch.tensor(0)).to(torch.float)  for i in  range(len(edge_types))]\n",
        "            #labelled_edge_indexes=labelled_edge_indexes.view(-1)\n",
        "            z = model.encode(edge_indexes, edge_type=edgetype)\n",
        "            #z_train+=z*batch_size\n",
        "\n",
        "            out = model.decode(z, labelled_edge_indexes)\n",
        "            #out_all=torch.stack([out[0].sigmoid(), out[1].sigmoid(),out[2].sigmoid(),out[3].sigmoid()])\n",
        "            loss=float(0)\n",
        "            for i in  range(len(edge_types)):\n",
        "                loss += model.loss(out[i], labelled_edgetype[i+1])\n",
        "            total_examples += batch_size\n",
        "            total_loss += loss * batch_size\n",
        "            #loss_final=total_loss/total_examples\n",
        "            loss.backward()\n",
        "            torch.nn.utils.clip_grad_norm_(model.parameters(), 1.)\n",
        "            optimizer.step()\n",
        "        print(f'Epoch: {epoch + 1},Loss: {total_loss/total_examples}')\n",
        "        #z_trained=z_train/total_examples\n",
        "    return  model"
      ],
      "id": "331e5d55"
    },
    {
      "cell_type": "code",
      "execution_count": null,
      "metadata": {
        "colab": {
          "base_uri": "https://localhost:8080/"
        },
        "id": "d3bb75e3",
        "outputId": "159d4f95-0a13-45f8-8bb0-e89a7e327866"
      },
      "outputs": [
        {
          "name": "stdout",
          "output_type": "stream",
          "text": [
            "Epoch: 1,Loss: 2.3837976455688477\n",
            "Epoch: 2,Loss: 0.9271292686462402\n",
            "Epoch: 3,Loss: 0.2820441722869873\n",
            "Epoch: 4,Loss: 0.23052483797073364\n",
            "Epoch: 5,Loss: 0.22794315218925476\n",
            "Epoch: 6,Loss: 0.22209154069423676\n",
            "Epoch: 7,Loss: 0.22648096084594727\n",
            "Epoch: 8,Loss: 0.2228342741727829\n",
            "Epoch: 9,Loss: 0.21790280938148499\n",
            "Epoch: 10,Loss: 0.22211214900016785\n"
          ]
        }
      ],
      "source": [
        "modelRGCN_trained=train_batch(modelRGCN,epochs=10)"
      ],
      "id": "d3bb75e3"
    },
    {
      "cell_type": "code",
      "execution_count": null,
      "metadata": {
        "id": "2671f4ab"
      },
      "outputs": [],
      "source": [
        "from sklearn.metrics import roc_auc_score,RocCurveDisplay,roc_curve,recall_score,f1_score,classification_report,roc_auc_score, accuracy_score, precision_score,confusion_matrix,ConfusionMatrixDisplay,top_k_accuracy_score\n",
        "import matplotlib.pyplot as plt\n",
        "\n",
        "#import tensorflow_ranking as tfr\n",
        "def evaluate(data,model,t=0.5):\n",
        "    model.eval()\n",
        "    #y_true, y_pred = [], []\n",
        "    with torch.no_grad():\n",
        "        edgetype, edge_indexes=torch.empty(1,0),torch.empty(2,0)\n",
        "        labelled_edge_indexes={}\n",
        "        labelled_edgetype={}\n",
        "            #out={}\n",
        "        i=1\n",
        "        for key in edge_types:\n",
        "                edge_indexes=torch.cat([edge_indexes,data[key].edge_index],dim=-1).to(torch.int64)\n",
        "                edgetype=torch.cat([edgetype,torch.full((1,data[key].edge_index.size(1)),i-1)],dim=-1).to(torch.int64)\n",
        "                labelled_edge_indexes[i]=data[key].edge_label_index\n",
        "                labelled_edgetype[i]=data[key].edge_label\n",
        "                i+=1\n",
        "            #edge_indexes=edge_indexes.view(-1)\n",
        "        edgetype=edgetype.view(-1)\n",
        "        z = model.encode(edge_indexes, edge_type=edgetype)\n",
        "        scores = model.decode(z, labelled_edge_indexes)\n",
        "        #scores_all=torch.stack([scores[0].sigmoid(), scores[1].sigmoid(),scores[2].sigmoid(),scores[3].sigmoid()])\n",
        "        plt.figure(0).clf()\n",
        "    for i in  range(len(edge_types)):\n",
        "            auc = roc_auc_score(labelled_edgetype[i+1].numpy(), scores[i].sigmoid().numpy())\n",
        "            #acc = accuracy_score(labelled_edgetype[i+1].numpy(), [1 if p >= t else 0 for p in scores[i].sigmoid().numpy()])\n",
        "            prec = precision_score(labelled_edgetype[i+1].numpy(), [1 if p >= t else 0 for p in scores[i].sigmoid().numpy()])\n",
        "            #rec=recall_score(labelled_edgetype[i+1].numpy(), [1 if p >= t else 0 for p in scores[i].sigmoid().numpy()])\n",
        "            f1=f1_score(labelled_edgetype[i+1].numpy(), [1 if p >= t else 0 for p in scores[i].sigmoid().numpy()])\n",
        "            print(f\"AUC for class {i+1}: {auc:.4f}\")\n",
        "            #print(f\"Accuracy for class {i+1}: {acc:.4f}\")\n",
        "            #print(f\"Recall for class {i+1}: {rec:.4f}\")\n",
        "            #print(f\"Precision for class {i+1}: {prec:.4f}\")\n",
        "            print(f\"f1 score for class {i+1}: {f1:.4f}\")\n",
        "            #mat=confusion_matrix(labelled_edgetype[i+1].numpy(), [1 if p >= 0.5 else 0 for p in scores[i].sigmoid().numpy()])\n",
        "            #disp = ConfusionMatrixDisplay(confusion_matrix=mat,display_labels=labelled_edgetype[i+1].unique())\n",
        "            #disp.plot()\n",
        "            fpr, tpr, _ = roc_curve(labelled_edgetype[i+1].numpy(), scores[i].sigmoid().numpy())\n",
        "            auc = roc_auc_score(labelled_edgetype[i+1].numpy(), scores[i].sigmoid().numpy())\n",
        "            color = plt.cm.viridis(i / len(edge_types))  # Adjust the colormap as needed\n",
        "            plt.plot(fpr, tpr, label=f'{edge_types[i][1]}') #(AUC={auc:.2f})\n",
        "            plt.xlabel('False Positive Rate')\n",
        "            plt.ylabel('True Positive Rate')\n",
        "            plt.title('ROC Curves for Different Relation Types')\n",
        "            plt.legend(loc='lower right')\n",
        "\n",
        "            #roc_display.plot(fpr, tpr, label=f'Relation {i+1}', color=color) # Add ROC curve for the current model with a different color and label\n",
        "            #RocCurveDisplay.from_predictions(labelled_edgetype[i+1].numpy(), scores[i].sigmoid().numpy())\n",
        "    return auc\n"
      ],
      "id": "2671f4ab"
    },
    {
      "cell_type": "code",
      "execution_count": null,
      "metadata": {
        "colab": {
          "base_uri": "https://localhost:8080/",
          "height": 635
        },
        "id": "Yum3pYTeIKg1",
        "outputId": "c6ae3dc0-77d8-4f38-8a3b-707ed5f7ad19"
      },
      "outputs": [
        {
          "name": "stdout",
          "output_type": "stream",
          "text": [
            "AUC for class 1: 0.9288\n",
            "f1 score for class 1: 0.8479\n",
            "AUC for class 2: 0.8901\n",
            "f1 score for class 2: 0.8519\n",
            "AUC for class 3: 0.9207\n",
            "f1 score for class 3: 0.8705\n",
            "AUC for class 4: 0.7466\n",
            "f1 score for class 4: 0.7244\n"
          ]
        },
        {
          "data": {
            "text/plain": [
              "0.746590061839393"
            ]
          },
          "execution_count": 164,
          "metadata": {},
          "output_type": "execute_result"
        },
        {
          "data": {
            "image/png": "[encoded data removed]",
            "text/plain": [
              "<Figure size 640x480 with 1 Axes>"
            ]
          },
          "metadata": {},
          "output_type": "display_data"
        }
      ],
      "source": [
        "#VALIDATE\n",
        "evaluate(val_data,modelRGCN_trained,t=0.5)"
      ],
      "id": "Yum3pYTeIKg1"
    },
    {
      "cell_type": "code",
      "execution_count": null,
      "metadata": {
        "colab": {
          "base_uri": "https://localhost:8080/",
          "height": 635
        },
        "id": "69675785",
        "outputId": "83b1fef7-91c8-4acf-f5ce-f74d76e9d8b6"
      },
      "outputs": [
        {
          "name": "stdout",
          "output_type": "stream",
          "text": [
            "AUC for class 1: 0.9450\n",
            "f1 score for class 1: 0.8806\n",
            "AUC for class 2: 0.8938\n",
            "f1 score for class 2: 0.8282\n",
            "AUC for class 3: 0.9285\n",
            "f1 score for class 3: 0.8703\n",
            "AUC for class 4: 0.7682\n",
            "f1 score for class 4: 0.7370\n"
          ]
        },
        {
          "data": {
            "text/plain": [
              "0.7681570983728784"
            ]
          },
          "execution_count": 165,
          "metadata": {},
          "output_type": "execute_result"
        },
        {
          "data": {
            "image/png": "[encoded data removed]",
            "text/plain": [
              "<Figure size 640x480 with 1 Axes>"
            ]
          },
          "metadata": {},
          "output_type": "display_data"
        }
      ],
      "source": [
        "# TEST\n",
        "evaluate(test_data,modelRGCN_trained)"
      ],
      "id": "69675785"
    },
    {
      "cell_type": "code",
      "execution_count": null,
      "metadata": {
        "colab": {
          "base_uri": "https://localhost:8080/"
        },
        "id": "nZTHRTdyHzGo",
        "outputId": "6d06c884-c44b-4147-ab00-cf59b55e4edf"
      },
      "outputs": [
        {
          "name": "stdout",
          "output_type": "stream",
          "text": [
            "when t= 0.4\n",
            "AUC for class 1: 0.9512\n",
            "Accuracy for class 1: 0.8866\n",
            "Recall for class 1: 0.8821\n",
            "Precision for class 1: 0.8902\n",
            "f1 score for class 1: 0.8861\n",
            "AUC for class 2: 0.9305\n",
            "Accuracy for class 2: 0.5000\n",
            "Recall for class 2: 1.0000\n",
            "Precision for class 2: 0.5000\n",
            "f1 score for class 2: 0.6667\n",
            "AUC for class 3: 0.9370\n",
            "Accuracy for class 3: 0.5000\n",
            "Recall for class 3: 1.0000\n",
            "Precision for class 3: 0.5000\n",
            "f1 score for class 3: 0.6667\n",
            "AUC for class 4: 0.8273\n",
            "Accuracy for class 4: 0.5000\n",
            "Recall for class 4: 1.0000\n",
            "Precision for class 4: 0.5000\n",
            "f1 score for class 4: 0.6667\n",
            "when t= 0.45\n",
            "AUC for class 1: 0.9512\n",
            "Accuracy for class 1: 0.8864\n",
            "Recall for class 1: 0.8795\n",
            "Precision for class 1: 0.8919\n",
            "f1 score for class 1: 0.8856\n",
            "AUC for class 2: 0.9305\n",
            "Accuracy for class 2: 0.5000\n",
            "Recall for class 2: 1.0000\n",
            "Precision for class 2: 0.5000\n",
            "f1 score for class 2: 0.6667\n",
            "AUC for class 3: 0.9370\n",
            "Accuracy for class 3: 0.5000\n",
            "Recall for class 3: 1.0000\n",
            "Precision for class 3: 0.5000\n",
            "f1 score for class 3: 0.6667\n",
            "AUC for class 4: 0.8273\n",
            "Accuracy for class 4: 0.5000\n",
            "Recall for class 4: 1.0000\n",
            "Precision for class 4: 0.5000\n",
            "f1 score for class 4: 0.6667\n",
            "when t= 0.5\n",
            "AUC for class 1: 0.9512\n",
            "Accuracy for class 1: 0.8851\n",
            "Recall for class 1: 0.8768\n",
            "Precision for class 1: 0.8916\n",
            "f1 score for class 1: 0.8842\n",
            "AUC for class 2: 0.9305\n",
            "Accuracy for class 2: 0.7869\n",
            "Recall for class 2: 0.9538\n",
            "Precision for class 2: 0.7151\n",
            "f1 score for class 2: 0.8174\n",
            "AUC for class 3: 0.9370\n",
            "Accuracy for class 3: 0.7813\n",
            "Recall for class 3: 0.9626\n",
            "Precision for class 3: 0.7064\n",
            "f1 score for class 3: 0.8148\n",
            "AUC for class 4: 0.8273\n",
            "Accuracy for class 4: 0.7384\n",
            "Recall for class 4: 0.8416\n",
            "Precision for class 4: 0.6976\n",
            "f1 score for class 4: 0.7629\n",
            "when t= 0.55\n",
            "AUC for class 1: 0.9512\n",
            "Accuracy for class 1: 0.8853\n",
            "Recall for class 1: 0.8547\n",
            "Precision for class 1: 0.9105\n",
            "f1 score for class 1: 0.8817\n",
            "AUC for class 2: 0.9305\n",
            "Accuracy for class 2: 0.6321\n",
            "Recall for class 2: 0.2643\n",
            "Precision for class 2: 1.0000\n",
            "f1 score for class 2: 0.4180\n",
            "AUC for class 3: 0.9370\n",
            "Accuracy for class 3: 0.8146\n",
            "Recall for class 3: 0.6539\n",
            "Precision for class 3: 0.9637\n",
            "f1 score for class 3: 0.7791\n",
            "AUC for class 4: 0.8273\n",
            "Accuracy for class 4: 0.7553\n",
            "Recall for class 4: 0.5676\n",
            "Precision for class 4: 0.9088\n",
            "f1 score for class 4: 0.6988\n",
            "when t= 0.6\n",
            "AUC for class 1: 0.9512\n",
            "Accuracy for class 1: 0.8812\n",
            "Recall for class 1: 0.8333\n",
            "Precision for class 1: 0.9216\n",
            "f1 score for class 1: 0.8752\n"
          ]
        },
        {
          "name": "stderr",
          "output_type": "stream",
          "text": [
            "/usr/local/lib/python3.10/dist-packages/sklearn/metrics/_classification.py:1344: UndefinedMetricWarning: Precision is ill-defined and being set to 0.0 due to no predicted samples. Use `zero_division` parameter to control this behavior.\n",
            "  _warn_prf(average, modifier, msg_start, len(result))\n"
          ]
        },
        {
          "name": "stdout",
          "output_type": "stream",
          "text": [
            "AUC for class 2: 0.9305\n",
            "Accuracy for class 2: 0.5000\n",
            "Recall for class 2: 0.0000\n",
            "Precision for class 2: 0.0000\n",
            "f1 score for class 2: 0.0000\n",
            "AUC for class 3: 0.9370\n",
            "Accuracy for class 3: 0.7164\n",
            "Recall for class 3: 0.4365\n",
            "Precision for class 3: 0.9917\n",
            "f1 score for class 3: 0.6062\n",
            "AUC for class 4: 0.8273\n",
            "Accuracy for class 4: 0.5302\n",
            "Recall for class 4: 0.0694\n",
            "Precision for class 4: 0.8864\n",
            "f1 score for class 4: 0.1287\n",
            "when t= 0.6499999999999999\n",
            "AUC for class 1: 0.9512\n",
            "Accuracy for class 1: 0.8766\n",
            "Recall for class 1: 0.8090\n",
            "Precision for class 1: 0.9356\n",
            "f1 score for class 1: 0.8677\n",
            "AUC for class 2: 0.9305\n",
            "Accuracy for class 2: 0.5000\n",
            "Recall for class 2: 0.0000\n",
            "Precision for class 2: 0.0000\n",
            "f1 score for class 2: 0.0000\n",
            "AUC for class 3: 0.9370\n",
            "Accuracy for class 3: 0.6251\n",
            "Recall for class 3: 0.2521\n",
            "Precision for class 3: 0.9928\n",
            "f1 score for class 3: 0.4020\n",
            "AUC for class 4: 0.8273\n",
            "Accuracy for class 4: 0.5214\n",
            "Recall for class 4: 0.0463\n",
            "Precision for class 4: 0.9286\n",
            "f1 score for class 4: 0.0881\n"
          ]
        },
        {
          "name": "stderr",
          "output_type": "stream",
          "text": [
            "/usr/local/lib/python3.10/dist-packages/sklearn/metrics/_classification.py:1344: UndefinedMetricWarning: Precision is ill-defined and being set to 0.0 due to no predicted samples. Use `zero_division` parameter to control this behavior.\n",
            "  _warn_prf(average, modifier, msg_start, len(result))\n"
          ]
        }
      ],
      "source": [
        "## P treshold tuning\n",
        "v=np.arange(0.4,0.7,0.05)\n",
        "for i in v:\n",
        "    print(f\"when t= {i}\")\n",
        "    evaluate(val_data,modelRGCN_trained,t=i)"
      ],
      "id": "nZTHRTdyHzGo"
    },
    {
      "cell_type": "code",
      "execution_count": null,
      "metadata": {
        "colab": {
          "base_uri": "https://localhost:8080/",
          "height": 1000
        },
        "id": "MmlWyyan7JcV",
        "outputId": "356a51a7-406b-4c94-ac7c-9c730e717ec7"
      },
      "outputs": [
        {
          "name": "stdout",
          "output_type": "stream",
          "text": [
            "experiment for wd: 0 and channels: [32, 32]\n",
            "Epoch: 1,Loss: 1.855505108833313\n",
            "Epoch: 2,Loss: 0.333621621131897\n",
            "Epoch: 3,Loss: 0.21762175858020782\n",
            "Epoch: 4,Loss: 0.19558869302272797\n",
            "Epoch: 5,Loss: 0.1832127422094345\n",
            "Epoch: 6,Loss: 0.17876379191875458\n",
            "Epoch: 7,Loss: 0.16766442358493805\n",
            "Epoch: 8,Loss: 0.16038990020751953\n",
            "Epoch: 9,Loss: 0.15473614633083344\n",
            "Epoch: 10,Loss: 0.14823788404464722\n",
            "AUC for class 1: 0.9274\n",
            "f1 score for class 1: 0.8756\n",
            "AUC for class 2: 0.7787\n",
            "f1 score for class 2: 0.7417\n",
            "AUC for class 3: 0.9209\n",
            "f1 score for class 3: 0.8557\n",
            "AUC for class 4: 0.5388\n",
            "f1 score for class 4: 0.5489\n",
            "AUC for class 1: 0.9468\n",
            "f1 score for class 1: 0.8908\n",
            "AUC for class 2: 0.7444\n",
            "f1 score for class 2: 0.7195\n",
            "AUC for class 3: 0.9121\n",
            "f1 score for class 3: 0.8417\n",
            "AUC for class 4: 0.4865\n",
            "f1 score for class 4: 0.4878\n",
            "experiment for wd: 0 and channels: [64, 32]\n",
            "Epoch: 1,Loss: 1.294700264930725\n",
            "Epoch: 2,Loss: 0.25593674182891846\n",
            "Epoch: 3,Loss: 0.20873203873634338\n",
            "Epoch: 4,Loss: 0.19020895659923553\n",
            "Epoch: 5,Loss: 0.1770518571138382\n",
            "Epoch: 6,Loss: 0.160805344581604\n",
            "Epoch: 7,Loss: 0.15084457397460938\n",
            "Epoch: 8,Loss: 0.14839747548103333\n",
            "Epoch: 9,Loss: 0.1419067680835724\n",
            "Epoch: 10,Loss: 0.13472405076026917\n",
            "AUC for class 1: 0.9110\n",
            "f1 score for class 1: 0.8219\n",
            "AUC for class 2: 0.8777\n",
            "f1 score for class 2: 0.8231\n",
            "AUC for class 3: 0.9107\n",
            "f1 score for class 3: 0.8380\n",
            "AUC for class 4: 0.6930\n",
            "f1 score for class 4: 0.6081\n",
            "AUC for class 1: 0.9258\n",
            "f1 score for class 1: 0.8271\n",
            "AUC for class 2: 0.8496\n",
            "f1 score for class 2: 0.7894\n",
            "AUC for class 3: 0.9093\n",
            "f1 score for class 3: 0.8449\n",
            "AUC for class 4: 0.6440\n",
            "f1 score for class 4: 0.5845\n",
            "experiment for wd: 0 and channels: [64, 64]\n",
            "Epoch: 1,Loss: 1.424438238143921\n",
            "Epoch: 2,Loss: 0.25407788157463074\n",
            "Epoch: 3,Loss: 0.2031521052122116\n",
            "Epoch: 4,Loss: 0.18685497343540192\n",
            "Epoch: 5,Loss: 0.16933313012123108\n",
            "Epoch: 6,Loss: 0.15616130828857422\n",
            "Epoch: 7,Loss: 0.15944115817546844\n",
            "Epoch: 8,Loss: 0.14532962441444397\n",
            "Epoch: 9,Loss: 0.142169788479805\n",
            "Epoch: 10,Loss: 0.14102862775325775\n",
            "AUC for class 1: 0.9260\n",
            "f1 score for class 1: 0.8603\n",
            "AUC for class 2: 0.8315\n",
            "f1 score for class 2: 0.7500\n",
            "AUC for class 3: 0.9047\n",
            "f1 score for class 3: 0.8455\n",
            "AUC for class 4: 0.6714\n",
            "f1 score for class 4: 0.6578\n",
            "AUC for class 1: 0.9401\n",
            "f1 score for class 1: 0.8747\n",
            "AUC for class 2: 0.7982\n",
            "f1 score for class 2: 0.7343\n",
            "AUC for class 3: 0.8937\n",
            "f1 score for class 3: 0.8452\n",
            "AUC for class 4: 0.6222\n",
            "f1 score for class 4: 0.6117\n",
            "experiment for wd: 0.001 and channels: [32, 32]\n",
            "Epoch: 1,Loss: 2.3655498027801514\n",
            "Epoch: 2,Loss: 0.501040518283844\n",
            "Epoch: 3,Loss: 0.24203795194625854\n",
            "Epoch: 4,Loss: 0.22510716319084167\n",
            "Epoch: 5,Loss: 0.228216290473938\n",
            "Epoch: 6,Loss: 0.21260474622249603\n",
            "Epoch: 7,Loss: 0.2134121060371399\n",
            "Epoch: 8,Loss: 0.2162533551454544\n",
            "Epoch: 9,Loss: 0.20823754370212555\n",
            "Epoch: 10,Loss: 0.20825791358947754\n",
            "AUC for class 1: 0.9198\n",
            "f1 score for class 1: 0.8422\n",
            "AUC for class 2: 0.8886\n",
            "f1 score for class 2: 0.8336\n",
            "AUC for class 3: 0.9283\n",
            "f1 score for class 3: 0.8574\n",
            "AUC for class 4: 0.7078\n",
            "f1 score for class 4: 0.6869\n",
            "AUC for class 1: 0.9387\n",
            "f1 score for class 1: 0.8662\n",
            "AUC for class 2: 0.8886\n",
            "f1 score for class 2: 0.8256\n",
            "AUC for class 3: 0.9299\n",
            "f1 score for class 3: 0.8733\n",
            "AUC for class 4: 0.7392\n",
            "f1 score for class 4: 0.7196\n",
            "experiment for wd: 0.001 and channels: [64, 32]\n",
            "Epoch: 1,Loss: 2.4459874629974365\n",
            "Epoch: 2,Loss: 1.0305484533309937\n",
            "Epoch: 3,Loss: 0.3084464371204376\n",
            "Epoch: 4,Loss: 0.24262143671512604\n",
            "Epoch: 5,Loss: 0.2317369282245636\n",
            "Epoch: 6,Loss: 0.22287169098854065\n",
            "Epoch: 7,Loss: 0.23236528038978577\n",
            "Epoch: 8,Loss: 0.22915542125701904\n",
            "Epoch: 9,Loss: 0.22086100280284882\n",
            "Epoch: 10,Loss: 0.2220575362443924\n",
            "AUC for class 1: 0.9331\n",
            "f1 score for class 1: 0.8517\n",
            "AUC for class 2: 0.9048\n",
            "f1 score for class 2: 0.8407\n",
            "AUC for class 3: 0.9380\n",
            "f1 score for class 3: 0.8710\n",
            "AUC for class 4: 0.7810\n",
            "f1 score for class 4: 0.7172\n",
            "AUC for class 1: 0.9488\n",
            "f1 score for class 1: 0.8807\n",
            "AUC for class 2: 0.9008\n",
            "f1 score for class 2: 0.8371\n",
            "AUC for class 3: 0.9358\n",
            "f1 score for class 3: 0.8819\n",
            "AUC for class 4: 0.7986\n",
            "f1 score for class 4: 0.7445\n",
            "experiment for wd: 0.001 and channels: [64, 64]\n",
            "Epoch: 1,Loss: 2.4276411533355713\n",
            "Epoch: 2,Loss: 0.8637343049049377\n",
            "Epoch: 3,Loss: 0.2817428410053253\n",
            "Epoch: 4,Loss: 0.22848448157310486\n",
            "Epoch: 5,Loss: 0.23054024577140808\n",
            "Epoch: 6,Loss: 0.2320644110441208\n",
            "Epoch: 7,Loss: 0.22181247174739838\n",
            "Epoch: 8,Loss: 0.22629396617412567\n",
            "Epoch: 9,Loss: 0.2218138575553894\n",
            "Epoch: 10,Loss: 0.2250075787305832\n",
            "AUC for class 1: 0.9353\n",
            "f1 score for class 1: 0.8496\n",
            "AUC for class 2: 0.8762\n",
            "f1 score for class 2: 0.8339\n",
            "AUC for class 3: 0.9124\n",
            "f1 score for class 3: 0.8568\n",
            "AUC for class 4: 0.7613\n",
            "f1 score for class 4: 0.7178\n",
            "AUC for class 1: 0.9498\n",
            "f1 score for class 1: 0.8779\n",
            "AUC for class 2: 0.8736\n",
            "f1 score for class 2: 0.8111\n",
            "AUC for class 3: 0.9258\n",
            "f1 score for class 3: 0.8779\n",
            "AUC for class 4: 0.7862\n",
            "f1 score for class 4: 0.7292\n",
            "experiment for wd: 0.005 and channels: [32, 32]\n",
            "Epoch: 1,Loss: 2.691030502319336\n",
            "Epoch: 2,Loss: 2.3388283252716064\n",
            "Epoch: 3,Loss: 2.2948544025421143\n",
            "Epoch: 4,Loss: 2.293700933456421\n",
            "Epoch: 5,Loss: 2.292372703552246\n",
            "Epoch: 6,Loss: 2.2911810874938965\n",
            "Epoch: 7,Loss: 2.290623188018799\n",
            "Epoch: 8,Loss: 2.291680097579956\n",
            "Epoch: 9,Loss: 2.2909414768218994\n",
            "Epoch: 10,Loss: 2.291703462600708\n",
            "AUC for class 1: 0.9304\n",
            "f1 score for class 1: 0.8464\n",
            "AUC for class 2: 0.2781\n",
            "f1 score for class 2: 0.2206\n",
            "AUC for class 3: 0.2288\n",
            "f1 score for class 3: 0.1689\n",
            "AUC for class 4: 0.6723\n",
            "f1 score for class 4: 0.7190\n",
            "AUC for class 1: 0.9449\n",
            "f1 score for class 1: 0.8803\n",
            "AUC for class 2: 0.2658\n",
            "f1 score for class 2: 0.2210\n",
            "AUC for class 3: 0.2376\n",
            "f1 score for class 3: 0.1595\n",
            "AUC for class 4: 0.6435\n",
            "f1 score for class 4: 0.7181\n",
            "experiment for wd: 0.005 and channels: [64, 32]\n",
            "Epoch: 1,Loss: 2.634716033935547\n",
            "Epoch: 2,Loss: 2.316324472427368\n",
            "Epoch: 3,Loss: 2.291994571685791\n",
            "Epoch: 4,Loss: 2.294583797454834\n",
            "Epoch: 5,Loss: 2.294487953186035\n",
            "Epoch: 6,Loss: 2.2918176651000977\n",
            "Epoch: 7,Loss: 2.294238567352295\n",
            "Epoch: 8,Loss: 2.2886831760406494\n",
            "Epoch: 9,Loss: 2.291684150695801\n",
            "Epoch: 10,Loss: 2.2956297397613525\n",
            "AUC for class 1: 0.9302\n",
            "f1 score for class 1: 0.8463\n",
            "AUC for class 2: 0.9358\n",
            "f1 score for class 2: 0.8132\n",
            "AUC for class 3: 0.7821\n",
            "f1 score for class 3: 0.7951\n",
            "AUC for class 4: 0.6664\n",
            "f1 score for class 4: 0.7188\n",
            "AUC for class 1: 0.9467\n",
            "f1 score for class 1: 0.8800\n",
            "AUC for class 2: 0.9172\n",
            "f1 score for class 2: 0.7888\n",
            "AUC for class 3: 0.7462\n",
            "f1 score for class 3: 0.7809\n",
            "AUC for class 4: 0.6190\n",
            "f1 score for class 4: 0.7041\n",
            "experiment for wd: 0.005 and channels: [64, 64]\n",
            "Epoch: 1,Loss: 2.6675331592559814\n",
            "Epoch: 2,Loss: 2.3159642219543457\n",
            "Epoch: 3,Loss: 2.297898530960083\n",
            "Epoch: 4,Loss: 2.2922215461730957\n",
            "Epoch: 5,Loss: 2.294093370437622\n",
            "Epoch: 6,Loss: 2.291121244430542\n",
            "Epoch: 7,Loss: 2.2907586097717285\n",
            "Epoch: 8,Loss: 2.2949676513671875\n",
            "Epoch: 9,Loss: 2.292487144470215\n",
            "Epoch: 10,Loss: 2.292283058166504\n",
            "AUC for class 1: 0.9307\n",
            "f1 score for class 1: 0.8461\n",
            "AUC for class 2: 0.9226\n",
            "f1 score for class 2: 0.8110\n",
            "AUC for class 3: 0.6416\n",
            "f1 score for class 3: 0.8007\n",
            "AUC for class 4: 0.7352\n",
            "f1 score for class 4: 0.7101\n",
            "AUC for class 1: 0.9462\n",
            "f1 score for class 1: 0.8774\n",
            "AUC for class 2: 0.9068\n",
            "f1 score for class 2: 0.8000\n",
            "AUC for class 3: 0.5761\n",
            "f1 score for class 3: 0.7694\n",
            "AUC for class 4: 0.7044\n",
            "f1 score for class 4: 0.7085\n",
            "experiment for wd: 0.01 and channels: [32, 32]\n",
            "Epoch: 1,Loss: 2.710153818130493\n",
            "Epoch: 2,Loss: 2.3987135887145996\n",
            "Epoch: 3,Loss: 2.300128698348999\n",
            "Epoch: 4,Loss: 2.2966055870056152\n",
            "Epoch: 5,Loss: 2.295250415802002\n",
            "Epoch: 6,Loss: 2.2983651161193848\n",
            "Epoch: 7,Loss: 2.297351598739624\n",
            "Epoch: 8,Loss: 2.2980151176452637\n",
            "Epoch: 9,Loss: 2.294970750808716\n",
            "Epoch: 10,Loss: 2.2938895225524902\n",
            "AUC for class 1: 0.9299\n",
            "f1 score for class 1: 0.8471\n",
            "AUC for class 2: 0.9422\n",
            "f1 score for class 2: 0.8562\n",
            "AUC for class 3: 0.5521\n",
            "f1 score for class 3: 0.5714\n",
            "AUC for class 4: 0.6732\n",
            "f1 score for class 4: 0.6773\n",
            "AUC for class 1: 0.9463\n",
            "f1 score for class 1: 0.8786\n",
            "AUC for class 2: 0.9241\n",
            "f1 score for class 2: 0.8397\n",
            "AUC for class 3: 0.5383\n",
            "f1 score for class 3: 0.5645\n",
            "AUC for class 4: 0.6351\n",
            "f1 score for class 4: 0.6863\n",
            "experiment for wd: 0.01 and channels: [64, 32]\n",
            "Epoch: 1,Loss: 2.706108331680298\n",
            "Epoch: 2,Loss: 2.357703924179077\n",
            "Epoch: 3,Loss: 2.2964158058166504\n",
            "Epoch: 4,Loss: 2.2967612743377686\n",
            "Epoch: 5,Loss: 2.2955503463745117\n",
            "Epoch: 6,Loss: 2.294621706008911\n",
            "Epoch: 7,Loss: 2.2957937717437744\n",
            "Epoch: 8,Loss: 2.2969722747802734\n",
            "Epoch: 9,Loss: 2.2962417602539062\n",
            "Epoch: 10,Loss: 2.2948551177978516\n",
            "AUC for class 1: 0.9297\n",
            "f1 score for class 1: 0.8455\n",
            "AUC for class 2: 0.9440\n",
            "f1 score for class 2: 0.8310\n",
            "AUC for class 3: 0.9299\n",
            "f1 score for class 3: 0.8492\n",
            "AUC for class 4: 0.1791\n",
            "f1 score for class 4: 0.0000\n",
            "AUC for class 1: 0.9452\n",
            "f1 score for class 1: 0.8740\n",
            "AUC for class 2: 0.9334\n",
            "f1 score for class 2: 0.8013\n",
            "AUC for class 3: 0.9290\n",
            "f1 score for class 3: 0.8389\n",
            "AUC for class 4: 0.1871\n",
            "f1 score for class 4: 0.0000\n",
            "experiment for wd: 0.01 and channels: [64, 64]\n",
            "Epoch: 1,Loss: 2.683314085006714\n",
            "Epoch: 2,Loss: 2.3347394466400146\n",
            "Epoch: 3,Loss: 2.2984962463378906\n",
            "Epoch: 4,Loss: 2.297619342803955\n",
            "Epoch: 5,Loss: 2.2981772422790527\n",
            "Epoch: 6,Loss: 2.294874906539917\n",
            "Epoch: 7,Loss: 2.297389507293701\n",
            "Epoch: 8,Loss: 2.2939655780792236\n",
            "Epoch: 9,Loss: 2.2953383922576904\n",
            "Epoch: 10,Loss: 2.2929868698120117\n",
            "AUC for class 1: 0.9304\n",
            "f1 score for class 1: 0.8471\n",
            "AUC for class 2: 0.9488\n",
            "f1 score for class 2: 0.8283\n",
            "AUC for class 3: 0.9198\n",
            "f1 score for class 3: 0.8032\n",
            "AUC for class 4: 0.7890\n",
            "f1 score for class 4: 0.6667\n",
            "AUC for class 1: 0.9467\n",
            "f1 score for class 1: 0.8784\n",
            "AUC for class 2: 0.9307\n",
            "f1 score for class 2: 0.7988\n",
            "AUC for class 3: 0.9236\n",
            "f1 score for class 3: 0.7787\n",
            "AUC for class 4: 0.7685\n",
            "f1 score for class 4: 0.6667\n"
          ]
        },
        {
          "data": {
            "image/png": "[encoded data removed]",
            "text/plain": [
              "<Figure size 640x480 with 1 Axes>"
            ]
          },
          "metadata": {},
          "output_type": "display_data"
        }
      ],
      "source": [
        "## TUNING\n",
        "wd=[0, 1e-3, 5e-3,1e-2]\n",
        "hid=[[32,32],[64,32],[64,64]]\n",
        "val_auc=np.empty((5,3))\n",
        "test_auc=np.empty((5,3))\n",
        "for i in  wd:\n",
        "    #c1=0\n",
        "    for h in hid:\n",
        "            #c2=0\n",
        "            modelRGCN = GAE(\n",
        "              RGCNEncoder(data.num_nodes, hidden_channels=h[0], out_channels=h[1],num_relations=len(edge_types)),\n",
        "               DistMultDecoder(len(edge_types), hidden_channels=h[1])\n",
        "            )\n",
        "            optimizer = torch.optim.Adam(modelRGCN.parameters(), lr=0.01, weight_decay=i) # weight_decay=5*1e-3 optimal for 1 sector, 5e-2 for 2 sector\n",
        "            modelRGCN.loss=torch.nn.BCEWithLogitsLoss() #pos_weight = torch.ones([1])\n",
        "            print(f\"experiment for wd: {i} and channels: {h}\")\n",
        "            trained=train_batch(modelRGCN,epochs=10)\n",
        "            evaluate(val_data,trained)\n",
        "            evaluate(test_data,trained)\n",
        "            #c2+=1\n",
        "    #c2+=1\n",
        "#print(val_auc)\n",
        "#print(test_auc)\n",
        "\n"
      ],
      "id": "MmlWyyan7JcV"
    },
    {
      "cell_type": "markdown",
      "metadata": {
        "id": "wLgplryrXGac"
      },
      "source": [
        "## RGCN-MTES WITH ACTUAL NODE FEATURES"
      ],
      "id": "wLgplryrXGac"
    },
    {
      "cell_type": "code",
      "execution_count": null,
      "metadata": {
        "id": "63h6MHdHXNct"
      },
      "outputs": [],
      "source": [
        "### MULTI-EDGETYPE SCORES\n",
        "from torch_geometric.nn import GAE, RGCNConv\n",
        "from torch.nn import Parameter\n",
        "class RGCNEncoder(torch.nn.Module):\n",
        "    def __init__(self, num_nodes, feature_dim,hidden_channels,out_channels,num_relations):\n",
        "        super().__init__()\n",
        "        #self.node_emb = Parameter(torch.Tensor(num_nodes, hidden_channels)) ##Initiliaze Learnable embedding vector (paper r-GAT)\n",
        "        self.conv1 = RGCNConv(feature_dim, hidden_channels, num_relations)\n",
        "        self.conv2 = RGCNConv(hidden_channels, out_channels, num_relations)\n",
        "        self.reset_parameters()\n",
        "\n",
        "    def reset_parameters(self):\n",
        "        #torch.nn.init.xavier_uniform_(self.node_emb)\n",
        "        self.conv1.reset_parameters()\n",
        "        self.conv2.reset_parameters()\n",
        "\n",
        "    def forward(self,x, edge_index, edge_type):\n",
        "        #x = self.node_emb\n",
        "        x1 = self.conv1(x, edge_index, edge_type).relu_()\n",
        "        #x = F.dropout(x, p=0.2, training=self.training)\n",
        "        z = self.conv2(x1, edge_index, edge_type).relu_()\n",
        "        return z\n",
        "\n",
        "\n",
        "class DistMultDecoder(torch.nn.Module):\n",
        "    def __init__(self, num_relations, hidden_channels):\n",
        "        super().__init__()\n",
        "        self.rel_emb = Parameter(torch.Tensor(num_relations, hidden_channels))\n",
        "        self.reset_parameters()\n",
        "\n",
        "    def reset_parameters(self):\n",
        "        torch.nn.init.xavier_uniform_(self.rel_emb)\n",
        "\n",
        "    def forward(self, z, edge_label_index):\n",
        "        scores={}\n",
        "        for i in range(len(edge_types)):\n",
        "                z_src, z_dst = z[edge_label_index[i+1][0]], z[edge_label_index[i+1][1]]\n",
        "#         out=torch.empty(0)\n",
        "#         for i in range(len(edge_type)):\n",
        "#             #score=torch.sum(z_src[i]*rel_emb*z_dst[i], dim=1)\n",
        "#             out=torch.cat([out,torch.max(torch.sum(z_src[i-1]*rel_emb*z_dst[i-1], dim=1).sigmoid(),dim=0,keepdim=True).indices+1],dim=-1)\n",
        "#         pred=out#.to(torch.int64)\n",
        "                scores[i]=torch.sum(z_src*self.rel_emb[i]*z_dst, dim=1)\n",
        "        return  scores\n"
      ],
      "id": "63h6MHdHXNct"
    },
    {
      "cell_type": "code",
      "execution_count": null,
      "metadata": {
        "id": "mbmjZ4smXECH"
      },
      "outputs": [],
      "source": [
        "modelRGCN = GAE(\n",
        "    RGCNEncoder(data.num_nodes, feature_dim=data['Company'].x.size(1) ,hidden_channels=64, out_channels=64,num_relations=len(edge_types)),\n",
        "    DistMultDecoder(len(edge_types), hidden_channels=64)\n",
        ")\n",
        "optimizer = torch.optim.Adam(modelRGCN.parameters(), lr=0.01, weight_decay=0.3) # weight_decay=5*1e-3 optimal for 1 sector, 5e-2 for 2 sector\n",
        "modelRGCN.loss=torch.nn.BCEWithLogitsLoss() #pos_weight = torch.ones([1])"
      ],
      "id": "mbmjZ4smXECH"
    },
    {
      "cell_type": "code",
      "execution_count": null,
      "metadata": {
        "id": "AVoC8Zn7YPWD"
      },
      "outputs": [],
      "source": [
        "#Train with mini-batchs\n",
        "def train_batch(model,epochs):\n",
        "    model.train()\n",
        "    for epoch in range(epochs):\n",
        "        total_examples = total_loss = 0\n",
        "        #z_train=torch.empty([data.num_nodes, model.encoder.conv1.out_channels])\n",
        "        for batch in train_loader:\n",
        "            optimizer.zero_grad()\n",
        "            batch = batch.to(device)\n",
        "            batch_size = train_loader.batch_size\n",
        "            edgetype, edge_indexes=torch.empty(1,0),torch.empty(2,0)\n",
        "            labelled_edge_indexes={}\n",
        "            labelled_edgetype={}\n",
        "            #out={}\n",
        "            i=1\n",
        "            for key in edge_types:\n",
        "                edge_indexes=torch.cat([edge_indexes,batch[key].edge_index],dim=-1).to(torch.int64)\n",
        "                edgetype=torch.cat([edgetype,torch.full((1,batch[key].edge_index.size(1)),i-1)],dim=-1).to(torch.int64)\n",
        "                labelled_edge_indexes[i]=batch[key].edge_label_index\n",
        "                labelled_edgetype[i]=batch[key].edge_label\n",
        "                i+=1\n",
        "            #edge_indexes=edge_indexes.view(-1)\n",
        "            edgetype=edgetype.view(-1)\n",
        "            #labelled_edgetype=labelled_edgetype.view(-1)\n",
        "            #edge_labels=[torch.where(labelled_edgetype == i+1, 1, torch.tensor(0)).to(torch.float)  for i in  range(len(edge_types))]\n",
        "            #labelled_edge_indexes=labelled_edge_indexes.view(-1)\n",
        "            z = model.encode(train_data['Company'].x,edge_indexes, edge_type=edgetype)\n",
        "            #z_train+=z*batch_size\n",
        "\n",
        "            out = model.decode(z, labelled_edge_indexes)\n",
        "            #out_all=torch.stack([out[0].sigmoid(), out[1].sigmoid(),out[2].sigmoid(),out[3].sigmoid()])\n",
        "            loss=float(0)\n",
        "            for i in  range(len(edge_types)):\n",
        "                loss += model.loss(out[i], labelled_edgetype[i+1])\n",
        "            total_examples += batch_size\n",
        "            total_loss += loss * batch_size\n",
        "            #loss_final=total_loss/total_examples\n",
        "            loss.backward()\n",
        "            torch.nn.utils.clip_grad_norm_(model.parameters(), 1.)\n",
        "            optimizer.step()\n",
        "        print(f'Epoch: {epoch + 1},Loss: {total_loss/total_examples}')\n",
        "        #z_trained=z_train/total_examples\n",
        "    return  model"
      ],
      "id": "AVoC8Zn7YPWD"
    },
    {
      "cell_type": "code",
      "execution_count": null,
      "metadata": {
        "colab": {
          "base_uri": "https://localhost:8080/",
          "height": 330
        },
        "id": "38RryS9_YZH9",
        "outputId": "4ab26276-6997-44b4-ee0c-7baea458c6c4"
      },
      "outputs": [
        {
          "ename": "TypeError",
          "evalue": "ignored",
          "output_type": "error",
          "traceback": [
            "\u001b[0;31m---------------------------------------------------------------------------\u001b[0m",
            "\u001b[0;31mTypeError\u001b[0m                                 Traceback (most recent call last)",
            "\u001b[0;32m<ipython-input-177-18319becb568>\u001b[0m in \u001b[0;36m<cell line: 1>\u001b[0;34m()\u001b[0m\n\u001b[0;32m----> 1\u001b[0;31m \u001b[0mtrained_RGCN\u001b[0m\u001b[0;34m=\u001b[0m\u001b[0mtrain_batch\u001b[0m\u001b[0;34m(\u001b[0m\u001b[0mmodelRGCN\u001b[0m\u001b[0;34m,\u001b[0m\u001b[0;36m10\u001b[0m\u001b[0;34m)\u001b[0m\u001b[0;34m\u001b[0m\u001b[0;34m\u001b[0m\u001b[0m\n\u001b[0m",
            "\u001b[0;32m<ipython-input-176-df11bcb88c1d>\u001b[0m in \u001b[0;36mtrain_batch\u001b[0;34m(model, epochs)\u001b[0m\n\u001b[1;32m     25\u001b[0m             \u001b[0;31m#edge_labels=[torch.where(labelled_edgetype == i+1, 1, torch.tensor(0)).to(torch.float)  for i in  range(len(edge_types))]\u001b[0m\u001b[0;34m\u001b[0m\u001b[0;34m\u001b[0m\u001b[0m\n\u001b[1;32m     26\u001b[0m             \u001b[0;31m#labelled_edge_indexes=labelled_edge_indexes.view(-1)\u001b[0m\u001b[0;34m\u001b[0m\u001b[0;34m\u001b[0m\u001b[0m\n\u001b[0;32m---> 27\u001b[0;31m             \u001b[0mz\u001b[0m \u001b[0;34m=\u001b[0m \u001b[0mmodel\u001b[0m\u001b[0;34m.\u001b[0m\u001b[0mencode\u001b[0m\u001b[0;34m(\u001b[0m\u001b[0mtrain_data\u001b[0m\u001b[0;34m[\u001b[0m\u001b[0;34m'Company'\u001b[0m\u001b[0;34m]\u001b[0m\u001b[0;34m.\u001b[0m\u001b[0mx\u001b[0m\u001b[0;34m,\u001b[0m\u001b[0medge_indexes\u001b[0m\u001b[0;34m,\u001b[0m \u001b[0medge_type\u001b[0m\u001b[0;34m=\u001b[0m\u001b[0medgetype\u001b[0m\u001b[0;34m)\u001b[0m\u001b[0;34m\u001b[0m\u001b[0;34m\u001b[0m\u001b[0m\n\u001b[0m\u001b[1;32m     28\u001b[0m             \u001b[0;31m#z_train+=z*batch_size\u001b[0m\u001b[0;34m\u001b[0m\u001b[0;34m\u001b[0m\u001b[0m\n\u001b[1;32m     29\u001b[0m \u001b[0;34m\u001b[0m\u001b[0m\n",
            "\u001b[0;32m/usr/local/lib/python3.10/dist-packages/torch_geometric/nn/models/autoencoder.py\u001b[0m in \u001b[0;36mencode\u001b[0;34m(self, *args, **kwargs)\u001b[0m\n\u001b[1;32m     78\u001b[0m     \u001b[0;32mdef\u001b[0m \u001b[0mencode\u001b[0m\u001b[0;34m(\u001b[0m\u001b[0mself\u001b[0m\u001b[0;34m,\u001b[0m \u001b[0;34m*\u001b[0m\u001b[0margs\u001b[0m\u001b[0;34m,\u001b[0m \u001b[0;34m**\u001b[0m\u001b[0mkwargs\u001b[0m\u001b[0;34m)\u001b[0m \u001b[0;34m->\u001b[0m \u001b[0mTensor\u001b[0m\u001b[0;34m:\u001b[0m\u001b[0;34m\u001b[0m\u001b[0;34m\u001b[0m\u001b[0m\n\u001b[1;32m     79\u001b[0m         \u001b[0;34mr\"\"\"Runs the encoder and computes node-wise latent variables.\"\"\"\u001b[0m\u001b[0;34m\u001b[0m\u001b[0;34m\u001b[0m\u001b[0m\n\u001b[0;32m---> 80\u001b[0;31m         \u001b[0;32mreturn\u001b[0m \u001b[0mself\u001b[0m\u001b[0;34m.\u001b[0m\u001b[0mencoder\u001b[0m\u001b[0;34m(\u001b[0m\u001b[0;34m*\u001b[0m\u001b[0margs\u001b[0m\u001b[0;34m,\u001b[0m \u001b[0;34m**\u001b[0m\u001b[0mkwargs\u001b[0m\u001b[0;34m)\u001b[0m\u001b[0;34m\u001b[0m\u001b[0;34m\u001b[0m\u001b[0m\n\u001b[0m\u001b[1;32m     81\u001b[0m \u001b[0;34m\u001b[0m\u001b[0m\n\u001b[1;32m     82\u001b[0m     \u001b[0;32mdef\u001b[0m \u001b[0mdecode\u001b[0m\u001b[0;34m(\u001b[0m\u001b[0mself\u001b[0m\u001b[0;34m,\u001b[0m \u001b[0;34m*\u001b[0m\u001b[0margs\u001b[0m\u001b[0;34m,\u001b[0m \u001b[0;34m**\u001b[0m\u001b[0mkwargs\u001b[0m\u001b[0;34m)\u001b[0m \u001b[0;34m->\u001b[0m \u001b[0mTensor\u001b[0m\u001b[0;34m:\u001b[0m\u001b[0;34m\u001b[0m\u001b[0;34m\u001b[0m\u001b[0m\n",
            "\u001b[0;32m/usr/local/lib/python3.10/dist-packages/torch/nn/modules/module.py\u001b[0m in \u001b[0;36m_call_impl\u001b[0;34m(self, *args, **kwargs)\u001b[0m\n\u001b[1;32m   1499\u001b[0m                 \u001b[0;32mor\u001b[0m \u001b[0m_global_backward_pre_hooks\u001b[0m \u001b[0;32mor\u001b[0m \u001b[0m_global_backward_hooks\u001b[0m\u001b[0;34m\u001b[0m\u001b[0;34m\u001b[0m\u001b[0m\n\u001b[1;32m   1500\u001b[0m                 or _global_forward_hooks or _global_forward_pre_hooks):\n\u001b[0;32m-> 1501\u001b[0;31m             \u001b[0;32mreturn\u001b[0m \u001b[0mforward_call\u001b[0m\u001b[0;34m(\u001b[0m\u001b[0;34m*\u001b[0m\u001b[0margs\u001b[0m\u001b[0;34m,\u001b[0m \u001b[0;34m**\u001b[0m\u001b[0mkwargs\u001b[0m\u001b[0;34m)\u001b[0m\u001b[0;34m\u001b[0m\u001b[0;34m\u001b[0m\u001b[0m\n\u001b[0m\u001b[1;32m   1502\u001b[0m         \u001b[0;31m# Do not call functions when jit is used\u001b[0m\u001b[0;34m\u001b[0m\u001b[0;34m\u001b[0m\u001b[0m\n\u001b[1;32m   1503\u001b[0m         \u001b[0mfull_backward_hooks\u001b[0m\u001b[0;34m,\u001b[0m \u001b[0mnon_full_backward_hooks\u001b[0m \u001b[0;34m=\u001b[0m \u001b[0;34m[\u001b[0m\u001b[0;34m]\u001b[0m\u001b[0;34m,\u001b[0m \u001b[0;34m[\u001b[0m\u001b[0;34m]\u001b[0m\u001b[0;34m\u001b[0m\u001b[0;34m\u001b[0m\u001b[0m\n",
            "\u001b[0;31mTypeError\u001b[0m: RGCNEncoder.forward() got multiple values for argument 'edge_type'"
          ]
        }
      ],
      "source": [
        "trained_RGCN=train_batch(modelRGCN,10)"
      ],
      "id": "38RryS9_YZH9"
    },
    {
      "cell_type": "code",
      "execution_count": null,
      "metadata": {
        "id": "TjVqQLtDYYFs"
      },
      "outputs": [],
      "source": [
        "from sklearn.metrics import roc_auc_score, accuracy_score, precision_score,confusion_matrix,ConfusionMatrixDisplay,top_k_accuracy_score\n",
        "#import tensorflow_ranking as tfr\n",
        "def evaluate(data,model):\n",
        "    model.eval()\n",
        "    #y_true, y_pred = [], []\n",
        "    with torch.no_grad():\n",
        "        edgetype, edge_indexes=torch.empty(1,0),torch.empty(2,0)\n",
        "        labelled_edge_indexes={}\n",
        "        labelled_edgetype={}\n",
        "            #out={}\n",
        "        i=1\n",
        "        for key in edge_types:\n",
        "                edge_indexes=torch.cat([edge_indexes,data[key].edge_index],dim=-1).to(torch.int64)\n",
        "                edgetype=torch.cat([edgetype,torch.full((1,data[key].edge_index.size(1)),i-1)],dim=-1).to(torch.int64)\n",
        "                labelled_edge_indexes[i]=data[key].edge_label_index\n",
        "                labelled_edgetype[i]=data[key].edge_label\n",
        "                i+=1\n",
        "            #edge_indexes=edge_indexes.view(-1)\n",
        "        edgetype=edgetype.view(-1)\n",
        "        z = model.encode(data['Company'].x,edge_indexes, edge_type=edgetype)\n",
        "        scores = model.decode(z, labelled_edge_indexes)\n",
        "        #scores_all=torch.stack([scores[0].sigmoid(), scores[1].sigmoid(),scores[2].sigmoid(),scores[3].sigmoid()])\n",
        "    for i in  range(len(edge_types)):\n",
        "            auc = roc_auc_score(labelled_edgetype[i+1].numpy(), scores[i].sigmoid().numpy())\n",
        "            acc = accuracy_score(labelled_edgetype[i+1].numpy(), [1 if p >= 0.5 else 0 for p in scores[i].sigmoid().numpy()])\n",
        "            prec = precision_score(labelled_edgetype[i+1].numpy(), [1 if p >= 0.5 else 0 for p in scores[i].sigmoid().numpy()])\n",
        "            #hit2=top_k_accuracy_score(labelled_edgetype[i+1].numpy(), scores[i].sigmoid().numpy(), k=2)\n",
        "            #hits_at_10 = tfr.keras.metrics.HitsMetric(topn=10)\n",
        "            #hits_at_10(labelled_edgetype[i+1].numpy(), scores[i].sigmoid().numpy()).numpy()\n",
        "            print(f\"AUC for class {i+1}: {auc:.4f}\")\n",
        "            print(f\"Accuracy for class {i+1}: {acc:.4f}\")\n",
        "            #print(f\"Precision for class {i+1}: {prec:.4f}\")\n",
        "            #print(f\"top2 for class {i+1}: {hit2:.4f}\")\n",
        "            #print(f\"hit10 for class {i+1}: {hits_at_10:.4f}\")\n",
        "            #mat=confusion_matrix(labelled_edgetype[i+1].numpy(), [1 if p >= 0.5 else 0 for p in scores[i].sigmoid().numpy()])\n",
        "            #disp = ConfusionMatrixDisplay(confusion_matrix=mat,display_labels=labelled_edgetype[i+1].unique())\n",
        "            #disp.plot()\n",
        "    return auc\n"
      ],
      "id": "TjVqQLtDYYFs"
    },
    {
      "cell_type": "code",
      "execution_count": null,
      "metadata": {
        "colab": {
          "base_uri": "https://localhost:8080/"
        },
        "id": "KGb-HnuJdEpC",
        "outputId": "a6c550b8-9354-4977-c621-0631c06779c9"
      },
      "outputs": [
        {
          "name": "stdout",
          "output_type": "stream",
          "text": [
            "AUC for class 1: 0.9309\n",
            "Accuracy for class 1: 0.5509\n",
            "AUC for class 2: 0.8785\n",
            "Accuracy for class 2: 0.5018\n",
            "AUC for class 3: 0.0697\n",
            "Accuracy for class 3: 0.2336\n",
            "AUC for class 4: 0.7564\n",
            "Accuracy for class 4: 0.5030\n"
          ]
        },
        {
          "data": {
            "text/plain": [
              "0.7563642644557823"
            ]
          },
          "execution_count": 57,
          "metadata": {},
          "output_type": "execute_result"
        }
      ],
      "source": [
        "##VALIDATION\n",
        "evaluate(val_data,modelRGCN)"
      ],
      "id": "KGb-HnuJdEpC"
    },
    {
      "cell_type": "code",
      "execution_count": null,
      "metadata": {
        "colab": {
          "base_uri": "https://localhost:8080/"
        },
        "id": "4Klvkzcsc3qE",
        "outputId": "0c95d175-9d4e-48a0-c609-45289bad84f6"
      },
      "outputs": [
        {
          "name": "stdout",
          "output_type": "stream",
          "text": [
            "AUC for class 1: 0.9236\n",
            "Accuracy for class 1: 0.5583\n",
            "AUC for class 2: 0.8995\n",
            "Accuracy for class 2: 0.5000\n",
            "AUC for class 3: 0.0721\n",
            "Accuracy for class 3: 0.2532\n",
            "AUC for class 4: 0.7675\n",
            "Accuracy for class 4: 0.5037\n"
          ]
        },
        {
          "data": {
            "text/plain": [
              "0.7674596531320862"
            ]
          },
          "execution_count": 58,
          "metadata": {},
          "output_type": "execute_result"
        }
      ],
      "source": [
        "#TEST\n",
        "evaluate(test_data,modelRGCN)"
      ],
      "id": "4Klvkzcsc3qE"
    },
    {
      "cell_type": "code",
      "execution_count": null,
      "metadata": {
        "colab": {
          "base_uri": "https://localhost:8080/",
          "height": 439
        },
        "id": "5r9n8DB3dRYu",
        "outputId": "b19be916-f320-460a-d03a-a0cfc6963f3f"
      },
      "outputs": [
        {
          "name": "stdout",
          "output_type": "stream",
          "text": [
            "experiment for wd: 0 and channels: [64, 32]\n",
            "Epoch: 1,Loss: 473646.625\n"
          ]
        },
        {
          "ename": "KeyboardInterrupt",
          "evalue": "ignored",
          "output_type": "error",
          "traceback": [
            "\u001b[0;31m---------------------------------------------------------------------------\u001b[0m",
            "\u001b[0;31mKeyboardInterrupt\u001b[0m                         Traceback (most recent call last)",
            "\u001b[0;32m<ipython-input-179-f6ebbeda2412>\u001b[0m in \u001b[0;36m<cell line: 7>\u001b[0;34m()\u001b[0m\n\u001b[1;32m     16\u001b[0m             \u001b[0mmodelRGCN\u001b[0m\u001b[0;34m.\u001b[0m\u001b[0mloss\u001b[0m\u001b[0;34m=\u001b[0m\u001b[0mtorch\u001b[0m\u001b[0;34m.\u001b[0m\u001b[0mnn\u001b[0m\u001b[0;34m.\u001b[0m\u001b[0mBCEWithLogitsLoss\u001b[0m\u001b[0;34m(\u001b[0m\u001b[0;34m)\u001b[0m \u001b[0;31m#pos_weight = torch.ones([1])\u001b[0m\u001b[0;34m\u001b[0m\u001b[0;34m\u001b[0m\u001b[0m\n\u001b[1;32m     17\u001b[0m             \u001b[0mprint\u001b[0m\u001b[0;34m(\u001b[0m\u001b[0;34mf\"experiment for wd: {i} and channels: {h}\"\u001b[0m\u001b[0;34m)\u001b[0m\u001b[0;34m\u001b[0m\u001b[0;34m\u001b[0m\u001b[0m\n\u001b[0;32m---> 18\u001b[0;31m             \u001b[0mtrain_batch\u001b[0m\u001b[0;34m(\u001b[0m\u001b[0mmodelRGCN\u001b[0m\u001b[0;34m,\u001b[0m\u001b[0mepochs\u001b[0m\u001b[0;34m=\u001b[0m\u001b[0;36m10\u001b[0m\u001b[0;34m)\u001b[0m\u001b[0;34m\u001b[0m\u001b[0;34m\u001b[0m\u001b[0m\n\u001b[0m\u001b[1;32m     19\u001b[0m             \u001b[0mevaluate\u001b[0m\u001b[0;34m(\u001b[0m\u001b[0mval_data\u001b[0m\u001b[0;34m,\u001b[0m\u001b[0mmodelRGCN\u001b[0m\u001b[0;34m)\u001b[0m\u001b[0;34m\u001b[0m\u001b[0;34m\u001b[0m\u001b[0m\n\u001b[1;32m     20\u001b[0m             \u001b[0mevaluate\u001b[0m\u001b[0;34m(\u001b[0m\u001b[0mtest_data\u001b[0m\u001b[0;34m,\u001b[0m\u001b[0mmodelRGCN\u001b[0m\u001b[0;34m)\u001b[0m\u001b[0;34m\u001b[0m\u001b[0;34m\u001b[0m\u001b[0m\n",
            "\u001b[0;32m<ipython-input-176-df11bcb88c1d>\u001b[0m in \u001b[0;36mtrain_batch\u001b[0;34m(model, epochs)\u001b[0m\n\u001b[1;32m     25\u001b[0m             \u001b[0;31m#edge_labels=[torch.where(labelled_edgetype == i+1, 1, torch.tensor(0)).to(torch.float)  for i in  range(len(edge_types))]\u001b[0m\u001b[0;34m\u001b[0m\u001b[0;34m\u001b[0m\u001b[0m\n\u001b[1;32m     26\u001b[0m             \u001b[0;31m#labelled_edge_indexes=labelled_edge_indexes.view(-1)\u001b[0m\u001b[0;34m\u001b[0m\u001b[0;34m\u001b[0m\u001b[0m\n\u001b[0;32m---> 27\u001b[0;31m             \u001b[0mz\u001b[0m \u001b[0;34m=\u001b[0m \u001b[0mmodel\u001b[0m\u001b[0;34m.\u001b[0m\u001b[0mencode\u001b[0m\u001b[0;34m(\u001b[0m\u001b[0mtrain_data\u001b[0m\u001b[0;34m[\u001b[0m\u001b[0;34m'Company'\u001b[0m\u001b[0;34m]\u001b[0m\u001b[0;34m.\u001b[0m\u001b[0mx\u001b[0m\u001b[0;34m,\u001b[0m\u001b[0medge_indexes\u001b[0m\u001b[0;34m,\u001b[0m \u001b[0medge_type\u001b[0m\u001b[0;34m=\u001b[0m\u001b[0medgetype\u001b[0m\u001b[0;34m)\u001b[0m\u001b[0;34m\u001b[0m\u001b[0;34m\u001b[0m\u001b[0m\n\u001b[0m\u001b[1;32m     28\u001b[0m             \u001b[0;31m#z_train+=z*batch_size\u001b[0m\u001b[0;34m\u001b[0m\u001b[0;34m\u001b[0m\u001b[0m\n\u001b[1;32m     29\u001b[0m \u001b[0;34m\u001b[0m\u001b[0m\n",
            "\u001b[0;32m/usr/local/lib/python3.10/dist-packages/torch_geometric/nn/models/autoencoder.py\u001b[0m in \u001b[0;36mencode\u001b[0;34m(self, *args, **kwargs)\u001b[0m\n\u001b[1;32m     78\u001b[0m     \u001b[0;32mdef\u001b[0m \u001b[0mencode\u001b[0m\u001b[0;34m(\u001b[0m\u001b[0mself\u001b[0m\u001b[0;34m,\u001b[0m \u001b[0;34m*\u001b[0m\u001b[0margs\u001b[0m\u001b[0;34m,\u001b[0m \u001b[0;34m**\u001b[0m\u001b[0mkwargs\u001b[0m\u001b[0;34m)\u001b[0m \u001b[0;34m->\u001b[0m \u001b[0mTensor\u001b[0m\u001b[0;34m:\u001b[0m\u001b[0;34m\u001b[0m\u001b[0;34m\u001b[0m\u001b[0m\n\u001b[1;32m     79\u001b[0m         \u001b[0;34mr\"\"\"Runs the encoder and computes node-wise latent variables.\"\"\"\u001b[0m\u001b[0;34m\u001b[0m\u001b[0;34m\u001b[0m\u001b[0m\n\u001b[0;32m---> 80\u001b[0;31m         \u001b[0;32mreturn\u001b[0m \u001b[0mself\u001b[0m\u001b[0;34m.\u001b[0m\u001b[0mencoder\u001b[0m\u001b[0;34m(\u001b[0m\u001b[0;34m*\u001b[0m\u001b[0margs\u001b[0m\u001b[0;34m,\u001b[0m \u001b[0;34m**\u001b[0m\u001b[0mkwargs\u001b[0m\u001b[0;34m)\u001b[0m\u001b[0;34m\u001b[0m\u001b[0;34m\u001b[0m\u001b[0m\n\u001b[0m\u001b[1;32m     81\u001b[0m \u001b[0;34m\u001b[0m\u001b[0m\n\u001b[1;32m     82\u001b[0m     \u001b[0;32mdef\u001b[0m \u001b[0mdecode\u001b[0m\u001b[0;34m(\u001b[0m\u001b[0mself\u001b[0m\u001b[0;34m,\u001b[0m \u001b[0;34m*\u001b[0m\u001b[0margs\u001b[0m\u001b[0;34m,\u001b[0m \u001b[0;34m**\u001b[0m\u001b[0mkwargs\u001b[0m\u001b[0;34m)\u001b[0m \u001b[0;34m->\u001b[0m \u001b[0mTensor\u001b[0m\u001b[0;34m:\u001b[0m\u001b[0;34m\u001b[0m\u001b[0;34m\u001b[0m\u001b[0m\n",
            "\u001b[0;32m/usr/local/lib/python3.10/dist-packages/torch/nn/modules/module.py\u001b[0m in \u001b[0;36m_call_impl\u001b[0;34m(self, *args, **kwargs)\u001b[0m\n\u001b[1;32m   1499\u001b[0m                 \u001b[0;32mor\u001b[0m \u001b[0m_global_backward_pre_hooks\u001b[0m \u001b[0;32mor\u001b[0m \u001b[0m_global_backward_hooks\u001b[0m\u001b[0;34m\u001b[0m\u001b[0;34m\u001b[0m\u001b[0m\n\u001b[1;32m   1500\u001b[0m                 or _global_forward_hooks or _global_forward_pre_hooks):\n\u001b[0;32m-> 1501\u001b[0;31m             \u001b[0;32mreturn\u001b[0m \u001b[0mforward_call\u001b[0m\u001b[0;34m(\u001b[0m\u001b[0;34m*\u001b[0m\u001b[0margs\u001b[0m\u001b[0;34m,\u001b[0m \u001b[0;34m**\u001b[0m\u001b[0mkwargs\u001b[0m\u001b[0;34m)\u001b[0m\u001b[0;34m\u001b[0m\u001b[0;34m\u001b[0m\u001b[0m\n\u001b[0m\u001b[1;32m   1502\u001b[0m         \u001b[0;31m# Do not call functions when jit is used\u001b[0m\u001b[0;34m\u001b[0m\u001b[0;34m\u001b[0m\u001b[0m\n\u001b[1;32m   1503\u001b[0m         \u001b[0mfull_backward_hooks\u001b[0m\u001b[0;34m,\u001b[0m \u001b[0mnon_full_backward_hooks\u001b[0m \u001b[0;34m=\u001b[0m \u001b[0;34m[\u001b[0m\u001b[0;34m]\u001b[0m\u001b[0;34m,\u001b[0m \u001b[0;34m[\u001b[0m\u001b[0;34m]\u001b[0m\u001b[0;34m\u001b[0m\u001b[0;34m\u001b[0m\u001b[0m\n",
            "\u001b[0;32m<ipython-input-175-4fb8ab7cc633>\u001b[0m in \u001b[0;36mforward\u001b[0;34m(self, x, edge_index, edge_type)\u001b[0m\n\u001b[1;32m     17\u001b[0m     \u001b[0;32mdef\u001b[0m \u001b[0mforward\u001b[0m\u001b[0;34m(\u001b[0m\u001b[0mself\u001b[0m\u001b[0;34m,\u001b[0m\u001b[0mx\u001b[0m\u001b[0;34m,\u001b[0m \u001b[0medge_index\u001b[0m\u001b[0;34m,\u001b[0m \u001b[0medge_type\u001b[0m\u001b[0;34m)\u001b[0m\u001b[0;34m:\u001b[0m\u001b[0;34m\u001b[0m\u001b[0;34m\u001b[0m\u001b[0m\n\u001b[1;32m     18\u001b[0m         \u001b[0;31m#x = self.node_emb\u001b[0m\u001b[0;34m\u001b[0m\u001b[0;34m\u001b[0m\u001b[0m\n\u001b[0;32m---> 19\u001b[0;31m         \u001b[0mx1\u001b[0m \u001b[0;34m=\u001b[0m \u001b[0mself\u001b[0m\u001b[0;34m.\u001b[0m\u001b[0mconv1\u001b[0m\u001b[0;34m(\u001b[0m\u001b[0mx\u001b[0m\u001b[0;34m,\u001b[0m \u001b[0medge_index\u001b[0m\u001b[0;34m,\u001b[0m \u001b[0medge_type\u001b[0m\u001b[0;34m)\u001b[0m\u001b[0;34m.\u001b[0m\u001b[0mrelu_\u001b[0m\u001b[0;34m(\u001b[0m\u001b[0;34m)\u001b[0m\u001b[0;34m\u001b[0m\u001b[0;34m\u001b[0m\u001b[0m\n\u001b[0m\u001b[1;32m     20\u001b[0m         \u001b[0;31m#x = F.dropout(x, p=0.2, training=self.training)\u001b[0m\u001b[0;34m\u001b[0m\u001b[0;34m\u001b[0m\u001b[0m\n\u001b[1;32m     21\u001b[0m         \u001b[0mz\u001b[0m \u001b[0;34m=\u001b[0m \u001b[0mself\u001b[0m\u001b[0;34m.\u001b[0m\u001b[0mconv2\u001b[0m\u001b[0;34m(\u001b[0m\u001b[0mx1\u001b[0m\u001b[0;34m,\u001b[0m \u001b[0medge_index\u001b[0m\u001b[0;34m,\u001b[0m \u001b[0medge_type\u001b[0m\u001b[0;34m)\u001b[0m\u001b[0;34m.\u001b[0m\u001b[0mrelu_\u001b[0m\u001b[0;34m(\u001b[0m\u001b[0;34m)\u001b[0m\u001b[0;34m\u001b[0m\u001b[0;34m\u001b[0m\u001b[0m\n",
            "\u001b[0;32m/usr/local/lib/python3.10/dist-packages/torch/nn/modules/module.py\u001b[0m in \u001b[0;36m_call_impl\u001b[0;34m(self, *args, **kwargs)\u001b[0m\n\u001b[1;32m   1499\u001b[0m                 \u001b[0;32mor\u001b[0m \u001b[0m_global_backward_pre_hooks\u001b[0m \u001b[0;32mor\u001b[0m \u001b[0m_global_backward_hooks\u001b[0m\u001b[0;34m\u001b[0m\u001b[0;34m\u001b[0m\u001b[0m\n\u001b[1;32m   1500\u001b[0m                 or _global_forward_hooks or _global_forward_pre_hooks):\n\u001b[0;32m-> 1501\u001b[0;31m             \u001b[0;32mreturn\u001b[0m \u001b[0mforward_call\u001b[0m\u001b[0;34m(\u001b[0m\u001b[0;34m*\u001b[0m\u001b[0margs\u001b[0m\u001b[0;34m,\u001b[0m \u001b[0;34m**\u001b[0m\u001b[0mkwargs\u001b[0m\u001b[0;34m)\u001b[0m\u001b[0;34m\u001b[0m\u001b[0;34m\u001b[0m\u001b[0m\n\u001b[0m\u001b[1;32m   1502\u001b[0m         \u001b[0;31m# Do not call functions when jit is used\u001b[0m\u001b[0;34m\u001b[0m\u001b[0;34m\u001b[0m\u001b[0m\n\u001b[1;32m   1503\u001b[0m         \u001b[0mfull_backward_hooks\u001b[0m\u001b[0;34m,\u001b[0m \u001b[0mnon_full_backward_hooks\u001b[0m \u001b[0;34m=\u001b[0m \u001b[0;34m[\u001b[0m\u001b[0;34m]\u001b[0m\u001b[0;34m,\u001b[0m \u001b[0;34m[\u001b[0m\u001b[0;34m]\u001b[0m\u001b[0;34m\u001b[0m\u001b[0;34m\u001b[0m\u001b[0m\n",
            "\u001b[0;32m/usr/local/lib/python3.10/dist-packages/torch_geometric/nn/conv/rgcn_conv.py\u001b[0m in \u001b[0;36mforward\u001b[0;34m(self, x, edge_index, edge_type)\u001b[0m\n\u001b[1;32m    255\u001b[0m                         h = self.propagate(tmp, x=x_l, edge_type_ptr=None,\n\u001b[1;32m    256\u001b[0m                                            size=size)\n\u001b[0;32m--> 257\u001b[0;31m                         \u001b[0mout\u001b[0m \u001b[0;34m=\u001b[0m \u001b[0mout\u001b[0m \u001b[0;34m+\u001b[0m \u001b[0;34m(\u001b[0m\u001b[0mh\u001b[0m \u001b[0;34m@\u001b[0m \u001b[0mweight\u001b[0m\u001b[0;34m[\u001b[0m\u001b[0mi\u001b[0m\u001b[0;34m]\u001b[0m\u001b[0;34m)\u001b[0m\u001b[0;34m\u001b[0m\u001b[0;34m\u001b[0m\u001b[0m\n\u001b[0m\u001b[1;32m    258\u001b[0m \u001b[0;34m\u001b[0m\u001b[0m\n\u001b[1;32m    259\u001b[0m         \u001b[0mroot\u001b[0m \u001b[0;34m=\u001b[0m \u001b[0mself\u001b[0m\u001b[0;34m.\u001b[0m\u001b[0mroot\u001b[0m\u001b[0;34m\u001b[0m\u001b[0;34m\u001b[0m\u001b[0m\n",
            "\u001b[0;31mKeyboardInterrupt\u001b[0m: "
          ]
        }
      ],
      "source": [
        "## TUNING\n",
        "wd=[0, 0.1,0.2,0.3]\n",
        "hid=[[64,32],[64,64]]\n",
        "val_auc=np.empty((5,3))\n",
        "test_auc=np.empty((5,3))\n",
        "#c1=0\n",
        "for i in  wd:\n",
        "    #c2=0\n",
        "    for h in hid:\n",
        "\n",
        "            modelRGCN = GAE(\n",
        "              RGCNEncoder(data.num_nodes, feature_dim=data['Company'].x.size(1) ,hidden_channels=h[0], out_channels=h[1],num_relations=len(edge_types)),\n",
        "               DistMultDecoder(len(edge_types), hidden_channels=h[1])\n",
        "            )\n",
        "            optimizer = torch.optim.Adam(modelRGCN.parameters(), lr=0.01, weight_decay=i) # weight_decay=5*1e-3 optimal for 1 sector, 5e-2 for 2 sector\n",
        "            modelRGCN.loss=torch.nn.BCEWithLogitsLoss() #pos_weight = torch.ones([1])\n",
        "            print(f\"experiment for wd: {i} and channels: {h}\")\n",
        "            train_batch(modelRGCN,epochs=10)\n",
        "            evaluate(val_data,modelRGCN)\n",
        "            evaluate(test_data,modelRGCN)\n",
        "            #c2+=1\n",
        "    #c2+=1\n",
        "#print(val_auc)\n",
        "#print(test_auc)\n"
      ],
      "id": "5r9n8DB3dRYu"
    },
    {
      "cell_type": "markdown",
      "metadata": {
        "id": "767a8ad1"
      },
      "source": [
        "## RGAT-MTES WITH LEARNABLE SELF EMBEDDING"
      ],
      "id": "767a8ad1"
    },
    {
      "cell_type": "code",
      "execution_count": null,
      "metadata": {
        "id": "q-5FMP98ByDP"
      },
      "outputs": [],
      "source": [
        "### SELF NODE EMBEDDING\n",
        "from torch_geometric.nn import RGATConv, GAE\n",
        "import torch.nn.functional as F\n",
        "from torch.nn import Parameter\n",
        "\n",
        "class RGAT(torch.nn.Module):\n",
        "    def __init__(self, num_nodes, hidden_channels, out_channels,\n",
        "                 num_relations,dim, edge_dim=None ,attention_mechanism='within-relation', attention_mode='multiplicative-self-attention',\n",
        "                 heads=1, concat=False):\n",
        "        super().__init__()\n",
        "        self.node_emb = Parameter(torch.Tensor(num_nodes, hidden_channels)) ##Initiliaze Learnable embedding vector (paper r-GAT)\n",
        "        self.conv1 = RGATConv(hidden_channels, hidden_channels, num_relations,attention_mode= attention_mode,dim=dim,edge_dim=edge_dim,heads=heads,concat=concat )\n",
        "        self.conv2 = RGATConv(dim*hidden_channels, out_channels, num_relations,attention_mode=attention_mode,dim=dim,edge_dim =edge_dim,heads=heads,concat=concat)\n",
        "        #self.lin = torch.nn.Linear(-1, out_channels)\n",
        "        self.reset_parameters()\n",
        "\n",
        "    def reset_parameters(self):\n",
        "        torch.nn.init.xavier_uniform_(self.node_emb)\n",
        "        self.conv1.reset_parameters()\n",
        "        self.conv2.reset_parameters()\n",
        "\n",
        "    def forward(self,  edge_index, edge_type, edge_attr=None):\n",
        "        x = self.node_emb\n",
        "        x = self.conv1(x, edge_index, edge_type, edge_attr).relu()\n",
        "        z = self.conv2(x, edge_index, edge_type, edge_attr)#.relu()\n",
        "        #x = self.lin(x)\n",
        "        return z  #F.log_softmax(x, dim=-1)\n",
        "\n",
        "\n",
        "class DistMultDecoder(torch.nn.Module):\n",
        "    def __init__(self, num_relations, hidden_channels):\n",
        "        super().__init__()\n",
        "        self.rel_emb = Parameter(torch.Tensor(num_relations, hidden_channels))\n",
        "        self.reset_parameters()\n",
        "\n",
        "    def reset_parameters(self):\n",
        "        torch.nn.init.xavier_uniform_(self.rel_emb)\n",
        "\n",
        "    def forward(self, z, edge_label_index):\n",
        "        scores={}\n",
        "        for i in range(len(edge_types)):\n",
        "                z_src, z_dst = z[edge_label_index[i+1][0]], z[edge_label_index[i+1][1]]\n",
        "#         out=torch.empty(0)\n",
        "#         for i in range(len(edge_type)):\n",
        "#             #score=torch.sum(z_src[i]*rel_emb*z_dst[i], dim=1)\n",
        "#             out=torch.cat([out,torch.max(torch.sum(z_src[i-1]*rel_emb*z_dst[i-1], dim=1).sigmoid(),dim=0,keepdim=True).indices+1],dim=-1)\n",
        "#         pred=out#.to(torch.int64)\n",
        "                scores[i]=torch.sum(z_src*self.rel_emb[i]*z_dst, dim=1)\n",
        "        return  scores\n"
      ],
      "id": "q-5FMP98ByDP"
    },
    {
      "cell_type": "code",
      "execution_count": null,
      "metadata": {
        "id": "hJmCFDJOFKx0"
      },
      "outputs": [],
      "source": [
        "modelRGAT = GAE(\n",
        "    RGAT(num_nodes=data.num_nodes,hidden_channels=64, out_channels=64, num_relations=len(edge_types),\n",
        "         dim=1,attention_mechanism='within-relation',attention_mode='multiplicative-self-attention',heads=1), #edge_dim=data['SUPPLIES'].edge_attr.size(-1)\n",
        "    DistMultDecoder(len(edge_types), hidden_channels=64)).to(device)\n",
        "optimizer = torch.optim.Adam(modelRGAT.parameters(), lr=0.01, weight_decay=0.01) # weight_decay=0.005 foptima for 1 sector(self)\n",
        "modelRGAT.loss=torch.nn.BCEWithLogitsLoss()"
      ],
      "id": "hJmCFDJOFKx0"
    },
    {
      "cell_type": "code",
      "execution_count": null,
      "metadata": {
        "id": "MoD_dqAjFlM3"
      },
      "outputs": [],
      "source": [
        "#Train with mini-batchs SELF NODE\n",
        "def train_batch(model,epochs):\n",
        "    model.train()\n",
        "    for epoch in range(epochs):\n",
        "        total_examples = total_loss = 0\n",
        "        #z_train=torch.empty([data.num_nodes, model.encoder.conv1.out_channels])\n",
        "        for batch in train_loader:\n",
        "            optimizer.zero_grad()\n",
        "            batch = batch.to(device)\n",
        "            batch_size = train_loader.batch_size\n",
        "            edgeattr,edgetype, edge_indexes=torch.empty(1,0),torch.empty(1,0),torch.empty(2,0)\n",
        "            labelled_edge_indexes={}\n",
        "            labelled_edgetype={}\n",
        "            #out={}\n",
        "            i=1\n",
        "            for key in edge_types:\n",
        "                edge_indexes=torch.cat([edge_indexes,batch[key].edge_index],dim=-1).to(torch.int64)\n",
        "                edgetype=torch.cat([edgetype,torch.full((1,batch[key].edge_index.size(1)),i-1)],dim=-1).to(torch.int64)\n",
        "                labelled_edge_indexes[i]=batch[key].edge_label_index\n",
        "                labelled_edgetype[i]=batch[key].edge_label\n",
        "                i+=1\n",
        "            #edge_indexes=edge_indexes.view(-1)\n",
        "            edgetype=edgetype.view(-1)\n",
        "            #edgeattr=torch.cat([batch['SUPPLIES'].edge_attr,torch.full((1,edgetype.size(0)-batch['SUPPLIES'].edge_attr.size(0)),0).view(-1)],dim=-1).to(torch.int64)\n",
        "            #labelled_edgetype=labelled_edgetype.view(-1)\n",
        "            #edge_labels=[torch.where(labelled_edgetype == i+1, 1, torch.tensor(0)).to(torch.float)  for i in  range(len(edge_types))]\n",
        "            #labelled_edge_indexes=labelled_edge_indexes.view(-1)\n",
        "            z = model.encode(edge_indexes, edge_type=edgetype) #edge_dim=data['SUPPLIES'].edge_attr.size(-1)\n",
        "            #z_train+=z*batch_size\n",
        "\n",
        "            out = model.decode(z, labelled_edge_indexes)\n",
        "            #out_all=torch.stack([out[0].sigmoid(), out[1].sigmoid(),out[2].sigmoid(),out[3].sigmoid()])\n",
        "            loss=float(0)\n",
        "            for i in  range(len(edge_types)):\n",
        "                loss += model.loss(out[i], labelled_edgetype[i+1])\n",
        "            total_examples += batch_size\n",
        "            total_loss += loss * batch_size\n",
        "            #loss_final=total_loss/total_examples\n",
        "            loss.backward()\n",
        "            torch.nn.utils.clip_grad_norm_(model.parameters(), 1.)\n",
        "            optimizer.step()\n",
        "        print(f'Epoch: {epoch + 1},Loss: {total_loss/total_examples}')\n",
        "        #z_trained=z_train/total_examples\n",
        "    return  model"
      ],
      "id": "MoD_dqAjFlM3"
    },
    {
      "cell_type": "code",
      "execution_count": null,
      "metadata": {
        "colab": {
          "base_uri": "https://localhost:8080/"
        },
        "id": "ffd1cf15",
        "outputId": "c3e73a7a-2b00-43a2-c456-06598ac15192"
      },
      "outputs": [
        {
          "name": "stdout",
          "output_type": "stream",
          "text": [
            "Epoch: 1,Loss: 2.764150381088257\n",
            "Epoch: 2,Loss: 2.5930912494659424\n",
            "Epoch: 3,Loss: 2.4142510890960693\n",
            "Epoch: 4,Loss: 2.3257272243499756\n",
            "Epoch: 5,Loss: 2.3162996768951416\n",
            "Epoch: 6,Loss: 2.320303440093994\n",
            "Epoch: 7,Loss: 2.3166422843933105\n",
            "Epoch: 8,Loss: 2.316108465194702\n",
            "Epoch: 9,Loss: 2.314685821533203\n",
            "Epoch: 10,Loss: 2.3162736892700195\n"
          ]
        }
      ],
      "source": [
        "trained_RGAT=train_batch(modelRGAT,epochs=10)"
      ],
      "id": "ffd1cf15"
    },
    {
      "cell_type": "code",
      "execution_count": null,
      "metadata": {
        "id": "17900c22"
      },
      "outputs": [],
      "source": [
        "from sklearn.metrics import f1_score, roc_auc_score, accuracy_score, precision_score,confusion_matrix,ConfusionMatrixDisplay\n",
        "\n",
        "def evaluate(data,model,t=0.5):\n",
        "    model.eval()\n",
        "    #y_true, y_pred = [], []\n",
        "    with torch.no_grad():\n",
        "        edgetype, edge_indexes=torch.empty(1,0),torch.empty(2,0)\n",
        "        labelled_edge_indexes={}\n",
        "        labelled_edgetype={}\n",
        "            #out={}\n",
        "        i=1\n",
        "        for key in edge_types:\n",
        "                edge_indexes=torch.cat([edge_indexes,data[key].edge_index],dim=-1).to(torch.int64)\n",
        "                edgetype=torch.cat([edgetype,torch.full((1,data[key].edge_index.size(1)),i-1)],dim=-1).to(torch.int64)\n",
        "                labelled_edge_indexes[i]=data[key].edge_label_index\n",
        "                labelled_edgetype[i]=data[key].edge_label\n",
        "                i+=1\n",
        "            #edge_indexes=edge_indexes.view(-1)\n",
        "        edgetype=edgetype.view(-1)\n",
        "        z = model.encode(edge_indexes, edge_type=edgetype,edge_attr=None)\n",
        "        scores = model.decode(z, labelled_edge_indexes)\n",
        "        #scores_all=torch.stack([scores[0].sigmoid(), scores[1].sigmoid(),scores[2].sigmoid(),scores[3].sigmoid()])\n",
        "    for i in  range(len(edge_types)):\n",
        "            auc = roc_auc_score(labelled_edgetype[i+1].numpy(), scores[i].sigmoid().numpy())\n",
        "            acc = accuracy_score(labelled_edgetype[i+1].numpy(), [1 if p >= t else 0 for p in scores[i].sigmoid().numpy()])\n",
        "            prec = precision_score(labelled_edgetype[i+1].numpy(), [1 if p >= t else 0 for p in scores[i].sigmoid().numpy()])\n",
        "            f1=f1_score(labelled_edgetype[i+1].numpy(), [1 if p >= t else 0 for p in scores[i].sigmoid().numpy()])\n",
        "            print(f\"AUC for class {i+1}: {auc:.4f}\")\n",
        "            print(f\"accuracy for class {i+1}: {acc:.4f}\")\n",
        "            print(f\"F1 score for class {i+1}: {f1:.4f}\")\n",
        "            #print(f\"precision for class {i+1}: {prec:.4f}\")\n",
        "            #mat=confusion_matrix(labelled_edgetype[i+1].numpy(), [1 if p >= 0.5 else 0 for p in scores[i].sigmoid().numpy()])\n",
        "            #disp = ConfusionMatrixDisplay(confusion_matrix=mat,display_labels=labelled_edgetype[i+1].unique())\n",
        "            #disp.plot()\n",
        "    return z\n"
      ],
      "id": "17900c22"
    },
    {
      "cell_type": "code",
      "execution_count": null,
      "metadata": {
        "colab": {
          "base_uri": "https://localhost:8080/"
        },
        "id": "d29b34ae",
        "outputId": "4f7949ab-e752-4ece-b84b-3eb891068d6c"
      },
      "outputs": [
        {
          "name": "stdout",
          "output_type": "stream",
          "text": [
            "AUC for class 1: 0.9196\n",
            "accuracy for class 1: 0.8585\n",
            "F1 score for class 1: 0.8698\n",
            "AUC for class 2: 0.9041\n",
            "accuracy for class 2: 0.5150\n",
            "F1 score for class 2: 0.6718\n",
            "AUC for class 3: 0.6357\n",
            "accuracy for class 3: 0.7599\n",
            "F1 score for class 3: 0.7901\n",
            "AUC for class 4: 0.7055\n",
            "accuracy for class 4: 0.6954\n",
            "F1 score for class 4: 0.7386\n"
          ]
        },
        {
          "data": {
            "text/plain": [
              "tensor([[ 5.5368e-07,  3.4805e-03, -2.1235e-06,  ..., -1.0024e-06,\n",
              "          1.1970e-06,  8.1438e-01],\n",
              "        [-1.6099e-05,  2.8444e-03, -7.5572e-08,  ...,  2.4447e-05,\n",
              "          4.0390e-06,  2.1891e+00],\n",
              "        [-3.5084e-07,  3.5113e-03, -2.5020e-06,  ..., -1.7870e-07,\n",
              "          3.4829e-07,  2.7890e-01],\n",
              "        ...,\n",
              "        [-3.5084e-07,  3.5113e-03, -2.5020e-06,  ..., -1.7870e-07,\n",
              "          3.4829e-07,  2.7890e-01],\n",
              "        [ 9.3908e-07,  3.5207e-03, -1.5113e-06,  ...,  2.0084e-06,\n",
              "          9.5204e-07,  1.2876e+00],\n",
              "        [-3.5084e-07,  3.5113e-03, -2.5020e-06,  ..., -1.7870e-07,\n",
              "          3.4829e-07,  2.7890e-01]])"
            ]
          },
          "execution_count": 30,
          "metadata": {},
          "output_type": "execute_result"
        }
      ],
      "source": [
        "# VALIDATE\n",
        "evaluate(val_data,trained_RGAT)"
      ],
      "id": "d29b34ae"
    },
    {
      "cell_type": "code",
      "execution_count": null,
      "metadata": {
        "colab": {
          "base_uri": "https://localhost:8080/"
        },
        "id": "RdzGz-PiqSWR",
        "outputId": "d3a97cfd-b70b-4993-e91a-8d5398cfc88e"
      },
      "outputs": [
        {
          "name": "stdout",
          "output_type": "stream",
          "text": [
            "AUC for class 1: 0.9089\n",
            "accuracy for class 1: 0.8495\n",
            "F1 score for class 1: 0.8610\n",
            "AUC for class 2: 0.8910\n",
            "accuracy for class 2: 0.5216\n",
            "F1 score for class 2: 0.6743\n",
            "AUC for class 3: 0.6026\n",
            "accuracy for class 3: 0.7346\n",
            "F1 score for class 3: 0.7694\n",
            "AUC for class 4: 0.7002\n",
            "accuracy for class 4: 0.6474\n",
            "F1 score for class 4: 0.7078\n"
          ]
        },
        {
          "data": {
            "text/plain": [
              "tensor([[ 5.5368e-07,  3.4805e-03, -2.1235e-06,  ..., -1.0024e-06,\n",
              "          1.1970e-06,  8.1438e-01],\n",
              "        [-1.6099e-05,  2.8444e-03, -7.5572e-08,  ...,  2.4447e-05,\n",
              "          4.0390e-06,  2.1891e+00],\n",
              "        [-3.5084e-07,  3.5113e-03, -2.5020e-06,  ..., -1.7870e-07,\n",
              "          3.4829e-07,  2.7890e-01],\n",
              "        ...,\n",
              "        [-3.5084e-07,  3.5113e-03, -2.5020e-06,  ..., -1.7870e-07,\n",
              "          3.4829e-07,  2.7890e-01],\n",
              "        [ 9.3908e-07,  3.5207e-03, -1.5113e-06,  ...,  2.0084e-06,\n",
              "          9.5204e-07,  1.2876e+00],\n",
              "        [-3.5084e-07,  3.5113e-03, -2.5020e-06,  ..., -1.7870e-07,\n",
              "          3.4829e-07,  2.7890e-01]])"
            ]
          },
          "execution_count": 31,
          "metadata": {},
          "output_type": "execute_result"
        }
      ],
      "source": [
        "#TEST\n",
        "evaluate(test_data,trained_RGAT) #trained_RGAT"
      ],
      "id": "RdzGz-PiqSWR"
    },
    {
      "cell_type": "code",
      "execution_count": null,
      "metadata": {
        "colab": {
          "base_uri": "https://localhost:8080/"
        },
        "id": "XRU-8N8tQFtE",
        "outputId": "8a3e755a-0f67-49fa-a82c-f0dbbb958f9b"
      },
      "outputs": [
        {
          "name": "stdout",
          "output_type": "stream",
          "text": [
            "experiment for wd:0.001 and channels:[32, 32]\n",
            "Epoch: 1,Loss: 2.7249536514282227\n",
            "Epoch: 2,Loss: 2.468766927719116\n",
            "Epoch: 3,Loss: 2.3211357593536377\n",
            "Epoch: 4,Loss: 2.3099470138549805\n",
            "Epoch: 5,Loss: 2.306981086730957\n",
            "Epoch: 6,Loss: 2.306887626647949\n",
            "Epoch: 7,Loss: 2.3048343658447266\n",
            "AUC for class 1: 0.9205\n",
            "accuracy for class 1: 0.8603\n",
            "F1 score for class 1: 0.8725\n",
            "AUC for class 2: 0.9098\n",
            "accuracy for class 2: 0.7726\n",
            "F1 score for class 2: 0.8033\n",
            "AUC for class 3: 0.6259\n",
            "accuracy for class 3: 0.4958\n",
            "F1 score for class 3: 0.4174\n",
            "AUC for class 4: 0.6298\n",
            "accuracy for class 4: 0.6490\n",
            "F1 score for class 4: 0.6687\n",
            "AUC for class 1: 0.9113\n",
            "accuracy for class 1: 0.8511\n",
            "F1 score for class 1: 0.8638\n",
            "AUC for class 2: 0.8932\n",
            "accuracy for class 2: 0.7679\n",
            "F1 score for class 2: 0.8010\n",
            "AUC for class 3: 0.5952\n",
            "accuracy for class 3: 0.4797\n",
            "F1 score for class 3: 0.4109\n",
            "AUC for class 4: 0.6193\n",
            "accuracy for class 4: 0.6589\n",
            "F1 score for class 4: 0.6888\n",
            "experiment for wd:0.005 and channels:[32, 32]\n",
            "Epoch: 1,Loss: 2.740307331085205\n",
            "Epoch: 2,Loss: 2.531136989593506\n",
            "Epoch: 3,Loss: 2.3543975353240967\n",
            "Epoch: 4,Loss: 2.3146116733551025\n",
            "Epoch: 5,Loss: 2.312999963760376\n",
            "Epoch: 6,Loss: 2.310575008392334\n",
            "Epoch: 7,Loss: 2.311401128768921\n",
            "AUC for class 1: 0.9180\n",
            "accuracy for class 1: 0.8603\n",
            "F1 score for class 1: 0.8725\n",
            "AUC for class 2: 0.8830\n",
            "accuracy for class 2: 0.7368\n",
            "F1 score for class 2: 0.7833\n",
            "AUC for class 3: 0.2986\n",
            "accuracy for class 3: 0.4896\n",
            "F1 score for class 3: 0.4512\n",
            "AUC for class 4: 0.6981\n",
            "accuracy for class 4: 0.6954\n",
            "F1 score for class 4: 0.7386\n",
            "AUC for class 1: 0.9084\n",
            "accuracy for class 1: 0.8511\n",
            "F1 score for class 1: 0.8638\n",
            "AUC for class 2: 0.8746\n",
            "accuracy for class 2: 0.7227\n",
            "F1 score for class 2: 0.7743\n",
            "AUC for class 3: 0.3007\n",
            "accuracy for class 3: 0.4812\n",
            "F1 score for class 3: 0.4572\n",
            "AUC for class 4: 0.6819\n",
            "accuracy for class 4: 0.6474\n",
            "F1 score for class 4: 0.7078\n",
            "experiment for wd:0.01 and channels:[32, 32]\n",
            "Epoch: 1,Loss: 2.7638323307037354\n",
            "Epoch: 2,Loss: 2.602445363998413\n",
            "Epoch: 3,Loss: 2.3969480991363525\n",
            "Epoch: 4,Loss: 2.319887638092041\n",
            "Epoch: 5,Loss: 2.3139450550079346\n",
            "Epoch: 6,Loss: 2.316307544708252\n",
            "Epoch: 7,Loss: 2.3160576820373535\n",
            "AUC for class 1: 0.9187\n",
            "accuracy for class 1: 0.8591\n",
            "F1 score for class 1: 0.8710\n",
            "AUC for class 2: 0.9065\n",
            "accuracy for class 2: 0.7726\n",
            "F1 score for class 2: 0.8039\n",
            "AUC for class 3: 0.3100\n",
            "accuracy for class 3: 0.4958\n",
            "F1 score for class 3: 0.4174\n",
            "AUC for class 4: 0.6492\n",
            "accuracy for class 4: 0.6490\n",
            "F1 score for class 4: 0.6687\n",
            "AUC for class 1: 0.9085\n",
            "accuracy for class 1: 0.8492\n",
            "F1 score for class 1: 0.8618\n",
            "AUC for class 2: 0.8997\n",
            "accuracy for class 2: 0.7622\n",
            "F1 score for class 2: 0.7974\n",
            "AUC for class 3: 0.2997\n",
            "accuracy for class 3: 0.4802\n",
            "F1 score for class 3: 0.4111\n",
            "AUC for class 4: 0.6813\n",
            "accuracy for class 4: 0.6623\n",
            "F1 score for class 4: 0.6909\n",
            "experiment for wd:0.001 and channels:[64, 32]\n",
            "Epoch: 1,Loss: 2.710444927215576\n",
            "Epoch: 2,Loss: 2.4343879222869873\n",
            "Epoch: 3,Loss: 2.3195948600769043\n",
            "Epoch: 4,Loss: 2.310286283493042\n",
            "Epoch: 5,Loss: 2.3113341331481934\n",
            "Epoch: 6,Loss: 2.30584979057312\n",
            "Epoch: 7,Loss: 2.306720733642578\n",
            "AUC for class 1: 0.9197\n",
            "accuracy for class 1: 0.8616\n",
            "F1 score for class 1: 0.8713\n",
            "AUC for class 2: 0.8692\n",
            "accuracy for class 2: 0.7726\n",
            "F1 score for class 2: 0.8033\n",
            "AUC for class 3: 0.6049\n",
            "accuracy for class 3: 0.4833\n",
            "F1 score for class 3: 0.3911\n",
            "AUC for class 4: 0.6986\n",
            "accuracy for class 4: 0.6523\n",
            "F1 score for class 4: 0.6828\n",
            "AUC for class 1: 0.9107\n",
            "accuracy for class 1: 0.8507\n",
            "F1 score for class 1: 0.8601\n",
            "AUC for class 2: 0.8502\n",
            "accuracy for class 2: 0.7669\n",
            "F1 score for class 2: 0.8003\n",
            "AUC for class 3: 0.5685\n",
            "accuracy for class 3: 0.4755\n",
            "F1 score for class 3: 0.3947\n",
            "AUC for class 4: 0.6794\n",
            "accuracy for class 4: 0.6523\n",
            "F1 score for class 4: 0.6921\n",
            "experiment for wd:0.005 and channels:[64, 32]\n",
            "Epoch: 1,Loss: 2.72426176071167\n",
            "Epoch: 2,Loss: 2.5021748542785645\n",
            "Epoch: 3,Loss: 2.3367464542388916\n",
            "Epoch: 4,Loss: 2.3145086765289307\n",
            "Epoch: 5,Loss: 2.3134822845458984\n",
            "Epoch: 6,Loss: 2.3118224143981934\n",
            "Epoch: 7,Loss: 2.310534715652466\n",
            "AUC for class 1: 0.9189\n",
            "accuracy for class 1: 0.8616\n",
            "F1 score for class 1: 0.8710\n",
            "AUC for class 2: 0.9053\n",
            "accuracy for class 2: 0.8459\n",
            "F1 score for class 2: 0.8576\n",
            "AUC for class 3: 0.6059\n",
            "accuracy for class 3: 0.4990\n",
            "F1 score for class 3: 0.4245\n",
            "AUC for class 4: 0.7006\n",
            "accuracy for class 4: 0.6490\n",
            "F1 score for class 4: 0.6687\n",
            "AUC for class 1: 0.9090\n",
            "accuracy for class 1: 0.8511\n",
            "F1 score for class 1: 0.8600\n",
            "AUC for class 2: 0.8989\n",
            "accuracy for class 2: 0.8308\n",
            "F1 score for class 2: 0.8459\n",
            "AUC for class 3: 0.5676\n",
            "accuracy for class 3: 0.4849\n",
            "F1 score for class 3: 0.4202\n",
            "AUC for class 4: 0.6983\n",
            "accuracy for class 4: 0.6606\n",
            "F1 score for class 4: 0.6899\n",
            "experiment for wd:0.01 and channels:[64, 32]\n",
            "Epoch: 1,Loss: 2.751882553100586\n",
            "Epoch: 2,Loss: 2.5590569972991943\n",
            "Epoch: 3,Loss: 2.374783992767334\n",
            "Epoch: 4,Loss: 2.318272113800049\n",
            "Epoch: 5,Loss: 2.314854383468628\n",
            "Epoch: 6,Loss: 2.3169798851013184\n",
            "Epoch: 7,Loss: 2.3156650066375732\n",
            "AUC for class 1: 0.9187\n",
            "accuracy for class 1: 0.8616\n",
            "F1 score for class 1: 0.8710\n",
            "AUC for class 2: 0.9091\n",
            "accuracy for class 2: 0.8459\n",
            "F1 score for class 2: 0.8576\n",
            "AUC for class 3: 0.6282\n",
            "accuracy for class 3: 0.6305\n",
            "F1 score for class 3: 0.6313\n",
            "AUC for class 4: 0.7048\n",
            "accuracy for class 4: 0.5066\n",
            "F1 score for class 4: 0.6696\n",
            "AUC for class 1: 0.9088\n",
            "accuracy for class 1: 0.8511\n",
            "F1 score for class 1: 0.8600\n",
            "AUC for class 2: 0.9011\n",
            "accuracy for class 2: 0.8308\n",
            "F1 score for class 2: 0.8459\n",
            "AUC for class 3: 0.5927\n",
            "accuracy for class 3: 0.6335\n",
            "F1 score for class 3: 0.6473\n",
            "AUC for class 4: 0.7034\n",
            "accuracy for class 4: 0.5083\n",
            "F1 score for class 4: 0.6704\n",
            "experiment for wd:0.001 and channels:[64, 64]\n",
            "Epoch: 1,Loss: 2.7012453079223633\n",
            "Epoch: 2,Loss: 2.390380859375\n",
            "Epoch: 3,Loss: 2.3105359077453613\n",
            "Epoch: 4,Loss: 2.3061532974243164\n",
            "Epoch: 5,Loss: 2.3052144050598145\n",
            "Epoch: 6,Loss: 2.2924864292144775\n",
            "Epoch: 7,Loss: 2.2920007705688477\n",
            "AUC for class 1: 0.9376\n",
            "accuracy for class 1: 0.8690\n",
            "F1 score for class 1: 0.8779\n",
            "AUC for class 2: 0.8694\n",
            "accuracy for class 2: 0.7444\n",
            "F1 score for class 2: 0.7726\n",
            "AUC for class 3: 0.2940\n",
            "accuracy for class 3: 0.4196\n",
            "F1 score for class 3: 0.3085\n",
            "AUC for class 4: 0.6430\n",
            "accuracy for class 4: 0.7053\n",
            "F1 score for class 4: 0.7435\n",
            "AUC for class 1: 0.9271\n",
            "accuracy for class 1: 0.8563\n",
            "F1 score for class 1: 0.8656\n",
            "AUC for class 2: 0.8250\n",
            "accuracy for class 2: 0.7143\n",
            "F1 score for class 2: 0.7471\n",
            "AUC for class 3: 0.3031\n",
            "accuracy for class 3: 0.4166\n",
            "F1 score for class 3: 0.3239\n",
            "AUC for class 4: 0.5972\n",
            "accuracy for class 4: 0.6507\n",
            "F1 score for class 4: 0.7049\n",
            "experiment for wd:0.005 and channels:[64, 64]\n",
            "Epoch: 1,Loss: 2.748706102371216\n",
            "Epoch: 2,Loss: 2.528428554534912\n",
            "Epoch: 3,Loss: 2.3390963077545166\n",
            "Epoch: 4,Loss: 2.312091112136841\n",
            "Epoch: 5,Loss: 2.3107218742370605\n",
            "Epoch: 6,Loss: 2.314969778060913\n",
            "Epoch: 7,Loss: 2.3124141693115234\n",
            "AUC for class 1: 0.9178\n",
            "accuracy for class 1: 0.8616\n",
            "F1 score for class 1: 0.8713\n",
            "AUC for class 2: 0.9080\n",
            "accuracy for class 2: 0.7726\n",
            "F1 score for class 2: 0.8039\n",
            "AUC for class 3: 0.3085\n",
            "accuracy for class 3: 0.4969\n",
            "F1 score for class 3: 0.4193\n",
            "AUC for class 4: 0.7029\n",
            "accuracy for class 4: 0.6556\n",
            "F1 score for class 4: 0.6730\n",
            "AUC for class 1: 0.9081\n",
            "accuracy for class 1: 0.8507\n",
            "F1 score for class 1: 0.8601\n",
            "AUC for class 2: 0.9018\n",
            "accuracy for class 2: 0.7632\n",
            "F1 score for class 2: 0.7984\n",
            "AUC for class 3: 0.2961\n",
            "accuracy for class 3: 0.4802\n",
            "F1 score for class 3: 0.4132\n",
            "AUC for class 4: 0.6925\n",
            "accuracy for class 4: 0.6672\n",
            "F1 score for class 4: 0.6941\n",
            "experiment for wd:0.01 and channels:[64, 64]\n",
            "Epoch: 1,Loss: 2.7601757049560547\n",
            "Epoch: 2,Loss: 2.567918062210083\n",
            "Epoch: 3,Loss: 2.370378255844116\n",
            "Epoch: 4,Loss: 2.319147825241089\n",
            "Epoch: 5,Loss: 2.3155031204223633\n",
            "Epoch: 6,Loss: 2.317316770553589\n",
            "Epoch: 7,Loss: 2.316324472427368\n",
            "AUC for class 1: 0.9175\n",
            "accuracy for class 1: 0.8616\n",
            "F1 score for class 1: 0.8713\n",
            "AUC for class 2: 0.6610\n",
            "accuracy for class 2: 0.5000\n",
            "F1 score for class 2: 0.6667\n",
            "AUC for class 3: 0.2792\n",
            "accuracy for class 3: 0.4802\n",
            "F1 score for class 3: 0.4169\n",
            "AUC for class 4: 0.7014\n",
            "accuracy for class 4: 0.7020\n",
            "F1 score for class 4: 0.7429\n",
            "AUC for class 1: 0.9074\n",
            "accuracy for class 1: 0.8507\n",
            "F1 score for class 1: 0.8601\n",
            "AUC for class 2: 0.6472\n",
            "accuracy for class 2: 0.5000\n",
            "F1 score for class 2: 0.6667\n",
            "AUC for class 3: 0.2714\n",
            "accuracy for class 3: 0.4578\n",
            "F1 score for class 3: 0.4077\n",
            "AUC for class 4: 0.7044\n",
            "accuracy for class 4: 0.6556\n",
            "F1 score for class 4: 0.7127\n"
          ]
        }
      ],
      "source": [
        "## TUNING\n",
        "wd=[1e-3, 5e-3, 1e-2]\n",
        "hid=[[32,32],[64,32],[64,64]]\n",
        "mode=['multiplicative-self-attention','additive-self-attention']\n",
        "mec=['within-relation','across-relation']\n",
        "val_auc=np.empty((5,3))\n",
        "test_auc=np.empty((5,3))\n",
        "for h in hid:\n",
        "    #c1=0\n",
        "    for i in  wd:\n",
        "            #c2=0\n",
        "            modelRGAT = GAE(\n",
        "                RGAT(num_nodes=data.num_nodes,hidden_channels=h[0], out_channels=h[1], num_relations=len(edge_types),dim=1,\n",
        "                     attention_mode='multiplicative-self-attention',attention_mechanism='within-relation',heads=1),\n",
        "                DistMultDecoder(len(edge_types), hidden_channels=h[1])\n",
        "                ).to(device)\n",
        "            optimizer = torch.optim.Adam(modelRGAT.parameters(), lr=0.01, weight_decay=i)\n",
        "            modelRGAT.loss=torch.nn.BCEWithLogitsLoss()\n",
        "            print(f\"experiment for wd:{i} and channels:{h}\")\n",
        "            trained=train_batch(modelRGAT,epochs=7)\n",
        "            evaluate(val_data,trained)\n",
        "            evaluate(test_data,trained)\n",
        "            #c2+=1\n",
        "    #c2+=1\n",
        "#print(val_auc)\n",
        "#print(test_auc)\n"
      ],
      "id": "XRU-8N8tQFtE"
    },
    {
      "cell_type": "markdown",
      "metadata": {
        "id": "33e47e6a"
      },
      "source": [
        "## RGAT-MTES WITH ACTUAL NODE FEATURES"
      ],
      "id": "33e47e6a"
    },
    {
      "cell_type": "code",
      "execution_count": null,
      "metadata": {
        "id": "dfb9075b"
      },
      "outputs": [],
      "source": [
        "from torch_geometric.nn import RGATConv, GAE\n",
        "import torch.nn.functional as F\n",
        "from torch.nn import Parameter\n",
        "\n",
        "class RGAT(torch.nn.Module):\n",
        "    def __init__(self, feature_dim, hidden_channels, out_channels,\n",
        "                 num_relations,dim, edge_dim=None ,attention_mechanism='within-relation', attention_mode='multiplicative-self-attention',\n",
        "                 heads=1, concat=False):\n",
        "        super().__init__()\n",
        "        self.conv1 = RGATConv(feature_dim, hidden_channels, num_relations,attention_mode= attention_mode,dim=dim)\n",
        "        self.conv2 = RGATConv(dim*hidden_channels, out_channels, num_relations,attention_mode=attention_mode,dim=dim )\n",
        "        #self.lin = torch.nn.Linear(-1, out_channels)\n",
        "        self.reset_parameters()\n",
        "\n",
        "    def reset_parameters(self):\n",
        "        self.conv1.reset_parameters()\n",
        "        self.conv2.reset_parameters()\n",
        "\n",
        "    def forward(self, x, edge_index, edge_type, edge_attr):\n",
        "        #x = self.node_emb()\n",
        "        x = self.conv1(x, edge_index, edge_type, edge_attr).relu()\n",
        "        z = self.conv2(x, edge_index, edge_type, edge_attr).relu()\n",
        "        #x = self.lin(x)\n",
        "        return z  #F.log_softmax(x, dim=-1)\n",
        "\n",
        "\n",
        "class DistMultDecoder(torch.nn.Module):\n",
        "    def __init__(self, num_relations, hidden_channels):\n",
        "        super().__init__()\n",
        "        self.rel_emb = Parameter(torch.Tensor(num_relations, hidden_channels))\n",
        "        self.reset_parameters()\n",
        "\n",
        "    def reset_parameters(self):\n",
        "        torch.nn.init.xavier_uniform_(self.rel_emb)\n",
        "\n",
        "    def forward(self, z, edge_label_index):\n",
        "        scores={}\n",
        "        for i in range(len(edge_types)):\n",
        "                z_src, z_dst = z[edge_label_index[i+1][0]], z[edge_label_index[i+1][1]]\n",
        "#         out=torch.empty(0)\n",
        "#         for i in range(len(edge_type)):\n",
        "#             #score=torch.sum(z_src[i]*rel_emb*z_dst[i], dim=1)\n",
        "#             out=torch.cat([out,torch.max(torch.sum(z_src[i-1]*rel_emb*z_dst[i-1], dim=1).sigmoid(),dim=0,keepdim=True).indices+1],dim=-1)\n",
        "#         pred=out#.to(torch.int64)\n",
        "                scores[i]=torch.sum(z_src*self.rel_emb[i]*z_dst, dim=1)\n",
        "        return  scores\n"
      ],
      "id": "dfb9075b"
    },
    {
      "cell_type": "code",
      "execution_count": null,
      "metadata": {
        "id": "IgRO1oiXylnD"
      },
      "outputs": [],
      "source": [
        "modelRGAT = GAE(\n",
        "    RGAT(feature_dim=data['Company'].x.size(1),hidden_channels=64, out_channels=32,num_relations=len(edge_types),dim=1),\n",
        "    DistMultDecoder(len(edge_types), hidden_channels=32)).to(device)\n",
        "optimizer = torch.optim.Adam(modelRGAT.parameters(), lr=0.01, weight_decay=0.01) # weight_decay=0.01 optima for 1 sector\n",
        "modelRGAT.loss=torch.nn.BCEWithLogitsLoss()"
      ],
      "id": "IgRO1oiXylnD"
    },
    {
      "cell_type": "code",
      "source": [
        "from torch_geometric.profile import count_parameters\n",
        "count_parameters(modelRGAT)\n"
      ],
      "metadata": {
        "colab": {
          "base_uri": "https://localhost:8080/"
        },
        "id": "qy_VfGScUuep",
        "outputId": "0ac2b83f-b322-4b22-e39f-33bfa93d3e1c"
      },
      "id": "qy_VfGScUuep",
      "execution_count": null,
      "outputs": [
        {
          "output_type": "execute_result",
          "data": {
            "text/plain": [
              "517504"
            ]
          },
          "metadata": {},
          "execution_count": 54
        }
      ]
    },
    {
      "cell_type": "code",
      "execution_count": null,
      "metadata": {
        "id": "7d7b1a3f"
      },
      "outputs": [],
      "source": [
        "#Train with mini-batchs\n",
        "def train_batch(model,epochs):\n",
        "    model.train()\n",
        "    for epoch in range(epochs):\n",
        "        total_examples = total_loss = 0\n",
        "        #z_train=torch.empty([data.num_nodes, model.encoder.conv1.out_channels])\n",
        "        for batch in train_loader:\n",
        "            optimizer.zero_grad()\n",
        "            batch = batch.to(device)\n",
        "            batch_size = train_loader.batch_size\n",
        "            edgetype, edge_indexes=torch.empty(1,0),torch.empty(2,0)\n",
        "            labelled_edge_indexes={}\n",
        "            labelled_edgetype={}\n",
        "            #out={}\n",
        "            i=1\n",
        "            for key in edge_types:\n",
        "                edge_indexes=torch.cat([edge_indexes,batch[key].edge_index],dim=-1).to(torch.int64)\n",
        "                edgetype=torch.cat([edgetype,torch.full((1,batch[key].edge_index.size(1)),i-1)],dim=-1).to(torch.int64)\n",
        "                labelled_edge_indexes[i]=batch[key].edge_label_index\n",
        "                labelled_edgetype[i]=batch[key].edge_label\n",
        "                i+=1\n",
        "            #edge_indexes=edge_indexes.view(-1)\n",
        "            edgetype=edgetype.view(-1)\n",
        "            #labelled_edgetype=labelled_edgetype.view(-1)\n",
        "            #edge_labels=[torch.where(labelled_edgetype == i+1, 1, torch.tensor(0)).to(torch.float)  for i in  range(len(edge_types))]\n",
        "            #labelled_edge_indexes=labelled_edge_indexes.view(-1)\n",
        "            z = model.encode(data['Company'].x,edge_indexes, edge_type=edgetype,edge_attr=None)\n",
        "            #z_train+=z*batch_size\n",
        "\n",
        "            out = model.decode(z, labelled_edge_indexes)\n",
        "            #out_all=torch.stack([out[0].sigmoid(), out[1].sigmoid(),out[2].sigmoid(),out[3].sigmoid()])\n",
        "            loss=float(0)\n",
        "            for i in  range(len(edge_types)):\n",
        "                loss += model.loss(out[i], labelled_edgetype[i+1])\n",
        "            total_examples += batch_size\n",
        "            total_loss += loss * batch_size\n",
        "            #loss_final=total_loss/total_examples\n",
        "            loss.backward()\n",
        "            torch.nn.utils.clip_grad_norm_(model.parameters(), 1.)\n",
        "            optimizer.step()\n",
        "        print(f'Epoch: {epoch + 1},Loss: {total_loss/total_examples}')\n",
        "        #z_trained=z_train/total_examples\n",
        "    return  model"
      ],
      "id": "7d7b1a3f"
    },
    {
      "cell_type": "code",
      "execution_count": null,
      "metadata": {
        "colab": {
          "base_uri": "https://localhost:8080/"
        },
        "id": "bf0bcbff",
        "outputId": "8282a2e5-0e85-4628-b45a-15ea33e64e12"
      },
      "outputs": [
        {
          "output_type": "stream",
          "name": "stdout",
          "text": [
            "Epoch: 1,Loss: 253736.640625\n"
          ]
        }
      ],
      "source": [
        "trained_RGAT=train_batch(modelRGAT,epochs=5)"
      ],
      "id": "bf0bcbff"
    },
    {
      "cell_type": "code",
      "execution_count": null,
      "metadata": {
        "id": "Xj0TX93nzB7w"
      },
      "outputs": [],
      "source": [
        "from sklearn.metrics import f1_score, roc_auc_score, accuracy_score, precision_score,confusion_matrix,ConfusionMatrixDisplay\n",
        "\n",
        "def evaluate(data,model,t=0.5):\n",
        "    model.eval()\n",
        "    #y_true, y_pred = [], []\n",
        "    with torch.no_grad():\n",
        "        edgetype, edge_indexes=torch.empty(1,0),torch.empty(2,0)\n",
        "        labelled_edge_indexes={}\n",
        "        labelled_edgetype={}\n",
        "            #out={}\n",
        "        i=1\n",
        "        for key in edge_types:\n",
        "                edge_indexes=torch.cat([edge_indexes,data[key].edge_index],dim=-1).to(torch.int64)\n",
        "                edgetype=torch.cat([edgetype,torch.full((1,data[key].edge_index.size(1)),i-1)],dim=-1).to(torch.int64)\n",
        "                labelled_edge_indexes[i]=data[key].edge_label_index\n",
        "                labelled_edgetype[i]=data[key].edge_label\n",
        "                i+=1\n",
        "            #edge_indexes=edge_indexes.view(-1)\n",
        "        edgetype=edgetype.view(-1)\n",
        "        z = model.encode(data['Company'].x,edge_indexes, edge_type=edgetype,edge_attr=None)\n",
        "        scores = model.decode(z, labelled_edge_indexes)\n",
        "        #scores_all=torch.stack([scores[0].sigmoid(), scores[1].sigmoid(),scores[2].sigmoid(),scores[3].sigmoid()])\n",
        "    for i in  range(len(edge_types)):\n",
        "            auc = roc_auc_score(labelled_edgetype[i+1].numpy(), scores[i].sigmoid().numpy())\n",
        "            #acc = accuracy_score(labelled_edgetype[i+1].numpy(), [1 if p >= t else 0 for p in scores[i].sigmoid().numpy()])\n",
        "            #prec = precision_score(labelled_edgetype[i+1].numpy(), [1 if p >= t else 0 for p in scores[i].sigmoid().numpy()])\n",
        "            f1=f1_score(labelled_edgetype[i+1].numpy(), [1 if p >= t else 0 for p in scores[i].sigmoid().numpy()])\n",
        "            print(f\"AUC for class {i+1}: {auc:.4f}\")\n",
        "            #print(f\"accuracy for class {i+1}: {acc:.4f}\")\n",
        "            print(f\"F1 score for class {i+1}: {f1:.4f}\")\n",
        "            #print(f\"precision for class {i+1}: {prec:.4f}\")\n",
        "            #mat=confusion_matrix(labelled_edgetype[i+1].numpy(), [1 if p >= 0.5 else 0 for p in scores[i].sigmoid().numpy()])\n",
        "            #disp = ConfusionMatrixDisplay(confusion_matrix=mat,display_labels=labelled_edgetype[i+1].unique())\n",
        "            #disp.plot()\n",
        "    return z"
      ],
      "id": "Xj0TX93nzB7w"
    },
    {
      "cell_type": "code",
      "execution_count": null,
      "metadata": {
        "id": "558d6d34",
        "outputId": "9d8c6bf9-b048-4632-ae29-20aeba5be093",
        "colab": {
          "base_uri": "https://localhost:8080/"
        }
      },
      "outputs": [
        {
          "output_type": "stream",
          "name": "stdout",
          "text": [
            "AUC for class 1: 0.8648\n",
            "F1 score for class 1: 0.6693\n",
            "AUC for class 2: 0.1278\n",
            "F1 score for class 2: 0.0070\n",
            "AUC for class 3: 0.1147\n",
            "F1 score for class 3: 0.0084\n",
            "AUC for class 4: 0.3438\n",
            "F1 score for class 4: 0.0000\n"
          ]
        },
        {
          "output_type": "execute_result",
          "data": {
            "text/plain": [
              "tensor([[0.0000, 0.0000, 0.0083,  ..., 0.0000, 0.0882, 0.0021],\n",
              "        [0.0000, 0.0000, 0.0083,  ..., 0.0000, 0.0882, 0.0021],\n",
              "        [0.0000, 0.0000, 0.0083,  ..., 0.0000, 0.0882, 0.0021],\n",
              "        ...,\n",
              "        [0.0000, 0.0000, 0.0083,  ..., 0.0000, 0.0882, 0.0021],\n",
              "        [0.0000, 0.0000, 0.0083,  ..., 0.0000, 0.0882, 0.0021],\n",
              "        [0.0000, 0.0000, 0.0083,  ..., 0.0000, 0.0882, 0.0021]])"
            ]
          },
          "metadata": {},
          "execution_count": 57
        }
      ],
      "source": [
        "evaluate(val_data,modelRGAT)"
      ],
      "id": "558d6d34"
    },
    {
      "cell_type": "code",
      "execution_count": null,
      "metadata": {
        "colab": {
          "base_uri": "https://localhost:8080/"
        },
        "id": "4ANhtpgGzs5x",
        "outputId": "e51f22c1-6d6d-4353-a351-34aef4f1df8e"
      },
      "outputs": [
        {
          "name": "stdout",
          "output_type": "stream",
          "text": [
            "experiment for wd:0 and channels:[64, 32]\n"
          ]
        }
      ],
      "source": [
        "## TUNING\n",
        "wd=[0, 0.1,0.2,0.3]\n",
        "hid=[[64,32],[64,64]]\n",
        "mode=['multiplicative-self-attention','additive-self-attention']\n",
        "mec=['within-relation','across-relation']\n",
        "val_auc=np.empty((5,3))\n",
        "test_auc=np.empty((5,3))\n",
        "for h in hid:\n",
        "    #c1=0\n",
        "    for i in  wd:\n",
        "            #c2=0\n",
        "            modelRGAT = GAE(\n",
        "                 RGAT(feature_dim=data['Company'].x.size(1),hidden_channels=h[0], out_channels=h[1],num_relations=len(edge_types),dim=1),\n",
        "                 DistMultDecoder(len(edge_types), hidden_channels=h[1])).to(device)\n",
        "            optimizer = torch.optim.Adam(modelRGAT.parameters(), lr=0.01, weight_decay=i)\n",
        "            modelRGAT.loss=torch.nn.BCEWithLogitsLoss()\n",
        "            print(f\"experiment for wd:{i} and channels:{h}\")\n",
        "            trained=train_batch(modelRGAT,epochs=7)\n",
        "            evaluate(val_data,trained)\n",
        "            evaluate(test_data,trained)\n",
        "            #c2+=1\n",
        "    #c2+=1\n",
        "#print(val_auc)\n",
        "#print(test_auc)\n"
      ],
      "id": "4ANhtpgGzs5x"
    },
    {
      "cell_type": "markdown",
      "metadata": {
        "id": "xjm-5f2HBOgq"
      },
      "source": [
        "## Batch evaluation for entire network (if needed)"
      ],
      "id": "xjm-5f2HBOgq"
    },
    {
      "cell_type": "code",
      "execution_count": null,
      "metadata": {
        "id": "91210440"
      },
      "outputs": [],
      "source": [
        "from sklearn.metrics import roc_auc_score, accuracy_score,roc_curve ,RocCurveDisplay\n",
        "\n",
        "def evaluate_batch(loader,model):\n",
        "    model.eval()\n",
        "    #y_true, y_pred = [], []\n",
        "    y_true, y_pred=torch.empty(4,0),torch.empty(4,0)\n",
        "    for batch in loader:\n",
        "        with torch.no_grad():\n",
        "            batch = batch.to(device)\n",
        "            edgetype, edge_indexes, labelled_edge_indexes, labelled_edgetype=torch.empty(1,0),torch.empty(2,0),torch.empty(2,0),torch.empty(0)\n",
        "            #labelled_edge=torch.empty(0)\n",
        "            i=1\n",
        "            for key in edge_types:\n",
        "                #edge_indexes=torch.cat([edge_indexes,batch[key].edge_index],dim=-1).to(torch.int64)\n",
        "                #edgetype=torch.cat([edgetype,torch.full((1,batch[key].edge_index.size(1)),i)],dim=-1).to(torch.int64)\n",
        "                labelled_edge_indexes=torch.cat([labelled_edge_indexes,batch[key].edge_label_index],dim=-1).to(torch.int64)\n",
        "                labelled_edgetype=torch.cat([labelled_edgetype,batch[key].edge_label*i],dim=-1).to(torch.int64)\n",
        "                #labelled_edge=torch.cat([labelled_edge,batch[key].edge_label],dim=-1)\n",
        "                i+=1\n",
        "            #edge_indexes=edge_indexes.view(-1)\n",
        "            #edgetype=edgetype.view(-1)\n",
        "            #labelled_edgetype=labelled_edgetype.view(-1)\n",
        "            edge_labels=[torch.where(labelled_edgetype == i+1, 1, torch.tensor(0)).to(torch.float)  for i in  range(len(edge_types))]\n",
        "            labels=torch.stack([edge_labels[0], edge_labels[1],edge_labels[2], edge_labels[3]])\n",
        "            z = model.encode(edge_indexes, edge_type=edgetype)\n",
        "            scores = model.decode(z, labelled_edge_indexes)\n",
        "            scores_all=torch.stack([scores[0].sigmoid(), scores[1].sigmoid(),scores[2].sigmoid(),scores[3].sigmoid()])\n",
        "            #scores_max=torch.max(scores_all, dim=0)\n",
        "            #pred=torch.argmax(scores_all, dim=0)+1\n",
        "            y_pred=torch.cat([y_pred,scores_all],dim=1)\n",
        "            y_true =torch.cat([y_true,labels],dim=1)\n",
        "    for i in  range(len(edge_types)):\n",
        "            auc = roc_auc_score(y_true[i].numpy(), y_pred[i].numpy())\n",
        "            acc = accuracy_score(y_true[i].numpy(), [1 if p >= 0.5 else 0 for p in y_pred[i].numpy()])\n",
        "            RocCurveDisplay.from_predictions(y_true[i].numpy(), y_pred[i].numpy())\n",
        "            print(f\"Validation AUC for class {i+1}: {auc:.4f}\")\n",
        "            print(f\"Validation accuracy for class {i+1}: {acc:.4f}\")\n",
        "    return auc, acc\n",
        "\n",
        "\n"
      ],
      "id": "91210440"
    },
    {
      "cell_type": "markdown",
      "metadata": {
        "id": "t7V2xMU1caNd"
      },
      "source": [
        "## APPLICATION TO A SUBGRAPH"
      ],
      "id": "t7V2xMU1caNd"
    },
    {
      "cell_type": "code",
      "execution_count": null,
      "metadata": {
        "id": "FjwrIFIcchyU"
      },
      "outputs": [],
      "source": [
        "from torch_geometric.utils import k_hop_subgraph\n",
        "import random\n",
        "r=random.randint(1, data['Company'].x.size(0))\n",
        "n=25"
      ],
      "id": "FjwrIFIcchyU"
    },
    {
      "cell_type": "code",
      "execution_count": null,
      "metadata": {
        "id": "a3dW8mNt9ePQ"
      },
      "outputs": [],
      "source": [
        "from sklearn.metrics import roc_auc_score, accuracy_score, precision_score,confusion_matrix,ConfusionMatrixDisplay,top_k_accuracy_score\n",
        "from torch_geometric.utils import k_hop_subgraph\n",
        "import random\n",
        "from itertools import combinations\n",
        "#import tensorflow_ranking as tfr\n",
        "def predict(data,model,hop):\n",
        "    model.eval()\n",
        "    #y_true, y_pred = [], []\n",
        "    with torch.no_grad():\n",
        "        edgetype, edge_indexes=torch.empty(1,0),torch.empty(2,0)\n",
        "        i=1\n",
        "        for key in edge_types:\n",
        "                edge_indexes=torch.cat([edge_indexes,data[key].edge_index],dim=-1).to(torch.int64)\n",
        "                edgetype=torch.cat([edgetype,torch.full((1,data[key].edge_index.size(1)),i-1)],dim=-1).to(torch.int64)\n",
        "                i+=1\n",
        "            #edge_indexes=edge_indexes.view(-1)\n",
        "        edgetype=edgetype.view(-1)\n",
        "        subset, edge_index, mapping, edge_mask = k_hop_subgraph(r, hop, edge_indexes, relabel_nodes=False)\n",
        "        combinations_2 = list(combinations(subset, 2))\n",
        "        comb=torch.tensor(combinations_2)\n",
        "        c={}\n",
        "        for i in  range(len(edge_types)):\n",
        "          c[i+1]=comb.T\n",
        "        #z = model.encode(edge_indexes, edge_type=edgetype)\n",
        "        z = model.encode(edge_index, edge_type=edgetype[edge_mask])\n",
        "        scores = model.decode(z, c)\n",
        "        pred={}\n",
        "    for i in  range(len(edge_types)):\n",
        "            pred[i+1] = scores[i].sigmoid()\n",
        "            #print(f\"Probability for class {i+1}: {pred[i+1]}\")\n",
        "    return pred\n"
      ],
      "id": "a3dW8mNt9ePQ"
    },
    {
      "cell_type": "code",
      "execution_count": null,
      "metadata": {
        "id": "9WbkcGwSAGjg"
      },
      "outputs": [],
      "source": [
        "prob=predict(data,modelRGCN_trained,hop=2)"
      ],
      "id": "9WbkcGwSAGjg"
    },
    {
      "cell_type": "code",
      "execution_count": null,
      "metadata": {
        "colab": {
          "base_uri": "https://localhost:8080/"
        },
        "id": "jazCNom8-lCx",
        "outputId": "1795d0f0-c19f-418f-bc08-acd476c1b727"
      },
      "outputs": [
        {
          "data": {
            "text/plain": [
              "{1: tensor([0.0118, 0.0044, 0.0314, 0.0055, 0.2844, 0.0090, 0.0967, 0.0118, 0.4792,\n",
              "         0.0232, 0.0044, 0.2443, 0.0314, 0.7523, 0.2844]),\n",
              " 2: tensor([0.4945, 0.4894, 0.5004, 0.4939, 0.5035, 0.4890, 0.5063, 0.4945, 0.5092,\n",
              "         0.4950, 0.4894, 0.5002, 0.5004, 0.5199, 0.5035]),\n",
              " 3: tensor([0.4936, 0.4894, 0.4988, 0.4967, 0.5005, 0.4852, 0.5000, 0.4936, 0.5032,\n",
              "         0.4911, 0.4894, 0.4962, 0.4988, 0.5116, 0.5005]),\n",
              " 4: tensor([0.5040, 0.4882, 0.5223, 0.4917, 0.5270, 0.4987, 0.5542, 0.5040, 0.5536,\n",
              "         0.5147, 0.4882, 0.5210, 0.5223, 0.5920, 0.5270])}"
            ]
          },
          "execution_count": 124,
          "metadata": {},
          "output_type": "execute_result"
        }
      ],
      "source": [
        "prob"
      ],
      "id": "jazCNom8-lCx"
    },
    {
      "cell_type": "code",
      "execution_count": null,
      "metadata": {
        "colab": {
          "base_uri": "https://localhost:8080/"
        },
        "id": "T6J6B_oBcfsF",
        "outputId": "139dc499-6160-4eac-e4e2-8f7b4f56d34b"
      },
      "outputs": [
        {
          "data": {
            "text/plain": [
              "torch.Size([1])"
            ]
          },
          "execution_count": 37,
          "metadata": {},
          "output_type": "execute_result"
        }
      ],
      "source": [
        "prob[1][prob[1]>0.55].size()"
      ],
      "id": "T6J6B_oBcfsF"
    },
    {
      "cell_type": "code",
      "execution_count": null,
      "metadata": {
        "id": "nx38MPQcuocm"
      },
      "outputs": [],
      "source": [
        "edgetype, edge_indexes=torch.empty(1,0),torch.empty(2,0)\n",
        "i=1\n",
        "for key in edge_types:\n",
        "                edge_indexes=torch.cat([edge_indexes,data_und[key].edge_index],dim=-1).to(torch.int64)\n",
        "                edgetype=torch.cat([edgetype,torch.full((1,data_und[key].edge_index.size(1)),i-1)],dim=-1).to(torch.int64)\n",
        "                i+=1\n",
        "            #edge_indexes=edge_indexes.view(-1)\n",
        "edgetype=edgetype.view(-1)\n",
        "subset, edge_index, mapping, edge_mask = k_hop_subgraph(r, 2, edge_indexes, relabel_nodes=False)\n",
        "combinations_2 = list(combinations(subset, 2))\n",
        "comb=torch.tensor(combinations_2)"
      ],
      "id": "nx38MPQcuocm"
    },
    {
      "cell_type": "code",
      "execution_count": null,
      "metadata": {
        "colab": {
          "base_uri": "https://localhost:8080/"
        },
        "id": "x-daTMPQ9rNW",
        "outputId": "deb36688-c4ce-4299-9053-5aa3b46764da"
      },
      "outputs": [
        {
          "data": {
            "text/plain": [
              "tensor([ 9901, 17720, 23130, 26254, 26690, 34376])"
            ]
          },
          "execution_count": 118,
          "metadata": {},
          "output_type": "execute_result"
        }
      ],
      "source": [
        "subset"
      ],
      "id": "x-daTMPQ9rNW"
    },
    {
      "cell_type": "code",
      "execution_count": null,
      "metadata": {
        "colab": {
          "base_uri": "https://localhost:8080/"
        },
        "id": "JW2DHsJdwdsX",
        "outputId": "571f48b9-5698-4e8d-8c70-9da3c8a33ab5"
      },
      "outputs": [
        {
          "data": {
            "text/plain": [
              "tensor([[ 9901, 17720, 26254, 26690, 26254, 17720, 26690, 34376],\n",
              "        [34376, 34376, 34376, 34376, 17720, 26254, 26254, 23130]])"
            ]
          },
          "execution_count": 119,
          "metadata": {},
          "output_type": "execute_result"
        }
      ],
      "source": [
        "edge_index"
      ],
      "id": "JW2DHsJdwdsX"
    },
    {
      "cell_type": "code",
      "execution_count": null,
      "metadata": {
        "colab": {
          "base_uri": "https://localhost:8080/"
        },
        "id": "u4bo_VB1u8Bc",
        "outputId": "fc783f78-88bf-41a5-b4d1-ebf9045abbb0"
      },
      "outputs": [
        {
          "data": {
            "text/plain": [
              "tensor([0, 0, 0, 0, 1, 1, 2, 3])"
            ]
          },
          "execution_count": 120,
          "metadata": {},
          "output_type": "execute_result"
        }
      ],
      "source": [
        "edgetype[edge_mask]"
      ],
      "id": "u4bo_VB1u8Bc"
    },
    {
      "cell_type": "code",
      "execution_count": null,
      "metadata": {
        "colab": {
          "base_uri": "https://localhost:8080/"
        },
        "id": "BbzPFXQs_aEf",
        "outputId": "c3619556-6d89-4cc6-dde9-aeae604abec9"
      },
      "outputs": [
        {
          "data": {
            "text/plain": [
              "tensor([[ 9901, 17720],\n",
              "        [ 9901, 23130],\n",
              "        [ 9901, 26254],\n",
              "        [ 9901, 26690],\n",
              "        [ 9901, 34376],\n",
              "        [17720, 23130],\n",
              "        [17720, 26254],\n",
              "        [17720, 26690],\n",
              "        [17720, 34376],\n",
              "        [23130, 26254],\n",
              "        [23130, 26690],\n",
              "        [23130, 34376],\n",
              "        [26254, 26690],\n",
              "        [26254, 34376],\n",
              "        [26690, 34376]])"
            ]
          },
          "execution_count": 121,
          "metadata": {},
          "output_type": "execute_result"
        }
      ],
      "source": [
        "comb"
      ],
      "id": "BbzPFXQs_aEf"
    },
    {
      "cell_type": "code",
      "execution_count": null,
      "metadata": {
        "id": "IfHWr0fxASKU"
      },
      "outputs": [],
      "source": [],
      "id": "IfHWr0fxASKU"
    }
  ],
  "metadata": {
    "colab": {
      "collapsed_sections": [
        "84a96b9d",
        "389ac5ab",
        "eea50b4f",
        "bfc3108d"
      ],
      "provenance": []
    },
    "kernelspec": {
      "display_name": "Python 3 (ipykernel)",
      "language": "python",
      "name": "python3"
    },
    "language_info": {
      "codemirror_mode": {
        "name": "ipython",
        "version": 3
      },
      "file_extension": ".py",
      "mimetype": "text/x-python",
      "name": "python",
      "nbconvert_exporter": "python",
      "pygments_lexer": "ipython3",
      "version": "3.10.9"
    }
  },
  "nbformat": 4,
  "nbformat_minor": 5
}
